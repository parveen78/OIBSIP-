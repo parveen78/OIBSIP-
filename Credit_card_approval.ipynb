{
  "nbformat": 4,
  "nbformat_minor": 0,
  "metadata": {
    "colab": {
      "provenance": [],
      "authorship_tag": "ABX9TyOwbwPEJRNc4lEZszF6C+Tc",
      "include_colab_link": true
    },
    "kernelspec": {
      "name": "python3",
      "display_name": "Python 3"
    },
    "language_info": {
      "name": "python"
    }
  },
  "cells": [
    {
      "cell_type": "markdown",
      "metadata": {
        "id": "view-in-github",
        "colab_type": "text"
      },
      "source": [
        "<a href=\"https://colab.research.google.com/github/parveen78/OIBSIP-/blob/main/Credit_card_approval.ipynb\" target=\"_parent\"><img src=\"https://colab.research.google.com/assets/colab-badge.svg\" alt=\"Open In Colab\"/></a>"
      ]
    },
    {
      "cell_type": "markdown",
      "source": [
        "![images.png](data:image/png;base64,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)"
      ],
      "metadata": {
        "id": "3coIWjkeUbBZ"
      }
    },
    {
      "cell_type": "markdown",
      "source": [
        "#INTRODUCTION\n",
        "Credit score cards are a common risk control method in the financial industry. It uses personal information and data submitted by credit card applicants to predict the probability of future defaults and credit card borrowings. The bank is able to decide whether to issue a credit card to the applicant. Credit scores can objectively quantify the magnitude of risk.\n",
        "\n",
        "#Objective of the study:\n",
        "Credit Card department in a bank is a leading data science adopter. Acquiring new credit card users is always a key priority for the bank. Giving credit cards without due diligence or assessment for creditworthiness is a huge risk.\n",
        "\n",
        "From the last many decades, the credit card department is using a data-driven credit assessment methodology called Credit Scoring, and the model is called application scorecard. The application scorecard helps in the calculating level of risk associated with an applicant and based on strategic priority at a time, they decide the cut off value of the score for approving or rejecting a credit card application.\n",
        "\n",
        "#Data\n",
        "Two files are available. One Credit_card data, and the second one credit_card_label status information.\n",
        "\n",
        "The application data will be used for feature creation. And the status (credit card label status) will be required for defining the labels - which of the applications have Rejected and which of these are approved.\n",
        "\n",
        "#Application\n",
        "For a credit card, the customers fill-up the form - online or a physical. The application information is used for assessing the creditworthiness of the customer. In addition to the application information, the Credit Bureau Score e.g. FICO Score in the US, CIBIL Score in India, and other internal information about the applicants are used for the decision.\n",
        "\n",
        "Also, gradually the banks are considering a lot of external data to improve the quality of credit decisions.\n",
        "\n",
        "Now, we will read and explore the Credit_card data file provided."
      ],
      "metadata": {
        "id": "QPwCoUCwUj6P"
      }
    },
    {
      "cell_type": "code",
      "execution_count": 4,
      "metadata": {
        "id": "DvK5EswLGs7M"
      },
      "outputs": [],
      "source": [
        "# Importing the Basic library\n",
        "import pandas as pd\n",
        "import numpy as np\n",
        "import matplotlib.pyplot as plt\n",
        "import seaborn as sns\n",
        "import plotly.express as px\n",
        "import missingno as msno\n",
        "from fancyimpute import KNN\n",
        "from sklearn.model_selection import train_test_split\n",
        "from sklearn.linear_model import LogisticRegression\n",
        "from sklearn.metrics import accuracy_score,confusion_matrix\n",
        "\n"
      ]
    },
    {
      "cell_type": "code",
      "source": [
        "!pip install fancyimpute # fancy impute installer "
      ],
      "metadata": {
        "colab": {
          "base_uri": "https://localhost:8080/"
        },
        "id": "qyAct3mgY4NL",
        "outputId": "aa704904-4098-4926-98a4-e9616e5466ee"
      },
      "execution_count": 5,
      "outputs": [
        {
          "output_type": "stream",
          "name": "stdout",
          "text": [
            "Looking in indexes: https://pypi.org/simple, https://us-python.pkg.dev/colab-wheels/public/simple/\n",
            "Requirement already satisfied: fancyimpute in /usr/local/lib/python3.10/dist-packages (0.7.0)\n",
            "Requirement already satisfied: knnimpute>=0.1.0 in /usr/local/lib/python3.10/dist-packages (from fancyimpute) (0.1.0)\n",
            "Requirement already satisfied: scikit-learn>=0.24.2 in /usr/local/lib/python3.10/dist-packages (from fancyimpute) (1.2.2)\n",
            "Requirement already satisfied: cvxpy in /usr/local/lib/python3.10/dist-packages (from fancyimpute) (1.3.1)\n",
            "Requirement already satisfied: cvxopt in /usr/local/lib/python3.10/dist-packages (from fancyimpute) (1.3.0)\n",
            "Requirement already satisfied: pytest in /usr/local/lib/python3.10/dist-packages (from fancyimpute) (7.2.2)\n",
            "Requirement already satisfied: nose in /usr/local/lib/python3.10/dist-packages (from fancyimpute) (1.3.7)\n",
            "Requirement already satisfied: six in /usr/local/lib/python3.10/dist-packages (from knnimpute>=0.1.0->fancyimpute) (1.16.0)\n",
            "Requirement already satisfied: numpy>=1.10 in /usr/local/lib/python3.10/dist-packages (from knnimpute>=0.1.0->fancyimpute) (1.22.4)\n",
            "Requirement already satisfied: scipy>=1.3.2 in /usr/local/lib/python3.10/dist-packages (from scikit-learn>=0.24.2->fancyimpute) (1.10.1)\n",
            "Requirement already satisfied: joblib>=1.1.1 in /usr/local/lib/python3.10/dist-packages (from scikit-learn>=0.24.2->fancyimpute) (1.2.0)\n",
            "Requirement already satisfied: threadpoolctl>=2.0.0 in /usr/local/lib/python3.10/dist-packages (from scikit-learn>=0.24.2->fancyimpute) (3.1.0)\n",
            "Requirement already satisfied: osqp>=0.4.1 in /usr/local/lib/python3.10/dist-packages (from cvxpy->fancyimpute) (0.6.2.post8)\n",
            "Requirement already satisfied: ecos>=2 in /usr/local/lib/python3.10/dist-packages (from cvxpy->fancyimpute) (2.0.12)\n",
            "Requirement already satisfied: scs>=1.1.6 in /usr/local/lib/python3.10/dist-packages (from cvxpy->fancyimpute) (3.2.3)\n",
            "Requirement already satisfied: setuptools>65.5.1 in /usr/local/lib/python3.10/dist-packages (from cvxpy->fancyimpute) (67.7.2)\n",
            "Requirement already satisfied: attrs>=19.2.0 in /usr/local/lib/python3.10/dist-packages (from pytest->fancyimpute) (23.1.0)\n",
            "Requirement already satisfied: iniconfig in /usr/local/lib/python3.10/dist-packages (from pytest->fancyimpute) (2.0.0)\n",
            "Requirement already satisfied: packaging in /usr/local/lib/python3.10/dist-packages (from pytest->fancyimpute) (23.1)\n",
            "Requirement already satisfied: pluggy<2.0,>=0.12 in /usr/local/lib/python3.10/dist-packages (from pytest->fancyimpute) (1.0.0)\n",
            "Requirement already satisfied: exceptiongroup>=1.0.0rc8 in /usr/local/lib/python3.10/dist-packages (from pytest->fancyimpute) (1.1.1)\n",
            "Requirement already satisfied: tomli>=1.0.0 in /usr/local/lib/python3.10/dist-packages (from pytest->fancyimpute) (2.0.1)\n",
            "Requirement already satisfied: qdldl in /usr/local/lib/python3.10/dist-packages (from osqp>=0.4.1->cvxpy->fancyimpute) (0.1.7)\n"
          ]
        }
      ]
    },
    {
      "cell_type": "code",
      "source": [
        "import warnings\n",
        "warnings.filterwarnings(\"ignore\") # ignoring wranings"
      ],
      "metadata": {
        "id": "60QLHFeuLYZE"
      },
      "execution_count": 6,
      "outputs": []
    },
    {
      "cell_type": "code",
      "source": [
        "Cr1=pd.read_csv(\"Credit_card.csv\") # It read the CSV file"
      ],
      "metadata": {
        "id": "Id0ZbzPELd5c"
      },
      "execution_count": 7,
      "outputs": []
    },
    {
      "cell_type": "markdown",
      "source": [
        "#Basic Visulalization and Exploratary Data Analysis"
      ],
      "metadata": {
        "id": "mwSwGrAoQ25W"
      }
    },
    {
      "cell_type": "code",
      "source": [
        "Cr1.head() # top 5 rows"
      ],
      "metadata": {
        "colab": {
          "base_uri": "https://localhost:8080/",
          "height": 357
        },
        "id": "pV6IDp5HLovd",
        "outputId": "c8d014f9-d275-49f4-e63c-21baff898a56"
      },
      "execution_count": 8,
      "outputs": [
        {
          "output_type": "execute_result",
          "data": {
            "text/plain": [
              "    Ind_ID GENDER Car_Owner Propert_Owner  CHILDREN  Annual_income  \\\n",
              "0  5008827      M         Y             Y         0       180000.0   \n",
              "1  5009744      F         Y             N         0       315000.0   \n",
              "2  5009746      F         Y             N         0       315000.0   \n",
              "3  5009749      F         Y             N         0            NaN   \n",
              "4  5009752      F         Y             N         0       315000.0   \n",
              "\n",
              "            Type_Income         EDUCATION Marital_status       Housing_type  \\\n",
              "0             Pensioner  Higher education        Married  House / apartment   \n",
              "1  Commercial associate  Higher education        Married  House / apartment   \n",
              "2  Commercial associate  Higher education        Married  House / apartment   \n",
              "3  Commercial associate  Higher education        Married  House / apartment   \n",
              "4  Commercial associate  Higher education        Married  House / apartment   \n",
              "\n",
              "   Birthday_count  Employed_days  Mobile_phone  Work_Phone  Phone  EMAIL_ID  \\\n",
              "0        -18772.0         365243             1           0      0         0   \n",
              "1        -13557.0           -586             1           1      1         0   \n",
              "2             NaN           -586             1           1      1         0   \n",
              "3        -13557.0           -586             1           1      1         0   \n",
              "4        -13557.0           -586             1           1      1         0   \n",
              "\n",
              "  Type_Occupation  Family_Members  \n",
              "0             NaN               2  \n",
              "1             NaN               2  \n",
              "2             NaN               2  \n",
              "3             NaN               2  \n",
              "4             NaN               2  "
            ],
            "text/html": [
              "\n",
              "  <div id=\"df-75509e8b-2623-43a3-9214-dbd50161509f\">\n",
              "    <div class=\"colab-df-container\">\n",
              "      <div>\n",
              "<style scoped>\n",
              "    .dataframe tbody tr th:only-of-type {\n",
              "        vertical-align: middle;\n",
              "    }\n",
              "\n",
              "    .dataframe tbody tr th {\n",
              "        vertical-align: top;\n",
              "    }\n",
              "\n",
              "    .dataframe thead th {\n",
              "        text-align: right;\n",
              "    }\n",
              "</style>\n",
              "<table border=\"1\" class=\"dataframe\">\n",
              "  <thead>\n",
              "    <tr style=\"text-align: right;\">\n",
              "      <th></th>\n",
              "      <th>Ind_ID</th>\n",
              "      <th>GENDER</th>\n",
              "      <th>Car_Owner</th>\n",
              "      <th>Propert_Owner</th>\n",
              "      <th>CHILDREN</th>\n",
              "      <th>Annual_income</th>\n",
              "      <th>Type_Income</th>\n",
              "      <th>EDUCATION</th>\n",
              "      <th>Marital_status</th>\n",
              "      <th>Housing_type</th>\n",
              "      <th>Birthday_count</th>\n",
              "      <th>Employed_days</th>\n",
              "      <th>Mobile_phone</th>\n",
              "      <th>Work_Phone</th>\n",
              "      <th>Phone</th>\n",
              "      <th>EMAIL_ID</th>\n",
              "      <th>Type_Occupation</th>\n",
              "      <th>Family_Members</th>\n",
              "    </tr>\n",
              "  </thead>\n",
              "  <tbody>\n",
              "    <tr>\n",
              "      <th>0</th>\n",
              "      <td>5008827</td>\n",
              "      <td>M</td>\n",
              "      <td>Y</td>\n",
              "      <td>Y</td>\n",
              "      <td>0</td>\n",
              "      <td>180000.0</td>\n",
              "      <td>Pensioner</td>\n",
              "      <td>Higher education</td>\n",
              "      <td>Married</td>\n",
              "      <td>House / apartment</td>\n",
              "      <td>-18772.0</td>\n",
              "      <td>365243</td>\n",
              "      <td>1</td>\n",
              "      <td>0</td>\n",
              "      <td>0</td>\n",
              "      <td>0</td>\n",
              "      <td>NaN</td>\n",
              "      <td>2</td>\n",
              "    </tr>\n",
              "    <tr>\n",
              "      <th>1</th>\n",
              "      <td>5009744</td>\n",
              "      <td>F</td>\n",
              "      <td>Y</td>\n",
              "      <td>N</td>\n",
              "      <td>0</td>\n",
              "      <td>315000.0</td>\n",
              "      <td>Commercial associate</td>\n",
              "      <td>Higher education</td>\n",
              "      <td>Married</td>\n",
              "      <td>House / apartment</td>\n",
              "      <td>-13557.0</td>\n",
              "      <td>-586</td>\n",
              "      <td>1</td>\n",
              "      <td>1</td>\n",
              "      <td>1</td>\n",
              "      <td>0</td>\n",
              "      <td>NaN</td>\n",
              "      <td>2</td>\n",
              "    </tr>\n",
              "    <tr>\n",
              "      <th>2</th>\n",
              "      <td>5009746</td>\n",
              "      <td>F</td>\n",
              "      <td>Y</td>\n",
              "      <td>N</td>\n",
              "      <td>0</td>\n",
              "      <td>315000.0</td>\n",
              "      <td>Commercial associate</td>\n",
              "      <td>Higher education</td>\n",
              "      <td>Married</td>\n",
              "      <td>House / apartment</td>\n",
              "      <td>NaN</td>\n",
              "      <td>-586</td>\n",
              "      <td>1</td>\n",
              "      <td>1</td>\n",
              "      <td>1</td>\n",
              "      <td>0</td>\n",
              "      <td>NaN</td>\n",
              "      <td>2</td>\n",
              "    </tr>\n",
              "    <tr>\n",
              "      <th>3</th>\n",
              "      <td>5009749</td>\n",
              "      <td>F</td>\n",
              "      <td>Y</td>\n",
              "      <td>N</td>\n",
              "      <td>0</td>\n",
              "      <td>NaN</td>\n",
              "      <td>Commercial associate</td>\n",
              "      <td>Higher education</td>\n",
              "      <td>Married</td>\n",
              "      <td>House / apartment</td>\n",
              "      <td>-13557.0</td>\n",
              "      <td>-586</td>\n",
              "      <td>1</td>\n",
              "      <td>1</td>\n",
              "      <td>1</td>\n",
              "      <td>0</td>\n",
              "      <td>NaN</td>\n",
              "      <td>2</td>\n",
              "    </tr>\n",
              "    <tr>\n",
              "      <th>4</th>\n",
              "      <td>5009752</td>\n",
              "      <td>F</td>\n",
              "      <td>Y</td>\n",
              "      <td>N</td>\n",
              "      <td>0</td>\n",
              "      <td>315000.0</td>\n",
              "      <td>Commercial associate</td>\n",
              "      <td>Higher education</td>\n",
              "      <td>Married</td>\n",
              "      <td>House / apartment</td>\n",
              "      <td>-13557.0</td>\n",
              "      <td>-586</td>\n",
              "      <td>1</td>\n",
              "      <td>1</td>\n",
              "      <td>1</td>\n",
              "      <td>0</td>\n",
              "      <td>NaN</td>\n",
              "      <td>2</td>\n",
              "    </tr>\n",
              "  </tbody>\n",
              "</table>\n",
              "</div>\n",
              "      <button class=\"colab-df-convert\" onclick=\"convertToInteractive('df-75509e8b-2623-43a3-9214-dbd50161509f')\"\n",
              "              title=\"Convert this dataframe to an interactive table.\"\n",
              "              style=\"display:none;\">\n",
              "        \n",
              "  <svg xmlns=\"http://www.w3.org/2000/svg\" height=\"24px\"viewBox=\"0 0 24 24\"\n",
              "       width=\"24px\">\n",
              "    <path d=\"M0 0h24v24H0V0z\" fill=\"none\"/>\n",
              "    <path d=\"M18.56 5.44l.94 2.06.94-2.06 2.06-.94-2.06-.94-.94-2.06-.94 2.06-2.06.94zm-11 1L8.5 8.5l.94-2.06 2.06-.94-2.06-.94L8.5 2.5l-.94 2.06-2.06.94zm10 10l.94 2.06.94-2.06 2.06-.94-2.06-.94-.94-2.06-.94 2.06-2.06.94z\"/><path d=\"M17.41 7.96l-1.37-1.37c-.4-.4-.92-.59-1.43-.59-.52 0-1.04.2-1.43.59L10.3 9.45l-7.72 7.72c-.78.78-.78 2.05 0 2.83L4 21.41c.39.39.9.59 1.41.59.51 0 1.02-.2 1.41-.59l7.78-7.78 2.81-2.81c.8-.78.8-2.07 0-2.86zM5.41 20L4 18.59l7.72-7.72 1.47 1.35L5.41 20z\"/>\n",
              "  </svg>\n",
              "      </button>\n",
              "      \n",
              "  <style>\n",
              "    .colab-df-container {\n",
              "      display:flex;\n",
              "      flex-wrap:wrap;\n",
              "      gap: 12px;\n",
              "    }\n",
              "\n",
              "    .colab-df-convert {\n",
              "      background-color: #E8F0FE;\n",
              "      border: none;\n",
              "      border-radius: 50%;\n",
              "      cursor: pointer;\n",
              "      display: none;\n",
              "      fill: #1967D2;\n",
              "      height: 32px;\n",
              "      padding: 0 0 0 0;\n",
              "      width: 32px;\n",
              "    }\n",
              "\n",
              "    .colab-df-convert:hover {\n",
              "      background-color: #E2EBFA;\n",
              "      box-shadow: 0px 1px 2px rgba(60, 64, 67, 0.3), 0px 1px 3px 1px rgba(60, 64, 67, 0.15);\n",
              "      fill: #174EA6;\n",
              "    }\n",
              "\n",
              "    [theme=dark] .colab-df-convert {\n",
              "      background-color: #3B4455;\n",
              "      fill: #D2E3FC;\n",
              "    }\n",
              "\n",
              "    [theme=dark] .colab-df-convert:hover {\n",
              "      background-color: #434B5C;\n",
              "      box-shadow: 0px 1px 3px 1px rgba(0, 0, 0, 0.15);\n",
              "      filter: drop-shadow(0px 1px 2px rgba(0, 0, 0, 0.3));\n",
              "      fill: #FFFFFF;\n",
              "    }\n",
              "  </style>\n",
              "\n",
              "      <script>\n",
              "        const buttonEl =\n",
              "          document.querySelector('#df-75509e8b-2623-43a3-9214-dbd50161509f button.colab-df-convert');\n",
              "        buttonEl.style.display =\n",
              "          google.colab.kernel.accessAllowed ? 'block' : 'none';\n",
              "\n",
              "        async function convertToInteractive(key) {\n",
              "          const element = document.querySelector('#df-75509e8b-2623-43a3-9214-dbd50161509f');\n",
              "          const dataTable =\n",
              "            await google.colab.kernel.invokeFunction('convertToInteractive',\n",
              "                                                     [key], {});\n",
              "          if (!dataTable) return;\n",
              "\n",
              "          const docLinkHtml = 'Like what you see? Visit the ' +\n",
              "            '<a target=\"_blank\" href=https://colab.research.google.com/notebooks/data_table.ipynb>data table notebook</a>'\n",
              "            + ' to learn more about interactive tables.';\n",
              "          element.innerHTML = '';\n",
              "          dataTable['output_type'] = 'display_data';\n",
              "          await google.colab.output.renderOutput(dataTable, element);\n",
              "          const docLink = document.createElement('div');\n",
              "          docLink.innerHTML = docLinkHtml;\n",
              "          element.appendChild(docLink);\n",
              "        }\n",
              "      </script>\n",
              "    </div>\n",
              "  </div>\n",
              "  "
            ]
          },
          "metadata": {},
          "execution_count": 8
        }
      ]
    },
    {
      "cell_type": "code",
      "source": [
        "Cr1.tail() # Bottom 5 rows"
      ],
      "metadata": {
        "colab": {
          "base_uri": "https://localhost:8080/",
          "height": 391
        },
        "id": "kdl9wsF7Lscp",
        "outputId": "bab4f03f-ecae-494e-bc87-9db4c2618a0e"
      },
      "execution_count": 9,
      "outputs": [
        {
          "output_type": "execute_result",
          "data": {
            "text/plain": [
              "       Ind_ID GENDER Car_Owner Propert_Owner  CHILDREN  Annual_income  \\\n",
              "1543  5028645      F         N             Y         0            NaN   \n",
              "1544  5023655      F         N             N         0       225000.0   \n",
              "1545  5115992      M         Y             Y         2       180000.0   \n",
              "1546  5118219      M         Y             N         0       270000.0   \n",
              "1547  5053790      F         Y             Y         0       225000.0   \n",
              "\n",
              "               Type_Income                      EDUCATION  \\\n",
              "1543  Commercial associate               Higher education   \n",
              "1544  Commercial associate              Incomplete higher   \n",
              "1545               Working               Higher education   \n",
              "1546               Working  Secondary / secondary special   \n",
              "1547               Working               Higher education   \n",
              "\n",
              "            Marital_status       Housing_type  Birthday_count  Employed_days  \\\n",
              "1543               Married  House / apartment        -11957.0          -2182   \n",
              "1544  Single / not married  House / apartment        -10229.0          -1209   \n",
              "1545               Married  House / apartment        -13174.0          -2477   \n",
              "1546        Civil marriage  House / apartment        -15292.0           -645   \n",
              "1547               Married  House / apartment        -16601.0          -2859   \n",
              "\n",
              "      Mobile_phone  Work_Phone  Phone  EMAIL_ID Type_Occupation  \\\n",
              "1543             1           0      0         0        Managers   \n",
              "1544             1           0      0         0     Accountants   \n",
              "1545             1           0      0         0        Managers   \n",
              "1546             1           1      1         0         Drivers   \n",
              "1547             1           0      0         0             NaN   \n",
              "\n",
              "      Family_Members  \n",
              "1543               2  \n",
              "1544               1  \n",
              "1545               4  \n",
              "1546               2  \n",
              "1547               2  "
            ],
            "text/html": [
              "\n",
              "  <div id=\"df-9d753e7b-194c-4d46-942e-360a4dcbc0d4\">\n",
              "    <div class=\"colab-df-container\">\n",
              "      <div>\n",
              "<style scoped>\n",
              "    .dataframe tbody tr th:only-of-type {\n",
              "        vertical-align: middle;\n",
              "    }\n",
              "\n",
              "    .dataframe tbody tr th {\n",
              "        vertical-align: top;\n",
              "    }\n",
              "\n",
              "    .dataframe thead th {\n",
              "        text-align: right;\n",
              "    }\n",
              "</style>\n",
              "<table border=\"1\" class=\"dataframe\">\n",
              "  <thead>\n",
              "    <tr style=\"text-align: right;\">\n",
              "      <th></th>\n",
              "      <th>Ind_ID</th>\n",
              "      <th>GENDER</th>\n",
              "      <th>Car_Owner</th>\n",
              "      <th>Propert_Owner</th>\n",
              "      <th>CHILDREN</th>\n",
              "      <th>Annual_income</th>\n",
              "      <th>Type_Income</th>\n",
              "      <th>EDUCATION</th>\n",
              "      <th>Marital_status</th>\n",
              "      <th>Housing_type</th>\n",
              "      <th>Birthday_count</th>\n",
              "      <th>Employed_days</th>\n",
              "      <th>Mobile_phone</th>\n",
              "      <th>Work_Phone</th>\n",
              "      <th>Phone</th>\n",
              "      <th>EMAIL_ID</th>\n",
              "      <th>Type_Occupation</th>\n",
              "      <th>Family_Members</th>\n",
              "    </tr>\n",
              "  </thead>\n",
              "  <tbody>\n",
              "    <tr>\n",
              "      <th>1543</th>\n",
              "      <td>5028645</td>\n",
              "      <td>F</td>\n",
              "      <td>N</td>\n",
              "      <td>Y</td>\n",
              "      <td>0</td>\n",
              "      <td>NaN</td>\n",
              "      <td>Commercial associate</td>\n",
              "      <td>Higher education</td>\n",
              "      <td>Married</td>\n",
              "      <td>House / apartment</td>\n",
              "      <td>-11957.0</td>\n",
              "      <td>-2182</td>\n",
              "      <td>1</td>\n",
              "      <td>0</td>\n",
              "      <td>0</td>\n",
              "      <td>0</td>\n",
              "      <td>Managers</td>\n",
              "      <td>2</td>\n",
              "    </tr>\n",
              "    <tr>\n",
              "      <th>1544</th>\n",
              "      <td>5023655</td>\n",
              "      <td>F</td>\n",
              "      <td>N</td>\n",
              "      <td>N</td>\n",
              "      <td>0</td>\n",
              "      <td>225000.0</td>\n",
              "      <td>Commercial associate</td>\n",
              "      <td>Incomplete higher</td>\n",
              "      <td>Single / not married</td>\n",
              "      <td>House / apartment</td>\n",
              "      <td>-10229.0</td>\n",
              "      <td>-1209</td>\n",
              "      <td>1</td>\n",
              "      <td>0</td>\n",
              "      <td>0</td>\n",
              "      <td>0</td>\n",
              "      <td>Accountants</td>\n",
              "      <td>1</td>\n",
              "    </tr>\n",
              "    <tr>\n",
              "      <th>1545</th>\n",
              "      <td>5115992</td>\n",
              "      <td>M</td>\n",
              "      <td>Y</td>\n",
              "      <td>Y</td>\n",
              "      <td>2</td>\n",
              "      <td>180000.0</td>\n",
              "      <td>Working</td>\n",
              "      <td>Higher education</td>\n",
              "      <td>Married</td>\n",
              "      <td>House / apartment</td>\n",
              "      <td>-13174.0</td>\n",
              "      <td>-2477</td>\n",
              "      <td>1</td>\n",
              "      <td>0</td>\n",
              "      <td>0</td>\n",
              "      <td>0</td>\n",
              "      <td>Managers</td>\n",
              "      <td>4</td>\n",
              "    </tr>\n",
              "    <tr>\n",
              "      <th>1546</th>\n",
              "      <td>5118219</td>\n",
              "      <td>M</td>\n",
              "      <td>Y</td>\n",
              "      <td>N</td>\n",
              "      <td>0</td>\n",
              "      <td>270000.0</td>\n",
              "      <td>Working</td>\n",
              "      <td>Secondary / secondary special</td>\n",
              "      <td>Civil marriage</td>\n",
              "      <td>House / apartment</td>\n",
              "      <td>-15292.0</td>\n",
              "      <td>-645</td>\n",
              "      <td>1</td>\n",
              "      <td>1</td>\n",
              "      <td>1</td>\n",
              "      <td>0</td>\n",
              "      <td>Drivers</td>\n",
              "      <td>2</td>\n",
              "    </tr>\n",
              "    <tr>\n",
              "      <th>1547</th>\n",
              "      <td>5053790</td>\n",
              "      <td>F</td>\n",
              "      <td>Y</td>\n",
              "      <td>Y</td>\n",
              "      <td>0</td>\n",
              "      <td>225000.0</td>\n",
              "      <td>Working</td>\n",
              "      <td>Higher education</td>\n",
              "      <td>Married</td>\n",
              "      <td>House / apartment</td>\n",
              "      <td>-16601.0</td>\n",
              "      <td>-2859</td>\n",
              "      <td>1</td>\n",
              "      <td>0</td>\n",
              "      <td>0</td>\n",
              "      <td>0</td>\n",
              "      <td>NaN</td>\n",
              "      <td>2</td>\n",
              "    </tr>\n",
              "  </tbody>\n",
              "</table>\n",
              "</div>\n",
              "      <button class=\"colab-df-convert\" onclick=\"convertToInteractive('df-9d753e7b-194c-4d46-942e-360a4dcbc0d4')\"\n",
              "              title=\"Convert this dataframe to an interactive table.\"\n",
              "              style=\"display:none;\">\n",
              "        \n",
              "  <svg xmlns=\"http://www.w3.org/2000/svg\" height=\"24px\"viewBox=\"0 0 24 24\"\n",
              "       width=\"24px\">\n",
              "    <path d=\"M0 0h24v24H0V0z\" fill=\"none\"/>\n",
              "    <path d=\"M18.56 5.44l.94 2.06.94-2.06 2.06-.94-2.06-.94-.94-2.06-.94 2.06-2.06.94zm-11 1L8.5 8.5l.94-2.06 2.06-.94-2.06-.94L8.5 2.5l-.94 2.06-2.06.94zm10 10l.94 2.06.94-2.06 2.06-.94-2.06-.94-.94-2.06-.94 2.06-2.06.94z\"/><path d=\"M17.41 7.96l-1.37-1.37c-.4-.4-.92-.59-1.43-.59-.52 0-1.04.2-1.43.59L10.3 9.45l-7.72 7.72c-.78.78-.78 2.05 0 2.83L4 21.41c.39.39.9.59 1.41.59.51 0 1.02-.2 1.41-.59l7.78-7.78 2.81-2.81c.8-.78.8-2.07 0-2.86zM5.41 20L4 18.59l7.72-7.72 1.47 1.35L5.41 20z\"/>\n",
              "  </svg>\n",
              "      </button>\n",
              "      \n",
              "  <style>\n",
              "    .colab-df-container {\n",
              "      display:flex;\n",
              "      flex-wrap:wrap;\n",
              "      gap: 12px;\n",
              "    }\n",
              "\n",
              "    .colab-df-convert {\n",
              "      background-color: #E8F0FE;\n",
              "      border: none;\n",
              "      border-radius: 50%;\n",
              "      cursor: pointer;\n",
              "      display: none;\n",
              "      fill: #1967D2;\n",
              "      height: 32px;\n",
              "      padding: 0 0 0 0;\n",
              "      width: 32px;\n",
              "    }\n",
              "\n",
              "    .colab-df-convert:hover {\n",
              "      background-color: #E2EBFA;\n",
              "      box-shadow: 0px 1px 2px rgba(60, 64, 67, 0.3), 0px 1px 3px 1px rgba(60, 64, 67, 0.15);\n",
              "      fill: #174EA6;\n",
              "    }\n",
              "\n",
              "    [theme=dark] .colab-df-convert {\n",
              "      background-color: #3B4455;\n",
              "      fill: #D2E3FC;\n",
              "    }\n",
              "\n",
              "    [theme=dark] .colab-df-convert:hover {\n",
              "      background-color: #434B5C;\n",
              "      box-shadow: 0px 1px 3px 1px rgba(0, 0, 0, 0.15);\n",
              "      filter: drop-shadow(0px 1px 2px rgba(0, 0, 0, 0.3));\n",
              "      fill: #FFFFFF;\n",
              "    }\n",
              "  </style>\n",
              "\n",
              "      <script>\n",
              "        const buttonEl =\n",
              "          document.querySelector('#df-9d753e7b-194c-4d46-942e-360a4dcbc0d4 button.colab-df-convert');\n",
              "        buttonEl.style.display =\n",
              "          google.colab.kernel.accessAllowed ? 'block' : 'none';\n",
              "\n",
              "        async function convertToInteractive(key) {\n",
              "          const element = document.querySelector('#df-9d753e7b-194c-4d46-942e-360a4dcbc0d4');\n",
              "          const dataTable =\n",
              "            await google.colab.kernel.invokeFunction('convertToInteractive',\n",
              "                                                     [key], {});\n",
              "          if (!dataTable) return;\n",
              "\n",
              "          const docLinkHtml = 'Like what you see? Visit the ' +\n",
              "            '<a target=\"_blank\" href=https://colab.research.google.com/notebooks/data_table.ipynb>data table notebook</a>'\n",
              "            + ' to learn more about interactive tables.';\n",
              "          element.innerHTML = '';\n",
              "          dataTable['output_type'] = 'display_data';\n",
              "          await google.colab.output.renderOutput(dataTable, element);\n",
              "          const docLink = document.createElement('div');\n",
              "          docLink.innerHTML = docLinkHtml;\n",
              "          element.appendChild(docLink);\n",
              "        }\n",
              "      </script>\n",
              "    </div>\n",
              "  </div>\n",
              "  "
            ]
          },
          "metadata": {},
          "execution_count": 9
        }
      ]
    },
    {
      "cell_type": "code",
      "source": [
        "Cr1.info() # Information about dataset"
      ],
      "metadata": {
        "colab": {
          "base_uri": "https://localhost:8080/"
        },
        "id": "7moMOrSbLvf6",
        "outputId": "6a346bba-de7e-401f-8b08-308a74caa1cd"
      },
      "execution_count": 10,
      "outputs": [
        {
          "output_type": "stream",
          "name": "stdout",
          "text": [
            "<class 'pandas.core.frame.DataFrame'>\n",
            "RangeIndex: 1548 entries, 0 to 1547\n",
            "Data columns (total 18 columns):\n",
            " #   Column           Non-Null Count  Dtype  \n",
            "---  ------           --------------  -----  \n",
            " 0   Ind_ID           1548 non-null   int64  \n",
            " 1   GENDER           1541 non-null   object \n",
            " 2   Car_Owner        1548 non-null   object \n",
            " 3   Propert_Owner    1548 non-null   object \n",
            " 4   CHILDREN         1548 non-null   int64  \n",
            " 5   Annual_income    1525 non-null   float64\n",
            " 6   Type_Income      1548 non-null   object \n",
            " 7   EDUCATION        1548 non-null   object \n",
            " 8   Marital_status   1548 non-null   object \n",
            " 9   Housing_type     1548 non-null   object \n",
            " 10  Birthday_count   1526 non-null   float64\n",
            " 11  Employed_days    1548 non-null   int64  \n",
            " 12  Mobile_phone     1548 non-null   int64  \n",
            " 13  Work_Phone       1548 non-null   int64  \n",
            " 14  Phone            1548 non-null   int64  \n",
            " 15  EMAIL_ID         1548 non-null   int64  \n",
            " 16  Type_Occupation  1060 non-null   object \n",
            " 17  Family_Members   1548 non-null   int64  \n",
            "dtypes: float64(2), int64(8), object(8)\n",
            "memory usage: 217.8+ KB\n"
          ]
        }
      ]
    },
    {
      "cell_type": "code",
      "source": [
        "Cr1.describe() "
      ],
      "metadata": {
        "colab": {
          "base_uri": "https://localhost:8080/",
          "height": 300
        },
        "id": "HhVc7lbSNUCT",
        "outputId": "fc0089e3-f9a8-41bb-af6b-e31350415f73"
      },
      "execution_count": 11,
      "outputs": [
        {
          "output_type": "execute_result",
          "data": {
            "text/plain": [
              "             Ind_ID     CHILDREN  Annual_income  Birthday_count  \\\n",
              "count  1.548000e+03  1548.000000   1.525000e+03     1526.000000   \n",
              "mean   5.078920e+06     0.412791   1.913993e+05   -16040.342071   \n",
              "std    4.171759e+04     0.776691   1.132530e+05     4229.503202   \n",
              "min    5.008827e+06     0.000000   3.375000e+04   -24946.000000   \n",
              "25%    5.045070e+06     0.000000   1.215000e+05   -19553.000000   \n",
              "50%    5.078842e+06     0.000000   1.665000e+05   -15661.500000   \n",
              "75%    5.115673e+06     1.000000   2.250000e+05   -12417.000000   \n",
              "max    5.150412e+06    14.000000   1.575000e+06    -7705.000000   \n",
              "\n",
              "       Employed_days  Mobile_phone   Work_Phone        Phone     EMAIL_ID  \\\n",
              "count    1548.000000        1548.0  1548.000000  1548.000000  1548.000000   \n",
              "mean    59364.689922           1.0     0.208010     0.309432     0.092377   \n",
              "std    137808.062701           0.0     0.406015     0.462409     0.289651   \n",
              "min    -14887.000000           1.0     0.000000     0.000000     0.000000   \n",
              "25%     -3174.500000           1.0     0.000000     0.000000     0.000000   \n",
              "50%     -1565.000000           1.0     0.000000     0.000000     0.000000   \n",
              "75%      -431.750000           1.0     0.000000     1.000000     0.000000   \n",
              "max    365243.000000           1.0     1.000000     1.000000     1.000000   \n",
              "\n",
              "       Family_Members  \n",
              "count     1548.000000  \n",
              "mean         2.161499  \n",
              "std          0.947772  \n",
              "min          1.000000  \n",
              "25%          2.000000  \n",
              "50%          2.000000  \n",
              "75%          3.000000  \n",
              "max         15.000000  "
            ],
            "text/html": [
              "\n",
              "  <div id=\"df-9ff99783-4d43-417b-a81c-f0e95221a0b3\">\n",
              "    <div class=\"colab-df-container\">\n",
              "      <div>\n",
              "<style scoped>\n",
              "    .dataframe tbody tr th:only-of-type {\n",
              "        vertical-align: middle;\n",
              "    }\n",
              "\n",
              "    .dataframe tbody tr th {\n",
              "        vertical-align: top;\n",
              "    }\n",
              "\n",
              "    .dataframe thead th {\n",
              "        text-align: right;\n",
              "    }\n",
              "</style>\n",
              "<table border=\"1\" class=\"dataframe\">\n",
              "  <thead>\n",
              "    <tr style=\"text-align: right;\">\n",
              "      <th></th>\n",
              "      <th>Ind_ID</th>\n",
              "      <th>CHILDREN</th>\n",
              "      <th>Annual_income</th>\n",
              "      <th>Birthday_count</th>\n",
              "      <th>Employed_days</th>\n",
              "      <th>Mobile_phone</th>\n",
              "      <th>Work_Phone</th>\n",
              "      <th>Phone</th>\n",
              "      <th>EMAIL_ID</th>\n",
              "      <th>Family_Members</th>\n",
              "    </tr>\n",
              "  </thead>\n",
              "  <tbody>\n",
              "    <tr>\n",
              "      <th>count</th>\n",
              "      <td>1.548000e+03</td>\n",
              "      <td>1548.000000</td>\n",
              "      <td>1.525000e+03</td>\n",
              "      <td>1526.000000</td>\n",
              "      <td>1548.000000</td>\n",
              "      <td>1548.0</td>\n",
              "      <td>1548.000000</td>\n",
              "      <td>1548.000000</td>\n",
              "      <td>1548.000000</td>\n",
              "      <td>1548.000000</td>\n",
              "    </tr>\n",
              "    <tr>\n",
              "      <th>mean</th>\n",
              "      <td>5.078920e+06</td>\n",
              "      <td>0.412791</td>\n",
              "      <td>1.913993e+05</td>\n",
              "      <td>-16040.342071</td>\n",
              "      <td>59364.689922</td>\n",
              "      <td>1.0</td>\n",
              "      <td>0.208010</td>\n",
              "      <td>0.309432</td>\n",
              "      <td>0.092377</td>\n",
              "      <td>2.161499</td>\n",
              "    </tr>\n",
              "    <tr>\n",
              "      <th>std</th>\n",
              "      <td>4.171759e+04</td>\n",
              "      <td>0.776691</td>\n",
              "      <td>1.132530e+05</td>\n",
              "      <td>4229.503202</td>\n",
              "      <td>137808.062701</td>\n",
              "      <td>0.0</td>\n",
              "      <td>0.406015</td>\n",
              "      <td>0.462409</td>\n",
              "      <td>0.289651</td>\n",
              "      <td>0.947772</td>\n",
              "    </tr>\n",
              "    <tr>\n",
              "      <th>min</th>\n",
              "      <td>5.008827e+06</td>\n",
              "      <td>0.000000</td>\n",
              "      <td>3.375000e+04</td>\n",
              "      <td>-24946.000000</td>\n",
              "      <td>-14887.000000</td>\n",
              "      <td>1.0</td>\n",
              "      <td>0.000000</td>\n",
              "      <td>0.000000</td>\n",
              "      <td>0.000000</td>\n",
              "      <td>1.000000</td>\n",
              "    </tr>\n",
              "    <tr>\n",
              "      <th>25%</th>\n",
              "      <td>5.045070e+06</td>\n",
              "      <td>0.000000</td>\n",
              "      <td>1.215000e+05</td>\n",
              "      <td>-19553.000000</td>\n",
              "      <td>-3174.500000</td>\n",
              "      <td>1.0</td>\n",
              "      <td>0.000000</td>\n",
              "      <td>0.000000</td>\n",
              "      <td>0.000000</td>\n",
              "      <td>2.000000</td>\n",
              "    </tr>\n",
              "    <tr>\n",
              "      <th>50%</th>\n",
              "      <td>5.078842e+06</td>\n",
              "      <td>0.000000</td>\n",
              "      <td>1.665000e+05</td>\n",
              "      <td>-15661.500000</td>\n",
              "      <td>-1565.000000</td>\n",
              "      <td>1.0</td>\n",
              "      <td>0.000000</td>\n",
              "      <td>0.000000</td>\n",
              "      <td>0.000000</td>\n",
              "      <td>2.000000</td>\n",
              "    </tr>\n",
              "    <tr>\n",
              "      <th>75%</th>\n",
              "      <td>5.115673e+06</td>\n",
              "      <td>1.000000</td>\n",
              "      <td>2.250000e+05</td>\n",
              "      <td>-12417.000000</td>\n",
              "      <td>-431.750000</td>\n",
              "      <td>1.0</td>\n",
              "      <td>0.000000</td>\n",
              "      <td>1.000000</td>\n",
              "      <td>0.000000</td>\n",
              "      <td>3.000000</td>\n",
              "    </tr>\n",
              "    <tr>\n",
              "      <th>max</th>\n",
              "      <td>5.150412e+06</td>\n",
              "      <td>14.000000</td>\n",
              "      <td>1.575000e+06</td>\n",
              "      <td>-7705.000000</td>\n",
              "      <td>365243.000000</td>\n",
              "      <td>1.0</td>\n",
              "      <td>1.000000</td>\n",
              "      <td>1.000000</td>\n",
              "      <td>1.000000</td>\n",
              "      <td>15.000000</td>\n",
              "    </tr>\n",
              "  </tbody>\n",
              "</table>\n",
              "</div>\n",
              "      <button class=\"colab-df-convert\" onclick=\"convertToInteractive('df-9ff99783-4d43-417b-a81c-f0e95221a0b3')\"\n",
              "              title=\"Convert this dataframe to an interactive table.\"\n",
              "              style=\"display:none;\">\n",
              "        \n",
              "  <svg xmlns=\"http://www.w3.org/2000/svg\" height=\"24px\"viewBox=\"0 0 24 24\"\n",
              "       width=\"24px\">\n",
              "    <path d=\"M0 0h24v24H0V0z\" fill=\"none\"/>\n",
              "    <path d=\"M18.56 5.44l.94 2.06.94-2.06 2.06-.94-2.06-.94-.94-2.06-.94 2.06-2.06.94zm-11 1L8.5 8.5l.94-2.06 2.06-.94-2.06-.94L8.5 2.5l-.94 2.06-2.06.94zm10 10l.94 2.06.94-2.06 2.06-.94-2.06-.94-.94-2.06-.94 2.06-2.06.94z\"/><path d=\"M17.41 7.96l-1.37-1.37c-.4-.4-.92-.59-1.43-.59-.52 0-1.04.2-1.43.59L10.3 9.45l-7.72 7.72c-.78.78-.78 2.05 0 2.83L4 21.41c.39.39.9.59 1.41.59.51 0 1.02-.2 1.41-.59l7.78-7.78 2.81-2.81c.8-.78.8-2.07 0-2.86zM5.41 20L4 18.59l7.72-7.72 1.47 1.35L5.41 20z\"/>\n",
              "  </svg>\n",
              "      </button>\n",
              "      \n",
              "  <style>\n",
              "    .colab-df-container {\n",
              "      display:flex;\n",
              "      flex-wrap:wrap;\n",
              "      gap: 12px;\n",
              "    }\n",
              "\n",
              "    .colab-df-convert {\n",
              "      background-color: #E8F0FE;\n",
              "      border: none;\n",
              "      border-radius: 50%;\n",
              "      cursor: pointer;\n",
              "      display: none;\n",
              "      fill: #1967D2;\n",
              "      height: 32px;\n",
              "      padding: 0 0 0 0;\n",
              "      width: 32px;\n",
              "    }\n",
              "\n",
              "    .colab-df-convert:hover {\n",
              "      background-color: #E2EBFA;\n",
              "      box-shadow: 0px 1px 2px rgba(60, 64, 67, 0.3), 0px 1px 3px 1px rgba(60, 64, 67, 0.15);\n",
              "      fill: #174EA6;\n",
              "    }\n",
              "\n",
              "    [theme=dark] .colab-df-convert {\n",
              "      background-color: #3B4455;\n",
              "      fill: #D2E3FC;\n",
              "    }\n",
              "\n",
              "    [theme=dark] .colab-df-convert:hover {\n",
              "      background-color: #434B5C;\n",
              "      box-shadow: 0px 1px 3px 1px rgba(0, 0, 0, 0.15);\n",
              "      filter: drop-shadow(0px 1px 2px rgba(0, 0, 0, 0.3));\n",
              "      fill: #FFFFFF;\n",
              "    }\n",
              "  </style>\n",
              "\n",
              "      <script>\n",
              "        const buttonEl =\n",
              "          document.querySelector('#df-9ff99783-4d43-417b-a81c-f0e95221a0b3 button.colab-df-convert');\n",
              "        buttonEl.style.display =\n",
              "          google.colab.kernel.accessAllowed ? 'block' : 'none';\n",
              "\n",
              "        async function convertToInteractive(key) {\n",
              "          const element = document.querySelector('#df-9ff99783-4d43-417b-a81c-f0e95221a0b3');\n",
              "          const dataTable =\n",
              "            await google.colab.kernel.invokeFunction('convertToInteractive',\n",
              "                                                     [key], {});\n",
              "          if (!dataTable) return;\n",
              "\n",
              "          const docLinkHtml = 'Like what you see? Visit the ' +\n",
              "            '<a target=\"_blank\" href=https://colab.research.google.com/notebooks/data_table.ipynb>data table notebook</a>'\n",
              "            + ' to learn more about interactive tables.';\n",
              "          element.innerHTML = '';\n",
              "          dataTable['output_type'] = 'display_data';\n",
              "          await google.colab.output.renderOutput(dataTable, element);\n",
              "          const docLink = document.createElement('div');\n",
              "          docLink.innerHTML = docLinkHtml;\n",
              "          element.appendChild(docLink);\n",
              "        }\n",
              "      </script>\n",
              "    </div>\n",
              "  </div>\n",
              "  "
            ]
          },
          "metadata": {},
          "execution_count": 11
        }
      ]
    },
    {
      "cell_type": "markdown",
      "source": [
        "* We can observe from the output that the average annual income of the people in the dataset is 1.665000e+05\t. The standard deviation of the annual income is 1.132530e+05. The minimum annual income is 3.375000e+04\t and the maximum annual income is 1.575000e+06 so there is some bias or outlier here\n",
        "\n",
        "* We can also observe that the average number of children is 0 The standard deviation of the number of children is 0.776691. The minimum number of children is 0.0 and the maximum number of children is 14.0. Here we also find some otliers\n",
        "\n",
        "\n"
      ],
      "metadata": {
        "id": "e6J1HXHwODKS"
      }
    },
    {
      "cell_type": "markdown",
      "source": [
        "#Credit_card_label_Status\n",
        "Once a credit card is issued, the customer uses it for shopping items of its use, a statement is generated to make a payment toward the dues by due date and the customer makes payment. This is a typical credit card cycle."
      ],
      "metadata": {
        "id": "5vjdYcdIPM5p"
      }
    },
    {
      "cell_type": "code",
      "source": [
        "Cr2=pd.read_csv(\"Credit_card_label.csv\")"
      ],
      "metadata": {
        "id": "Af1wUkwqO73X"
      },
      "execution_count": 12,
      "outputs": []
    },
    {
      "cell_type": "code",
      "source": [
        "Cr2.head()"
      ],
      "metadata": {
        "colab": {
          "base_uri": "https://localhost:8080/",
          "height": 206
        },
        "id": "WW4QpQpqPqZN",
        "outputId": "ffe18817-a420-461b-aa76-6ba46d22e903"
      },
      "execution_count": 13,
      "outputs": [
        {
          "output_type": "execute_result",
          "data": {
            "text/plain": [
              "    Ind_ID  label\n",
              "0  5008827      1\n",
              "1  5009744      1\n",
              "2  5009746      1\n",
              "3  5009749      1\n",
              "4  5009752      1"
            ],
            "text/html": [
              "\n",
              "  <div id=\"df-fc8cb785-1b9d-4375-9350-b16f6fb0b80d\">\n",
              "    <div class=\"colab-df-container\">\n",
              "      <div>\n",
              "<style scoped>\n",
              "    .dataframe tbody tr th:only-of-type {\n",
              "        vertical-align: middle;\n",
              "    }\n",
              "\n",
              "    .dataframe tbody tr th {\n",
              "        vertical-align: top;\n",
              "    }\n",
              "\n",
              "    .dataframe thead th {\n",
              "        text-align: right;\n",
              "    }\n",
              "</style>\n",
              "<table border=\"1\" class=\"dataframe\">\n",
              "  <thead>\n",
              "    <tr style=\"text-align: right;\">\n",
              "      <th></th>\n",
              "      <th>Ind_ID</th>\n",
              "      <th>label</th>\n",
              "    </tr>\n",
              "  </thead>\n",
              "  <tbody>\n",
              "    <tr>\n",
              "      <th>0</th>\n",
              "      <td>5008827</td>\n",
              "      <td>1</td>\n",
              "    </tr>\n",
              "    <tr>\n",
              "      <th>1</th>\n",
              "      <td>5009744</td>\n",
              "      <td>1</td>\n",
              "    </tr>\n",
              "    <tr>\n",
              "      <th>2</th>\n",
              "      <td>5009746</td>\n",
              "      <td>1</td>\n",
              "    </tr>\n",
              "    <tr>\n",
              "      <th>3</th>\n",
              "      <td>5009749</td>\n",
              "      <td>1</td>\n",
              "    </tr>\n",
              "    <tr>\n",
              "      <th>4</th>\n",
              "      <td>5009752</td>\n",
              "      <td>1</td>\n",
              "    </tr>\n",
              "  </tbody>\n",
              "</table>\n",
              "</div>\n",
              "      <button class=\"colab-df-convert\" onclick=\"convertToInteractive('df-fc8cb785-1b9d-4375-9350-b16f6fb0b80d')\"\n",
              "              title=\"Convert this dataframe to an interactive table.\"\n",
              "              style=\"display:none;\">\n",
              "        \n",
              "  <svg xmlns=\"http://www.w3.org/2000/svg\" height=\"24px\"viewBox=\"0 0 24 24\"\n",
              "       width=\"24px\">\n",
              "    <path d=\"M0 0h24v24H0V0z\" fill=\"none\"/>\n",
              "    <path d=\"M18.56 5.44l.94 2.06.94-2.06 2.06-.94-2.06-.94-.94-2.06-.94 2.06-2.06.94zm-11 1L8.5 8.5l.94-2.06 2.06-.94-2.06-.94L8.5 2.5l-.94 2.06-2.06.94zm10 10l.94 2.06.94-2.06 2.06-.94-2.06-.94-.94-2.06-.94 2.06-2.06.94z\"/><path d=\"M17.41 7.96l-1.37-1.37c-.4-.4-.92-.59-1.43-.59-.52 0-1.04.2-1.43.59L10.3 9.45l-7.72 7.72c-.78.78-.78 2.05 0 2.83L4 21.41c.39.39.9.59 1.41.59.51 0 1.02-.2 1.41-.59l7.78-7.78 2.81-2.81c.8-.78.8-2.07 0-2.86zM5.41 20L4 18.59l7.72-7.72 1.47 1.35L5.41 20z\"/>\n",
              "  </svg>\n",
              "      </button>\n",
              "      \n",
              "  <style>\n",
              "    .colab-df-container {\n",
              "      display:flex;\n",
              "      flex-wrap:wrap;\n",
              "      gap: 12px;\n",
              "    }\n",
              "\n",
              "    .colab-df-convert {\n",
              "      background-color: #E8F0FE;\n",
              "      border: none;\n",
              "      border-radius: 50%;\n",
              "      cursor: pointer;\n",
              "      display: none;\n",
              "      fill: #1967D2;\n",
              "      height: 32px;\n",
              "      padding: 0 0 0 0;\n",
              "      width: 32px;\n",
              "    }\n",
              "\n",
              "    .colab-df-convert:hover {\n",
              "      background-color: #E2EBFA;\n",
              "      box-shadow: 0px 1px 2px rgba(60, 64, 67, 0.3), 0px 1px 3px 1px rgba(60, 64, 67, 0.15);\n",
              "      fill: #174EA6;\n",
              "    }\n",
              "\n",
              "    [theme=dark] .colab-df-convert {\n",
              "      background-color: #3B4455;\n",
              "      fill: #D2E3FC;\n",
              "    }\n",
              "\n",
              "    [theme=dark] .colab-df-convert:hover {\n",
              "      background-color: #434B5C;\n",
              "      box-shadow: 0px 1px 3px 1px rgba(0, 0, 0, 0.15);\n",
              "      filter: drop-shadow(0px 1px 2px rgba(0, 0, 0, 0.3));\n",
              "      fill: #FFFFFF;\n",
              "    }\n",
              "  </style>\n",
              "\n",
              "      <script>\n",
              "        const buttonEl =\n",
              "          document.querySelector('#df-fc8cb785-1b9d-4375-9350-b16f6fb0b80d button.colab-df-convert');\n",
              "        buttonEl.style.display =\n",
              "          google.colab.kernel.accessAllowed ? 'block' : 'none';\n",
              "\n",
              "        async function convertToInteractive(key) {\n",
              "          const element = document.querySelector('#df-fc8cb785-1b9d-4375-9350-b16f6fb0b80d');\n",
              "          const dataTable =\n",
              "            await google.colab.kernel.invokeFunction('convertToInteractive',\n",
              "                                                     [key], {});\n",
              "          if (!dataTable) return;\n",
              "\n",
              "          const docLinkHtml = 'Like what you see? Visit the ' +\n",
              "            '<a target=\"_blank\" href=https://colab.research.google.com/notebooks/data_table.ipynb>data table notebook</a>'\n",
              "            + ' to learn more about interactive tables.';\n",
              "          element.innerHTML = '';\n",
              "          dataTable['output_type'] = 'display_data';\n",
              "          await google.colab.output.renderOutput(dataTable, element);\n",
              "          const docLink = document.createElement('div');\n",
              "          docLink.innerHTML = docLinkHtml;\n",
              "          element.appendChild(docLink);\n",
              "        }\n",
              "      </script>\n",
              "    </div>\n",
              "  </div>\n",
              "  "
            ]
          },
          "metadata": {},
          "execution_count": 13
        }
      ]
    },
    {
      "cell_type": "code",
      "source": [
        "Cr2[\"label\"].value_counts()"
      ],
      "metadata": {
        "colab": {
          "base_uri": "https://localhost:8080/"
        },
        "id": "BnbqTvvRPvNt",
        "outputId": "184bc8e8-4ae1-46c9-db1b-8b29675c7fa3"
      },
      "execution_count": 14,
      "outputs": [
        {
          "output_type": "execute_result",
          "data": {
            "text/plain": [
              "0    1373\n",
              "1     175\n",
              "Name: label, dtype: int64"
            ]
          },
          "metadata": {},
          "execution_count": 14
        }
      ]
    },
    {
      "cell_type": "markdown",
      "source": [
        "#So Here in this label 0 and 1 is\n",
        "* 0 : Application approved\n",
        "* 1 : Application Rejected"
      ],
      "metadata": {
        "id": "uiMQG34QP9SD"
      }
    },
    {
      "cell_type": "code",
      "source": [
        "Credit_card=Cr1.merge(Cr2,how=\"outer\")"
      ],
      "metadata": {
        "id": "Oq-vjP7_P8TG"
      },
      "execution_count": 15,
      "outputs": []
    },
    {
      "cell_type": "code",
      "source": [
        "Credit_card.head()\n"
      ],
      "metadata": {
        "colab": {
          "base_uri": "https://localhost:8080/",
          "height": 357
        },
        "id": "T0IiBOlSQg73",
        "outputId": "7e9f57f1-8fb5-45ec-a081-706202f34467"
      },
      "execution_count": 16,
      "outputs": [
        {
          "output_type": "execute_result",
          "data": {
            "text/plain": [
              "    Ind_ID GENDER Car_Owner Propert_Owner  CHILDREN  Annual_income  \\\n",
              "0  5008827      M         Y             Y         0       180000.0   \n",
              "1  5009744      F         Y             N         0       315000.0   \n",
              "2  5009746      F         Y             N         0       315000.0   \n",
              "3  5009749      F         Y             N         0            NaN   \n",
              "4  5009752      F         Y             N         0       315000.0   \n",
              "\n",
              "            Type_Income         EDUCATION Marital_status       Housing_type  \\\n",
              "0             Pensioner  Higher education        Married  House / apartment   \n",
              "1  Commercial associate  Higher education        Married  House / apartment   \n",
              "2  Commercial associate  Higher education        Married  House / apartment   \n",
              "3  Commercial associate  Higher education        Married  House / apartment   \n",
              "4  Commercial associate  Higher education        Married  House / apartment   \n",
              "\n",
              "   Birthday_count  Employed_days  Mobile_phone  Work_Phone  Phone  EMAIL_ID  \\\n",
              "0        -18772.0         365243             1           0      0         0   \n",
              "1        -13557.0           -586             1           1      1         0   \n",
              "2             NaN           -586             1           1      1         0   \n",
              "3        -13557.0           -586             1           1      1         0   \n",
              "4        -13557.0           -586             1           1      1         0   \n",
              "\n",
              "  Type_Occupation  Family_Members  label  \n",
              "0             NaN               2      1  \n",
              "1             NaN               2      1  \n",
              "2             NaN               2      1  \n",
              "3             NaN               2      1  \n",
              "4             NaN               2      1  "
            ],
            "text/html": [
              "\n",
              "  <div id=\"df-11d39610-0e28-4c2e-87a3-1ba7d9de5dae\">\n",
              "    <div class=\"colab-df-container\">\n",
              "      <div>\n",
              "<style scoped>\n",
              "    .dataframe tbody tr th:only-of-type {\n",
              "        vertical-align: middle;\n",
              "    }\n",
              "\n",
              "    .dataframe tbody tr th {\n",
              "        vertical-align: top;\n",
              "    }\n",
              "\n",
              "    .dataframe thead th {\n",
              "        text-align: right;\n",
              "    }\n",
              "</style>\n",
              "<table border=\"1\" class=\"dataframe\">\n",
              "  <thead>\n",
              "    <tr style=\"text-align: right;\">\n",
              "      <th></th>\n",
              "      <th>Ind_ID</th>\n",
              "      <th>GENDER</th>\n",
              "      <th>Car_Owner</th>\n",
              "      <th>Propert_Owner</th>\n",
              "      <th>CHILDREN</th>\n",
              "      <th>Annual_income</th>\n",
              "      <th>Type_Income</th>\n",
              "      <th>EDUCATION</th>\n",
              "      <th>Marital_status</th>\n",
              "      <th>Housing_type</th>\n",
              "      <th>Birthday_count</th>\n",
              "      <th>Employed_days</th>\n",
              "      <th>Mobile_phone</th>\n",
              "      <th>Work_Phone</th>\n",
              "      <th>Phone</th>\n",
              "      <th>EMAIL_ID</th>\n",
              "      <th>Type_Occupation</th>\n",
              "      <th>Family_Members</th>\n",
              "      <th>label</th>\n",
              "    </tr>\n",
              "  </thead>\n",
              "  <tbody>\n",
              "    <tr>\n",
              "      <th>0</th>\n",
              "      <td>5008827</td>\n",
              "      <td>M</td>\n",
              "      <td>Y</td>\n",
              "      <td>Y</td>\n",
              "      <td>0</td>\n",
              "      <td>180000.0</td>\n",
              "      <td>Pensioner</td>\n",
              "      <td>Higher education</td>\n",
              "      <td>Married</td>\n",
              "      <td>House / apartment</td>\n",
              "      <td>-18772.0</td>\n",
              "      <td>365243</td>\n",
              "      <td>1</td>\n",
              "      <td>0</td>\n",
              "      <td>0</td>\n",
              "      <td>0</td>\n",
              "      <td>NaN</td>\n",
              "      <td>2</td>\n",
              "      <td>1</td>\n",
              "    </tr>\n",
              "    <tr>\n",
              "      <th>1</th>\n",
              "      <td>5009744</td>\n",
              "      <td>F</td>\n",
              "      <td>Y</td>\n",
              "      <td>N</td>\n",
              "      <td>0</td>\n",
              "      <td>315000.0</td>\n",
              "      <td>Commercial associate</td>\n",
              "      <td>Higher education</td>\n",
              "      <td>Married</td>\n",
              "      <td>House / apartment</td>\n",
              "      <td>-13557.0</td>\n",
              "      <td>-586</td>\n",
              "      <td>1</td>\n",
              "      <td>1</td>\n",
              "      <td>1</td>\n",
              "      <td>0</td>\n",
              "      <td>NaN</td>\n",
              "      <td>2</td>\n",
              "      <td>1</td>\n",
              "    </tr>\n",
              "    <tr>\n",
              "      <th>2</th>\n",
              "      <td>5009746</td>\n",
              "      <td>F</td>\n",
              "      <td>Y</td>\n",
              "      <td>N</td>\n",
              "      <td>0</td>\n",
              "      <td>315000.0</td>\n",
              "      <td>Commercial associate</td>\n",
              "      <td>Higher education</td>\n",
              "      <td>Married</td>\n",
              "      <td>House / apartment</td>\n",
              "      <td>NaN</td>\n",
              "      <td>-586</td>\n",
              "      <td>1</td>\n",
              "      <td>1</td>\n",
              "      <td>1</td>\n",
              "      <td>0</td>\n",
              "      <td>NaN</td>\n",
              "      <td>2</td>\n",
              "      <td>1</td>\n",
              "    </tr>\n",
              "    <tr>\n",
              "      <th>3</th>\n",
              "      <td>5009749</td>\n",
              "      <td>F</td>\n",
              "      <td>Y</td>\n",
              "      <td>N</td>\n",
              "      <td>0</td>\n",
              "      <td>NaN</td>\n",
              "      <td>Commercial associate</td>\n",
              "      <td>Higher education</td>\n",
              "      <td>Married</td>\n",
              "      <td>House / apartment</td>\n",
              "      <td>-13557.0</td>\n",
              "      <td>-586</td>\n",
              "      <td>1</td>\n",
              "      <td>1</td>\n",
              "      <td>1</td>\n",
              "      <td>0</td>\n",
              "      <td>NaN</td>\n",
              "      <td>2</td>\n",
              "      <td>1</td>\n",
              "    </tr>\n",
              "    <tr>\n",
              "      <th>4</th>\n",
              "      <td>5009752</td>\n",
              "      <td>F</td>\n",
              "      <td>Y</td>\n",
              "      <td>N</td>\n",
              "      <td>0</td>\n",
              "      <td>315000.0</td>\n",
              "      <td>Commercial associate</td>\n",
              "      <td>Higher education</td>\n",
              "      <td>Married</td>\n",
              "      <td>House / apartment</td>\n",
              "      <td>-13557.0</td>\n",
              "      <td>-586</td>\n",
              "      <td>1</td>\n",
              "      <td>1</td>\n",
              "      <td>1</td>\n",
              "      <td>0</td>\n",
              "      <td>NaN</td>\n",
              "      <td>2</td>\n",
              "      <td>1</td>\n",
              "    </tr>\n",
              "  </tbody>\n",
              "</table>\n",
              "</div>\n",
              "      <button class=\"colab-df-convert\" onclick=\"convertToInteractive('df-11d39610-0e28-4c2e-87a3-1ba7d9de5dae')\"\n",
              "              title=\"Convert this dataframe to an interactive table.\"\n",
              "              style=\"display:none;\">\n",
              "        \n",
              "  <svg xmlns=\"http://www.w3.org/2000/svg\" height=\"24px\"viewBox=\"0 0 24 24\"\n",
              "       width=\"24px\">\n",
              "    <path d=\"M0 0h24v24H0V0z\" fill=\"none\"/>\n",
              "    <path d=\"M18.56 5.44l.94 2.06.94-2.06 2.06-.94-2.06-.94-.94-2.06-.94 2.06-2.06.94zm-11 1L8.5 8.5l.94-2.06 2.06-.94-2.06-.94L8.5 2.5l-.94 2.06-2.06.94zm10 10l.94 2.06.94-2.06 2.06-.94-2.06-.94-.94-2.06-.94 2.06-2.06.94z\"/><path d=\"M17.41 7.96l-1.37-1.37c-.4-.4-.92-.59-1.43-.59-.52 0-1.04.2-1.43.59L10.3 9.45l-7.72 7.72c-.78.78-.78 2.05 0 2.83L4 21.41c.39.39.9.59 1.41.59.51 0 1.02-.2 1.41-.59l7.78-7.78 2.81-2.81c.8-.78.8-2.07 0-2.86zM5.41 20L4 18.59l7.72-7.72 1.47 1.35L5.41 20z\"/>\n",
              "  </svg>\n",
              "      </button>\n",
              "      \n",
              "  <style>\n",
              "    .colab-df-container {\n",
              "      display:flex;\n",
              "      flex-wrap:wrap;\n",
              "      gap: 12px;\n",
              "    }\n",
              "\n",
              "    .colab-df-convert {\n",
              "      background-color: #E8F0FE;\n",
              "      border: none;\n",
              "      border-radius: 50%;\n",
              "      cursor: pointer;\n",
              "      display: none;\n",
              "      fill: #1967D2;\n",
              "      height: 32px;\n",
              "      padding: 0 0 0 0;\n",
              "      width: 32px;\n",
              "    }\n",
              "\n",
              "    .colab-df-convert:hover {\n",
              "      background-color: #E2EBFA;\n",
              "      box-shadow: 0px 1px 2px rgba(60, 64, 67, 0.3), 0px 1px 3px 1px rgba(60, 64, 67, 0.15);\n",
              "      fill: #174EA6;\n",
              "    }\n",
              "\n",
              "    [theme=dark] .colab-df-convert {\n",
              "      background-color: #3B4455;\n",
              "      fill: #D2E3FC;\n",
              "    }\n",
              "\n",
              "    [theme=dark] .colab-df-convert:hover {\n",
              "      background-color: #434B5C;\n",
              "      box-shadow: 0px 1px 3px 1px rgba(0, 0, 0, 0.15);\n",
              "      filter: drop-shadow(0px 1px 2px rgba(0, 0, 0, 0.3));\n",
              "      fill: #FFFFFF;\n",
              "    }\n",
              "  </style>\n",
              "\n",
              "      <script>\n",
              "        const buttonEl =\n",
              "          document.querySelector('#df-11d39610-0e28-4c2e-87a3-1ba7d9de5dae button.colab-df-convert');\n",
              "        buttonEl.style.display =\n",
              "          google.colab.kernel.accessAllowed ? 'block' : 'none';\n",
              "\n",
              "        async function convertToInteractive(key) {\n",
              "          const element = document.querySelector('#df-11d39610-0e28-4c2e-87a3-1ba7d9de5dae');\n",
              "          const dataTable =\n",
              "            await google.colab.kernel.invokeFunction('convertToInteractive',\n",
              "                                                     [key], {});\n",
              "          if (!dataTable) return;\n",
              "\n",
              "          const docLinkHtml = 'Like what you see? Visit the ' +\n",
              "            '<a target=\"_blank\" href=https://colab.research.google.com/notebooks/data_table.ipynb>data table notebook</a>'\n",
              "            + ' to learn more about interactive tables.';\n",
              "          element.innerHTML = '';\n",
              "          dataTable['output_type'] = 'display_data';\n",
              "          await google.colab.output.renderOutput(dataTable, element);\n",
              "          const docLink = document.createElement('div');\n",
              "          docLink.innerHTML = docLinkHtml;\n",
              "          element.appendChild(docLink);\n",
              "        }\n",
              "      </script>\n",
              "    </div>\n",
              "  </div>\n",
              "  "
            ]
          },
          "metadata": {},
          "execution_count": 16
        }
      ]
    },
    {
      "cell_type": "markdown",
      "source": [
        "#Missing value"
      ],
      "metadata": {
        "id": "Q5ZW8hdJQw9u"
      }
    },
    {
      "cell_type": "code",
      "source": [
        "Credit_card.isnull().sum() # find the missing value"
      ],
      "metadata": {
        "colab": {
          "base_uri": "https://localhost:8080/"
        },
        "id": "KolR1HW3Q08M",
        "outputId": "f20edc9a-e36c-4cf0-a678-7cdfa713e68f"
      },
      "execution_count": 17,
      "outputs": [
        {
          "output_type": "execute_result",
          "data": {
            "text/plain": [
              "Ind_ID               0\n",
              "GENDER               7\n",
              "Car_Owner            0\n",
              "Propert_Owner        0\n",
              "CHILDREN             0\n",
              "Annual_income       23\n",
              "Type_Income          0\n",
              "EDUCATION            0\n",
              "Marital_status       0\n",
              "Housing_type         0\n",
              "Birthday_count      22\n",
              "Employed_days        0\n",
              "Mobile_phone         0\n",
              "Work_Phone           0\n",
              "Phone                0\n",
              "EMAIL_ID             0\n",
              "Type_Occupation    488\n",
              "Family_Members       0\n",
              "label                0\n",
              "dtype: int64"
            ]
          },
          "metadata": {},
          "execution_count": 17
        }
      ]
    },
    {
      "cell_type": "code",
      "source": [
        "msno.bar(Credit_card)"
      ],
      "metadata": {
        "colab": {
          "base_uri": "https://localhost:8080/",
          "height": 658
        },
        "id": "VRJYeg74Rbt_",
        "outputId": "5fb6d0d8-ba25-409a-ee26-520f1adeb465"
      },
      "execution_count": 18,
      "outputs": [
        {
          "output_type": "execute_result",
          "data": {
            "text/plain": [
              "<Axes: >"
            ]
          },
          "metadata": {},
          "execution_count": 18
        },
        {
          "output_type": "display_data",
          "data": {
            "text/plain": [
              "<Figure size 2500x1000 with 3 Axes>"
            ],
            "image/png": "[encoded data removed]"
          },
          "metadata": {}
        }
      ]
    },
    {
      "cell_type": "code",
      "source": [
        "msno.heatmap(Credit_card)"
      ],
      "metadata": {
        "colab": {
          "base_uri": "https://localhost:8080/",
          "height": 898
        },
        "id": "1YmzUMtdRimI",
        "outputId": "0fa7b479-5f35-4404-b112-b516bf0c93d6"
      },
      "execution_count": 19,
      "outputs": [
        {
          "output_type": "execute_result",
          "data": {
            "text/plain": [
              "<Axes: >"
            ]
          },
          "metadata": {},
          "execution_count": 19
        },
        {
          "output_type": "display_data",
          "data": {
            "text/plain": [
              "<Figure size 2000x1200 with 2 Axes>"
            ],
            "image/png": "[encoded data removed]"
          },
          "metadata": {}
        }
      ]
    },
    {
      "cell_type": "markdown",
      "source": [
        "So it is cleary observe that in this dataset there is huge missing value in various columns like gender,Annual_income,Birthday_count,Type_occupation So now we can deal with this....\n"
      ],
      "metadata": {
        "id": "aOkI6uRtRQ5_"
      }
    },
    {
      "cell_type": "code",
      "source": [
        "Credit_card.columns"
      ],
      "metadata": {
        "colab": {
          "base_uri": "https://localhost:8080/"
        },
        "id": "dU-lzBItSf0x",
        "outputId": "a2df2c2a-bea8-4f1b-9492-b1a84d717a2c"
      },
      "execution_count": 20,
      "outputs": [
        {
          "output_type": "execute_result",
          "data": {
            "text/plain": [
              "Index(['Ind_ID', 'GENDER', 'Car_Owner', 'Propert_Owner', 'CHILDREN',\n",
              "       'Annual_income', 'Type_Income', 'EDUCATION', 'Marital_status',\n",
              "       'Housing_type', 'Birthday_count', 'Employed_days', 'Mobile_phone',\n",
              "       'Work_Phone', 'Phone', 'EMAIL_ID', 'Type_Occupation', 'Family_Members',\n",
              "       'label'],\n",
              "      dtype='object')"
            ]
          },
          "metadata": {},
          "execution_count": 20
        }
      ]
    },
    {
      "cell_type": "markdown",
      "source": [
        "#So now i just drop those columns which do not necessary in my dataset for pediction purpose"
      ],
      "metadata": {
        "id": "z8NGGWtbXCev"
      }
    },
    {
      "cell_type": "code",
      "source": [
        "Credit_card=Credit_card.drop(['Ind_ID', 'Type_Income', 'EDUCATION', 'Marital_status',\n",
        "       'Housing_type','Mobile_phone','Work_Phone', 'Phone', 'EMAIL_ID', 'Type_Occupation'],axis=1)"
      ],
      "metadata": {
        "id": "hsQD6WXtVRqv"
      },
      "execution_count": 21,
      "outputs": []
    },
    {
      "cell_type": "code",
      "source": [
        "Credit_card.isnull().sum()"
      ],
      "metadata": {
        "colab": {
          "base_uri": "https://localhost:8080/"
        },
        "id": "05T4MYrBW3DM",
        "outputId": "f1da1fab-da11-4635-e031-5c0bad842f63"
      },
      "execution_count": 22,
      "outputs": [
        {
          "output_type": "execute_result",
          "data": {
            "text/plain": [
              "GENDER             7\n",
              "Car_Owner          0\n",
              "Propert_Owner      0\n",
              "CHILDREN           0\n",
              "Annual_income     23\n",
              "Birthday_count    22\n",
              "Employed_days      0\n",
              "Family_Members     0\n",
              "label              0\n",
              "dtype: int64"
            ]
          },
          "metadata": {},
          "execution_count": 22
        }
      ]
    },
    {
      "cell_type": "code",
      "source": [
        "#dummy encoding\n",
        "Credit_card['GENDER']=Credit_card.GENDER.map({\"F\":0,\"M\":1,\"others\":2})\n",
        "Credit_card['Car_Owner']=Credit_card.Car_Owner.map({\"Y\":0,\"N\":1})\n",
        "Credit_card['Propert_Owner']=Credit_card.Propert_Owner.map({\"Y\":0,\"N\":1})"
      ],
      "metadata": {
        "id": "pZ0fOoGUXGEj"
      },
      "execution_count": 23,
      "outputs": []
    },
    {
      "cell_type": "code",
      "source": [
        "Credit_card.head()"
      ],
      "metadata": {
        "colab": {
          "base_uri": "https://localhost:8080/",
          "height": 206
        },
        "id": "IU4LVoW-X1r5",
        "outputId": "22b24091-3a00-4028-d599-8a0b05182314"
      },
      "execution_count": 24,
      "outputs": [
        {
          "output_type": "execute_result",
          "data": {
            "text/plain": [
              "   GENDER  Car_Owner  Propert_Owner  CHILDREN  Annual_income  Birthday_count  \\\n",
              "0     1.0          0              0         0       180000.0        -18772.0   \n",
              "1     0.0          0              1         0       315000.0        -13557.0   \n",
              "2     0.0          0              1         0       315000.0             NaN   \n",
              "3     0.0          0              1         0            NaN        -13557.0   \n",
              "4     0.0          0              1         0       315000.0        -13557.0   \n",
              "\n",
              "   Employed_days  Family_Members  label  \n",
              "0         365243               2      1  \n",
              "1           -586               2      1  \n",
              "2           -586               2      1  \n",
              "3           -586               2      1  \n",
              "4           -586               2      1  "
            ],
            "text/html": [
              "\n",
              "  <div id=\"df-0d4a4aae-f41e-45ce-bf1d-525811e55d4e\">\n",
              "    <div class=\"colab-df-container\">\n",
              "      <div>\n",
              "<style scoped>\n",
              "    .dataframe tbody tr th:only-of-type {\n",
              "        vertical-align: middle;\n",
              "    }\n",
              "\n",
              "    .dataframe tbody tr th {\n",
              "        vertical-align: top;\n",
              "    }\n",
              "\n",
              "    .dataframe thead th {\n",
              "        text-align: right;\n",
              "    }\n",
              "</style>\n",
              "<table border=\"1\" class=\"dataframe\">\n",
              "  <thead>\n",
              "    <tr style=\"text-align: right;\">\n",
              "      <th></th>\n",
              "      <th>GENDER</th>\n",
              "      <th>Car_Owner</th>\n",
              "      <th>Propert_Owner</th>\n",
              "      <th>CHILDREN</th>\n",
              "      <th>Annual_income</th>\n",
              "      <th>Birthday_count</th>\n",
              "      <th>Employed_days</th>\n",
              "      <th>Family_Members</th>\n",
              "      <th>label</th>\n",
              "    </tr>\n",
              "  </thead>\n",
              "  <tbody>\n",
              "    <tr>\n",
              "      <th>0</th>\n",
              "      <td>1.0</td>\n",
              "      <td>0</td>\n",
              "      <td>0</td>\n",
              "      <td>0</td>\n",
              "      <td>180000.0</td>\n",
              "      <td>-18772.0</td>\n",
              "      <td>365243</td>\n",
              "      <td>2</td>\n",
              "      <td>1</td>\n",
              "    </tr>\n",
              "    <tr>\n",
              "      <th>1</th>\n",
              "      <td>0.0</td>\n",
              "      <td>0</td>\n",
              "      <td>1</td>\n",
              "      <td>0</td>\n",
              "      <td>315000.0</td>\n",
              "      <td>-13557.0</td>\n",
              "      <td>-586</td>\n",
              "      <td>2</td>\n",
              "      <td>1</td>\n",
              "    </tr>\n",
              "    <tr>\n",
              "      <th>2</th>\n",
              "      <td>0.0</td>\n",
              "      <td>0</td>\n",
              "      <td>1</td>\n",
              "      <td>0</td>\n",
              "      <td>315000.0</td>\n",
              "      <td>NaN</td>\n",
              "      <td>-586</td>\n",
              "      <td>2</td>\n",
              "      <td>1</td>\n",
              "    </tr>\n",
              "    <tr>\n",
              "      <th>3</th>\n",
              "      <td>0.0</td>\n",
              "      <td>0</td>\n",
              "      <td>1</td>\n",
              "      <td>0</td>\n",
              "      <td>NaN</td>\n",
              "      <td>-13557.0</td>\n",
              "      <td>-586</td>\n",
              "      <td>2</td>\n",
              "      <td>1</td>\n",
              "    </tr>\n",
              "    <tr>\n",
              "      <th>4</th>\n",
              "      <td>0.0</td>\n",
              "      <td>0</td>\n",
              "      <td>1</td>\n",
              "      <td>0</td>\n",
              "      <td>315000.0</td>\n",
              "      <td>-13557.0</td>\n",
              "      <td>-586</td>\n",
              "      <td>2</td>\n",
              "      <td>1</td>\n",
              "    </tr>\n",
              "  </tbody>\n",
              "</table>\n",
              "</div>\n",
              "      <button class=\"colab-df-convert\" onclick=\"convertToInteractive('df-0d4a4aae-f41e-45ce-bf1d-525811e55d4e')\"\n",
              "              title=\"Convert this dataframe to an interactive table.\"\n",
              "              style=\"display:none;\">\n",
              "        \n",
              "  <svg xmlns=\"http://www.w3.org/2000/svg\" height=\"24px\"viewBox=\"0 0 24 24\"\n",
              "       width=\"24px\">\n",
              "    <path d=\"M0 0h24v24H0V0z\" fill=\"none\"/>\n",
              "    <path d=\"M18.56 5.44l.94 2.06.94-2.06 2.06-.94-2.06-.94-.94-2.06-.94 2.06-2.06.94zm-11 1L8.5 8.5l.94-2.06 2.06-.94-2.06-.94L8.5 2.5l-.94 2.06-2.06.94zm10 10l.94 2.06.94-2.06 2.06-.94-2.06-.94-.94-2.06-.94 2.06-2.06.94z\"/><path d=\"M17.41 7.96l-1.37-1.37c-.4-.4-.92-.59-1.43-.59-.52 0-1.04.2-1.43.59L10.3 9.45l-7.72 7.72c-.78.78-.78 2.05 0 2.83L4 21.41c.39.39.9.59 1.41.59.51 0 1.02-.2 1.41-.59l7.78-7.78 2.81-2.81c.8-.78.8-2.07 0-2.86zM5.41 20L4 18.59l7.72-7.72 1.47 1.35L5.41 20z\"/>\n",
              "  </svg>\n",
              "      </button>\n",
              "      \n",
              "  <style>\n",
              "    .colab-df-container {\n",
              "      display:flex;\n",
              "      flex-wrap:wrap;\n",
              "      gap: 12px;\n",
              "    }\n",
              "\n",
              "    .colab-df-convert {\n",
              "      background-color: #E8F0FE;\n",
              "      border: none;\n",
              "      border-radius: 50%;\n",
              "      cursor: pointer;\n",
              "      display: none;\n",
              "      fill: #1967D2;\n",
              "      height: 32px;\n",
              "      padding: 0 0 0 0;\n",
              "      width: 32px;\n",
              "    }\n",
              "\n",
              "    .colab-df-convert:hover {\n",
              "      background-color: #E2EBFA;\n",
              "      box-shadow: 0px 1px 2px rgba(60, 64, 67, 0.3), 0px 1px 3px 1px rgba(60, 64, 67, 0.15);\n",
              "      fill: #174EA6;\n",
              "    }\n",
              "\n",
              "    [theme=dark] .colab-df-convert {\n",
              "      background-color: #3B4455;\n",
              "      fill: #D2E3FC;\n",
              "    }\n",
              "\n",
              "    [theme=dark] .colab-df-convert:hover {\n",
              "      background-color: #434B5C;\n",
              "      box-shadow: 0px 1px 3px 1px rgba(0, 0, 0, 0.15);\n",
              "      filter: drop-shadow(0px 1px 2px rgba(0, 0, 0, 0.3));\n",
              "      fill: #FFFFFF;\n",
              "    }\n",
              "  </style>\n",
              "\n",
              "      <script>\n",
              "        const buttonEl =\n",
              "          document.querySelector('#df-0d4a4aae-f41e-45ce-bf1d-525811e55d4e button.colab-df-convert');\n",
              "        buttonEl.style.display =\n",
              "          google.colab.kernel.accessAllowed ? 'block' : 'none';\n",
              "\n",
              "        async function convertToInteractive(key) {\n",
              "          const element = document.querySelector('#df-0d4a4aae-f41e-45ce-bf1d-525811e55d4e');\n",
              "          const dataTable =\n",
              "            await google.colab.kernel.invokeFunction('convertToInteractive',\n",
              "                                                     [key], {});\n",
              "          if (!dataTable) return;\n",
              "\n",
              "          const docLinkHtml = 'Like what you see? Visit the ' +\n",
              "            '<a target=\"_blank\" href=https://colab.research.google.com/notebooks/data_table.ipynb>data table notebook</a>'\n",
              "            + ' to learn more about interactive tables.';\n",
              "          element.innerHTML = '';\n",
              "          dataTable['output_type'] = 'display_data';\n",
              "          await google.colab.output.renderOutput(dataTable, element);\n",
              "          const docLink = document.createElement('div');\n",
              "          docLink.innerHTML = docLinkHtml;\n",
              "          element.appendChild(docLink);\n",
              "        }\n",
              "      </script>\n",
              "    </div>\n",
              "  </div>\n",
              "  "
            ]
          },
          "metadata": {},
          "execution_count": 24
        }
      ]
    },
    {
      "cell_type": "markdown",
      "source": [
        "# For Dealing with Missing value we can do a Imputation Techaniques"
      ],
      "metadata": {
        "id": "SAonWeytX8WJ"
      }
    },
    {
      "cell_type": "code",
      "source": [
        "knn_imputer = KNN() # calling KNN function\n",
        "Cedit_card_knn = Credit_card.copy(deep=True) # creating copy\n",
        "Cedit_card_knn.iloc[:, :] = knn_imputer.fit_transform(Cedit_card_knn)\n"
      ],
      "metadata": {
        "colab": {
          "base_uri": "https://localhost:8080/"
        },
        "id": "0NIhiclaYIan",
        "outputId": "08b61797-30e1-46a9-f95d-da80aa484977"
      },
      "execution_count": 25,
      "outputs": [
        {
          "output_type": "stream",
          "name": "stdout",
          "text": [
            "Imputing row 1/1548 with 0 missing, elapsed time: 0.526\n",
            "Imputing row 101/1548 with 0 missing, elapsed time: 0.528\n",
            "Imputing row 201/1548 with 0 missing, elapsed time: 0.530\n",
            "Imputing row 301/1548 with 0 missing, elapsed time: 0.531\n",
            "Imputing row 401/1548 with 0 missing, elapsed time: 0.532\n",
            "Imputing row 501/1548 with 0 missing, elapsed time: 0.533\n",
            "Imputing row 601/1548 with 0 missing, elapsed time: 0.534\n",
            "Imputing row 701/1548 with 0 missing, elapsed time: 0.535\n",
            "Imputing row 801/1548 with 0 missing, elapsed time: 0.536\n",
            "Imputing row 901/1548 with 0 missing, elapsed time: 0.537\n",
            "Imputing row 1001/1548 with 0 missing, elapsed time: 0.538\n",
            "Imputing row 1101/1548 with 0 missing, elapsed time: 0.539\n",
            "Imputing row 1201/1548 with 0 missing, elapsed time: 0.540\n",
            "Imputing row 1301/1548 with 0 missing, elapsed time: 0.541\n",
            "Imputing row 1401/1548 with 0 missing, elapsed time: 0.542\n",
            "Imputing row 1501/1548 with 0 missing, elapsed time: 0.543\n"
          ]
        }
      ]
    },
    {
      "cell_type": "code",
      "source": [
        "Cedit_card_knn.isnull().sum()"
      ],
      "metadata": {
        "colab": {
          "base_uri": "https://localhost:8080/"
        },
        "id": "Yww_E3kbZXCV",
        "outputId": "76e0c07b-8a03-4223-d156-82af4deeb29b"
      },
      "execution_count": 26,
      "outputs": [
        {
          "output_type": "execute_result",
          "data": {
            "text/plain": [
              "GENDER            0\n",
              "Car_Owner         0\n",
              "Propert_Owner     0\n",
              "CHILDREN          0\n",
              "Annual_income     0\n",
              "Birthday_count    0\n",
              "Employed_days     0\n",
              "Family_Members    0\n",
              "label             0\n",
              "dtype: int64"
            ]
          },
          "metadata": {},
          "execution_count": 26
        }
      ]
    },
    {
      "cell_type": "code",
      "source": [
        "Credit_card=Cedit_card_knn #assigning the value"
      ],
      "metadata": {
        "id": "dOQ5d0u-Z69Y"
      },
      "execution_count": 27,
      "outputs": []
    },
    {
      "cell_type": "code",
      "source": [
        "Credit_card['Age']=-(Credit_card['Birthday_count'])//365     # we give name age column by divide the birthdat count//365\n",
        "Credit_card['Employee_from_years']=-(Credit_card['Employed_days'])//365   # we give name Employee_from_years  column by divide the Employed_days//365\n",
        "Credit_card.drop(columns=('Birthday_count'),inplace=True)\n",
        "Credit_card.drop(columns=('Employed_days'),inplace=True)"
      ],
      "metadata": {
        "id": "JTXTec66aEN1"
      },
      "execution_count": 28,
      "outputs": []
    },
    {
      "cell_type": "code",
      "source": [
        "Credit_card.head()"
      ],
      "metadata": {
        "colab": {
          "base_uri": "https://localhost:8080/",
          "height": 206
        },
        "id": "pXR-xEAefGgx",
        "outputId": "47fb76e4-72fc-4357-da4b-146271d66ef7"
      },
      "execution_count": 29,
      "outputs": [
        {
          "output_type": "execute_result",
          "data": {
            "text/plain": [
              "   GENDER  Car_Owner  Propert_Owner  CHILDREN  Annual_income  Family_Members  \\\n",
              "0     1.0        0.0            0.0       0.0       180000.0             2.0   \n",
              "1     0.0        0.0            1.0       0.0       315000.0             2.0   \n",
              "2     0.0        0.0            1.0       0.0       315000.0             2.0   \n",
              "3     0.0        0.0            1.0       0.0       315000.0             2.0   \n",
              "4     0.0        0.0            1.0       0.0       315000.0             2.0   \n",
              "\n",
              "   label   Age  Employee_from_years  \n",
              "0    1.0  51.0              -1001.0  \n",
              "1    1.0  37.0                  1.0  \n",
              "2    1.0  37.0                  1.0  \n",
              "3    1.0  37.0                  1.0  \n",
              "4    1.0  37.0                  1.0  "
            ],
            "text/html": [
              "\n",
              "  <div id=\"df-cdee175a-bb7d-4180-b5bf-360c8d408234\">\n",
              "    <div class=\"colab-df-container\">\n",
              "      <div>\n",
              "<style scoped>\n",
              "    .dataframe tbody tr th:only-of-type {\n",
              "        vertical-align: middle;\n",
              "    }\n",
              "\n",
              "    .dataframe tbody tr th {\n",
              "        vertical-align: top;\n",
              "    }\n",
              "\n",
              "    .dataframe thead th {\n",
              "        text-align: right;\n",
              "    }\n",
              "</style>\n",
              "<table border=\"1\" class=\"dataframe\">\n",
              "  <thead>\n",
              "    <tr style=\"text-align: right;\">\n",
              "      <th></th>\n",
              "      <th>GENDER</th>\n",
              "      <th>Car_Owner</th>\n",
              "      <th>Propert_Owner</th>\n",
              "      <th>CHILDREN</th>\n",
              "      <th>Annual_income</th>\n",
              "      <th>Family_Members</th>\n",
              "      <th>label</th>\n",
              "      <th>Age</th>\n",
              "      <th>Employee_from_years</th>\n",
              "    </tr>\n",
              "  </thead>\n",
              "  <tbody>\n",
              "    <tr>\n",
              "      <th>0</th>\n",
              "      <td>1.0</td>\n",
              "      <td>0.0</td>\n",
              "      <td>0.0</td>\n",
              "      <td>0.0</td>\n",
              "      <td>180000.0</td>\n",
              "      <td>2.0</td>\n",
              "      <td>1.0</td>\n",
              "      <td>51.0</td>\n",
              "      <td>-1001.0</td>\n",
              "    </tr>\n",
              "    <tr>\n",
              "      <th>1</th>\n",
              "      <td>0.0</td>\n",
              "      <td>0.0</td>\n",
              "      <td>1.0</td>\n",
              "      <td>0.0</td>\n",
              "      <td>315000.0</td>\n",
              "      <td>2.0</td>\n",
              "      <td>1.0</td>\n",
              "      <td>37.0</td>\n",
              "      <td>1.0</td>\n",
              "    </tr>\n",
              "    <tr>\n",
              "      <th>2</th>\n",
              "      <td>0.0</td>\n",
              "      <td>0.0</td>\n",
              "      <td>1.0</td>\n",
              "      <td>0.0</td>\n",
              "      <td>315000.0</td>\n",
              "      <td>2.0</td>\n",
              "      <td>1.0</td>\n",
              "      <td>37.0</td>\n",
              "      <td>1.0</td>\n",
              "    </tr>\n",
              "    <tr>\n",
              "      <th>3</th>\n",
              "      <td>0.0</td>\n",
              "      <td>0.0</td>\n",
              "      <td>1.0</td>\n",
              "      <td>0.0</td>\n",
              "      <td>315000.0</td>\n",
              "      <td>2.0</td>\n",
              "      <td>1.0</td>\n",
              "      <td>37.0</td>\n",
              "      <td>1.0</td>\n",
              "    </tr>\n",
              "    <tr>\n",
              "      <th>4</th>\n",
              "      <td>0.0</td>\n",
              "      <td>0.0</td>\n",
              "      <td>1.0</td>\n",
              "      <td>0.0</td>\n",
              "      <td>315000.0</td>\n",
              "      <td>2.0</td>\n",
              "      <td>1.0</td>\n",
              "      <td>37.0</td>\n",
              "      <td>1.0</td>\n",
              "    </tr>\n",
              "  </tbody>\n",
              "</table>\n",
              "</div>\n",
              "      <button class=\"colab-df-convert\" onclick=\"convertToInteractive('df-cdee175a-bb7d-4180-b5bf-360c8d408234')\"\n",
              "              title=\"Convert this dataframe to an interactive table.\"\n",
              "              style=\"display:none;\">\n",
              "        \n",
              "  <svg xmlns=\"http://www.w3.org/2000/svg\" height=\"24px\"viewBox=\"0 0 24 24\"\n",
              "       width=\"24px\">\n",
              "    <path d=\"M0 0h24v24H0V0z\" fill=\"none\"/>\n",
              "    <path d=\"M18.56 5.44l.94 2.06.94-2.06 2.06-.94-2.06-.94-.94-2.06-.94 2.06-2.06.94zm-11 1L8.5 8.5l.94-2.06 2.06-.94-2.06-.94L8.5 2.5l-.94 2.06-2.06.94zm10 10l.94 2.06.94-2.06 2.06-.94-2.06-.94-.94-2.06-.94 2.06-2.06.94z\"/><path d=\"M17.41 7.96l-1.37-1.37c-.4-.4-.92-.59-1.43-.59-.52 0-1.04.2-1.43.59L10.3 9.45l-7.72 7.72c-.78.78-.78 2.05 0 2.83L4 21.41c.39.39.9.59 1.41.59.51 0 1.02-.2 1.41-.59l7.78-7.78 2.81-2.81c.8-.78.8-2.07 0-2.86zM5.41 20L4 18.59l7.72-7.72 1.47 1.35L5.41 20z\"/>\n",
              "  </svg>\n",
              "      </button>\n",
              "      \n",
              "  <style>\n",
              "    .colab-df-container {\n",
              "      display:flex;\n",
              "      flex-wrap:wrap;\n",
              "      gap: 12px;\n",
              "    }\n",
              "\n",
              "    .colab-df-convert {\n",
              "      background-color: #E8F0FE;\n",
              "      border: none;\n",
              "      border-radius: 50%;\n",
              "      cursor: pointer;\n",
              "      display: none;\n",
              "      fill: #1967D2;\n",
              "      height: 32px;\n",
              "      padding: 0 0 0 0;\n",
              "      width: 32px;\n",
              "    }\n",
              "\n",
              "    .colab-df-convert:hover {\n",
              "      background-color: #E2EBFA;\n",
              "      box-shadow: 0px 1px 2px rgba(60, 64, 67, 0.3), 0px 1px 3px 1px rgba(60, 64, 67, 0.15);\n",
              "      fill: #174EA6;\n",
              "    }\n",
              "\n",
              "    [theme=dark] .colab-df-convert {\n",
              "      background-color: #3B4455;\n",
              "      fill: #D2E3FC;\n",
              "    }\n",
              "\n",
              "    [theme=dark] .colab-df-convert:hover {\n",
              "      background-color: #434B5C;\n",
              "      box-shadow: 0px 1px 3px 1px rgba(0, 0, 0, 0.15);\n",
              "      filter: drop-shadow(0px 1px 2px rgba(0, 0, 0, 0.3));\n",
              "      fill: #FFFFFF;\n",
              "    }\n",
              "  </style>\n",
              "\n",
              "      <script>\n",
              "        const buttonEl =\n",
              "          document.querySelector('#df-cdee175a-bb7d-4180-b5bf-360c8d408234 button.colab-df-convert');\n",
              "        buttonEl.style.display =\n",
              "          google.colab.kernel.accessAllowed ? 'block' : 'none';\n",
              "\n",
              "        async function convertToInteractive(key) {\n",
              "          const element = document.querySelector('#df-cdee175a-bb7d-4180-b5bf-360c8d408234');\n",
              "          const dataTable =\n",
              "            await google.colab.kernel.invokeFunction('convertToInteractive',\n",
              "                                                     [key], {});\n",
              "          if (!dataTable) return;\n",
              "\n",
              "          const docLinkHtml = 'Like what you see? Visit the ' +\n",
              "            '<a target=\"_blank\" href=https://colab.research.google.com/notebooks/data_table.ipynb>data table notebook</a>'\n",
              "            + ' to learn more about interactive tables.';\n",
              "          element.innerHTML = '';\n",
              "          dataTable['output_type'] = 'display_data';\n",
              "          await google.colab.output.renderOutput(dataTable, element);\n",
              "          const docLink = document.createElement('div');\n",
              "          docLink.innerHTML = docLinkHtml;\n",
              "          element.appendChild(docLink);\n",
              "        }\n",
              "      </script>\n",
              "    </div>\n",
              "  </div>\n",
              "  "
            ]
          },
          "metadata": {},
          "execution_count": 29
        }
      ]
    },
    {
      "cell_type": "markdown",
      "source": [
        "#Now Dealing with outliers which we seen above at the time of describe\n",
        "\n",
        "\n",
        "\n"
      ],
      "metadata": {
        "id": "Uuz2sQW8fNK_"
      }
    },
    {
      "cell_type": "code",
      "source": [
        "\n",
        "fig = px.box(Credit_card, y=\"Annual_income\", height = 500, width = 500)\n",
        "fig.show()\n",
        "fig = px.box(Credit_card, y=\"Employee_from_years\", height = 500, width = 500)\n",
        "fig.show()"
      ],
      "metadata": {
        "colab": {
          "base_uri": "https://localhost:8080/",
          "height": 1000
        },
        "id": "pmBliVhDfT_M",
        "outputId": "7b1c9a54-9e3f-49ba-b969-3a428e540a26"
      },
      "execution_count": 30,
      "outputs": [
        {
          "output_type": "display_data",
          "data": {
            "text/html": [
              "<html>\n",
              "<head><meta charset=\"utf-8\" /></head>\n",
              "<body>\n",
              "    <div>            <script src=\"https://cdnjs.cloudflare.com/ajax/libs/mathjax/2.7.5/MathJax.js?config=TeX-AMS-MML_SVG\"></script><script type=\"text/javascript\">if (window.MathJax && window.MathJax.Hub && window.MathJax.Hub.Config) {window.MathJax.Hub.Config({SVG: {font: \"STIX-Web\"}});}</script>                <script type=\"text/javascript\">window.PlotlyConfig = {MathJaxConfig: 'local'};</script>\n",
              "        <script src=\"https://cdn.plot.ly/plotly-2.18.2.min.js\"></script>                <div id=\"cdb4c4a8-b5ca-477e-863d-362f7299d4c7\" class=\"plotly-graph-div\" style=\"height:500px; width:500px;\"></div>            <script type=\"text/javascript\">                                    window.PLOTLYENV=window.PLOTLYENV || {};                                    if (document.getElementById(\"cdb4c4a8-b5ca-477e-863d-362f7299d4c7\")) {                    Plotly.newPlot(                        \"cdb4c4a8-b5ca-477e-863d-362f7299d4c7\",                        [{\"alignmentgroup\":\"True\",\"hovertemplate\":\"Annual_income=%{y}<extra></extra>\",\"legendgroup\":\"\",\"marker\":{\"color\":\"#636efa\"},\"name\":\"\",\"notched\":false,\"offsetgroup\":\"\",\"orientation\":\"v\",\"showlegend\":false,\"x0\":\" \",\"xaxis\":\"x\",\"y\":[180000.0,315000.0,315000.0,315000.0,315000.0,315000.0,315000.0,180000.0,450000.0,450000.0,450000.0,90000.0,90000.00017361263,90000.0,472500.0,270000.0,270000.0,126000.0,126000.0,90000.0,202500.0,202500.0,157500.0,112500.0,180000.0,540000.0,112500.0,112500.36983625632,292500.0,540000.0,90000.0,112500.0,135000.0,135000.0,180000.0,112500.0,292500.0,76500.0,215100.0,450000.0,270000.0,225000.0,225000.0,225000.0,157500.0,157500.0,67500.0,180000.0,180000.0,157500.0,157500.0,171000.0,135000.0,135000.0,103500.0,103500.0,225000.0,225000.0,225000.0,180000.0,157500.0,157500.0,180000.0,180000.0,99000.0,99000.14174890362,99000.0,99000.0,391500.0,391500.0,391500.0,65250.0,72900.0,225000.0,67500.0,180000.0,179997.8301170077,202500.0,157500.0,202500.0,270000.0,135000.0,360000.0,256500.0,256500.0,157500.0,225000.0,180000.0,180000.0,202500.0,202500.0,202500.0,315000.0,225000.0,126000.0,675000.0,135000.0,135000.0,247500.0,103500.0,85500.0,135000.0,135000.0,180000.0,121500.0,180000.0,225000.0,222527.5811048619,135000.0,225000.0,67500.0,135000.0,130500.0,130500.0,202500.0,202500.0,202500.0,202500.0,202500.0,126000.0,126000.0,180000.0,180000.0,180000.0,180000.0,179999.81100083765,211500.0,157500.0,81000.0,81000.0,112500.0,112500.0,112500.0,112500.0,112500.0,72000.0,202500.0,148500.0,135000.0,135000.0,270000.0,135000.0,135000.0,162000.0,112500.0,112500.0,112500.0,135000.0,135000.0,195750.0,585000.0,585000.0,450000.00002815557,450000.0,450000.0,112500.0,112500.0,67500.0,67500.0,67500.0,216000.0,306000.0,90000.0,225000.0,108000.0,135000.0,135000.0,108000.0,108000.0,450000.0,450000.0,450000.0,315000.0,157500.0,157500.0,81000.0,225000.0,180000.0,135000.0,135000.0,63000.0,135000.0,112500.0,112500.0,45000.0,139029.6533578492,202500.0,180000.0,450000.0,256500.0,90000.0,180000.0,90000.0,135000.0,126000.0,126000.0,337500.0,90000.0,131400.0,180000.0,247500.0,121500.0,117000.0,90000.0,445500.0,157500.0,112500.0,180000.0,157500.0,117000.0,234000.0,1575000.0,247500.0,144000.0,180000.0,280537.65125350736,216000.0,90000.0,171000.0,180000.0,225000.0,225000.0,270000.0,67050.0,270000.0,73350.0,112500.0,144000.0,225000.0,112500.0,292500.0,135000.0,157500.0,1575000.0,157500.0,157500.0,135000.0,112500.0,202500.0,193500.0,225000.0,108000.0,900000.0,292500.0,270000.0,270000.0,292500.0,292500.0,157500.0,76500.0,157500.0,180000.0,135000.0,112500.0,360000.0,157500.0,225000.0,112500.0,121500.0,202500.0,112500.0,135000.0,103500.0,157500.0,337500.0,180000.0,112500.0,157500.0,360000.0,135000.0,337500.0,135000.0,360000.0,245214.96974870638,450000.0,270000.0,270000.0,270000.0,450000.0,157500.0,112500.0,292500.0,112500.0,247500.0,157500.0,225000.0,94500.0,81000.0,180000.0,198000.0,180000.0,315000.0,67500.0,180000.0,202500.0,112500.0,306000.0,90000.0,270000.0,270000.0,234000.0,171000.0,225000.0,94500.0,117000.0,180000.0,202500.0,54000.0,112500.0,85500.0,135000.0,166500.0,157500.0,247500.0,180000.0,72000.0,202500.0,180000.0,270000.0,202500.0,360000.0,270000.0,270000.0,112500.0,186010.98860922144,157500.0,202500.0,99000.0,162000.0,225000.0,225000.0,72000.0,135000.0,315000.0,167400.0,180000.0,135000.0,99000.0,225000.0,153000.0,423000.0,90000.0,360000.0,247500.0,225000.0,67500.0,112500.0,157500.0,90000.0,90000.0,225000.0,112500.0,112500.0,315000.0,135000.0,450000.0,90000.0,270000.0,180000.0,135000.0,243000.0,225000.0,112500.0,234000.0,180000.0,121500.0,121500.0,270000.0,180000.0,90000.0,135000.0,247500.0,76500.0,85500.0,202500.0,157500.0,225000.0,225000.0,540000.0,283500.0,90000.0,229882.99671168556,252000.0,135000.0,315000.0,450000.0,180000.0,270000.0,495000.0,180000.0,306000.0,157500.0,180000.0,612000.0,36000.0,112500.0,292500.0,180000.0,202500.0,292500.0,315000.0,135000.0,337500.0,157500.0,360000.0,135000.0,270000.0,157500.0,157500.0,139500.0,135000.0,133650.0,427500.0,81000.0,225000.0,126000.0,135000.0,94500.0,180000.0,157500.0,252000.0,202500.0,117000.0,247500.0,180000.0,180000.0,180000.0,157500.0,135000.0,143548.905416904,202500.0,90000.0,247500.0,99000.0,247500.0,202500.0,90000.0,121500.0,157500.0,121500.0,135000.0,180000.0,144000.0,126000.0,225000.0,157500.0,157500.0,270000.0,261000.0,135000.0,202500.0,157500.0,103500.0,135000.0,135000.0,112500.0,231750.0,202500.0,247500.0,135000.0,135000.0,112500.0,117000.0,112500.0,135000.0,103500.0,315000.0,180000.0,247500.0,135000.0,157500.0,315000.0,247500.0,157500.0,59590.9229374355,247500.0,166500.0,112500.0,90900.0,112500.0,45900.0,126000.0,103500.0,119250.0,202500.0,157500.0,112500.0,315000.0,270000.0,162000.0,270000.0,112500.0,58500.0,94500.0,270000.0,270000.0,99000.0,315000.0,157500.0,180000.0,211500.0,202500.0,180000.0,144000.0,144000.0,270000.0,148500.0,157500.0,90000.0,148500.0,99000.0,315000.0,162000.0,202500.0,225000.0,612000.0,292500.0,67500.0,157500.0,135000.0,67500.0,144000.0,90000.0,112500.0,112500.0,135000.0,360000.0,112500.0,225000.0,112500.0,202500.0,202500.0,225000.0,112500.0,202500.0,328500.0,112500.0,202500.0,135000.0,157500.0,270000.0,157500.0,193500.0,103500.0,90000.0,198000.0,202500.0,225000.0,72000.0,202500.0,247500.0,157500.0,225000.0,112500.0,450000.0,180000.0,108000.0,787500.0,202500.0,157500.0,90000.0,167088.35734361326,225000.0,90000.0,72000.0,225000.0,157500.0,360000.0,450000.0,216000.0,157500.0,315000.0,315000.0,594000.0,135000.0,180000.0,157500.0,234000.0,99000.0,225000.0,292500.0,198000.0,90000.0,247500.0,112500.0,157500.0,112500.0,585000.0,180000.0,225000.0,225000.0,135000.0,112500.0,112500.0,180000.0,112500.0,117000.0,135000.0,270000.0,135000.0,157500.0,243000.0,121500.0,135000.0,225000.0,225000.0,112500.0,157500.0,202500.0,337500.0,103500.0,99000.0,67500.0,112500.0,270000.0,315000.0,135000.0,180000.0,225000.0,85500.0,135000.0,119700.0,495000.0,112500.0,153000.0,216000.0,202500.0,90000.0,108000.0,270000.0,76500.0,69372.0,135000.0,117000.0,202500.0,126000.0,135000.0,180000.0,225000.0,81000.0,157500.0,90000.0,225000.0,157500.0,103500.0,202500.0,37800.0,135000.0,157500.0,180000.0,135000.0,225000.0,157500.0,387000.0,225000.0,225000.0,126000.0,135000.0,202500.0,225000.0,157500.0,202500.0,247500.0,225000.0,112500.0,112500.0,135000.0,207000.0,270000.0,315000.0,315000.0,112500.0,121500.0,225000.0,225000.0,157500.0,225000.0,135000.0,225000.0,270000.0,202500.0,135000.0,112500.0,157500.0,450000.0,202500.0,900000.0,135000.0,337500.0,94500.0,90000.0,157500.0,270000.0,112500.0,135000.0,270000.0,112500.0,225000.0,54000.0,189000.0,135000.0,157500.0,121500.0,180000.0,121500.0,225000.0,180000.0,315000.0,112500.0,90000.0,90000.0,45000.0,180000.0,112500.0,135000.0,360000.0,135000.0,99000.0,270000.0,157500.0,228366.20476805602,180000.0,315000.0,112500.0,108000.0,180000.0,225000.0,90000.0,292500.0,157500.0,135000.0,315000.0,225000.0,333000.0,171000.0,130500.0,112500.0,202500.0,126000.0,225000.0,135000.0,112500.0,105750.0,135000.0,180000.0,360000.0,157500.0,90000.0,112500.0,180000.0,225000.0,67500.0,270000.0,202500.0,144000.0,207000.0,180000.0,202500.0,202500.0,180000.0,126000.0,157500.0,225000.0,202500.0,103500.0,90000.0,135000.0,67500.0,135000.0,382500.0,270000.0,202500.0,292500.0,225000.0,135000.0,76500.0,180000.0,450000.0,90000.0,157500.0,306000.0,90000.0,135000.0,193500.0,180000.0,270000.0,112500.0,202500.0,180000.0,139500.0,135000.0,202500.0,112500.0,126000.0,193500.0,112500.0,337500.0,157500.0,193500.0,180000.0,315000.0,180000.0,90000.0,180000.0,112500.0,157500.0,135000.0,315000.0,112500.0,135000.0,99000.0,900000.0,270000.0,112500.0,180000.0,141750.0,180000.0,112500.0,225000.0,270000.0,202500.0,135000.0,292500.0,202500.0,99000.0,202500.0,306000.0,148500.0,135000.0,180000.0,180000.0,157500.0,247500.0,112500.0,180000.0,103500.0,198000.0,135000.0,67500.0,202500.0,315000.0,292500.0,148500.0,202500.0,180000.0,90000.0,135000.0,135000.0,261000.0,135000.0,112500.0,135000.0,135000.0,360000.0,171000.0,40500.0,130500.0,306000.0,202500.0,112500.0,112500.0,90000.0,153000.0,135000.0,180000.0,112500.0,90000.0,157500.0,247500.0,112500.0,67500.0,360000.0,360000.0,315000.0,157500.0,135000.0,166500.0,180000.0,225000.0,135000.0,135000.0,193500.0,247500.0,315000.0,405000.0,405000.0,90000.0,270000.0,243000.0,180000.0,112500.0,337500.0,135000.0,117000.0,202500.0,270000.0,202500.0,135000.0,216000.0,135000.0,225000.0,81000.0,180000.0,292500.0,225000.0,157500.0,157500.0,166500.0,445500.0,180000.0,45000.0,315000.0,450000.0,180000.0,90000.0,139499.83504500551,148500.0,135000.0,144000.0,135000.0,360000.0,90000.0,157500.0,135000.0,292500.0,112500.0,216000.0,126000.0,135000.0,189000.0,337500.0,44550.0,112500.0,157500.0,112500.0,135000.0,135000.0,301500.0,112500.0,90000.0,67500.0,292500.0,315000.0,117000.0,157500.0,67500.0,189000.0,202500.0,157500.0,225000.0,112500.0,202500.0,180000.0,225000.0,157500.0,180000.0,112500.0,81000.0,90000.0,180000.0,94500.0,180000.0,450000.0,315000.0,54000.0,112500.0,157500.0,180000.0,225000.0,360000.0,112500.0,292500.0,360000.0,225000.0,126000.0,135000.0,270000.0,157500.0,216000.0,337500.0,225000.0,108000.0,225000.0,180000.0,180000.0,135000.0,180000.0,112500.0,270000.0,270000.0,270000.0,135000.0,351000.0,202500.0,189000.0,270000.0,144000.0,67500.0,247500.0,157500.0,157500.0,157500.0,180000.0,315000.0,99000.0,351000.0,175500.0,306000.0,157500.0,58500.0,292500.0,90000.00052975942,225000.0,247500.0,189000.0,247500.0,90000.0,148500.0,180000.0,180000.0,121900.5,112500.0,180000.0,225000.0,450000.0,225000.0,135000.0,157500.0,238500.0,261000.0,180000.0,225000.0,135000.0,112500.0,180000.0,171000.0,135000.0,202500.0,33750.0,135000.0,135000.0,157500.0,67500.0,135000.0,153000.0,180000.0,180000.0,121500.0,112500.0,270000.0,360000.0,116100.0,225000.0,450000.0,225000.0,405000.0,112500.0,157500.0,202500.0,297000.0,315000.0,202500.0,180000.0,202500.0,360000.0,112500.0,121500.0,112500.0,900000.0,112500.0,135000.0,261000.0,121500.0,202500.0,94500.0,225000.0,630000.0,202500.0,360000.0,157500.0,247500.0,81000.0,360000.0,315000.0,126000.0,225000.0,135000.0,225000.0,112500.0,40500.0,157500.0,67500.0,315000.0,270000.0,180000.0,157500.0,252000.0,270000.0,157500.0,270000.0,162000.0,315000.0,202500.0,180000.0,112500.0,135000.0,225000.0,157500.0,112500.0,202500.0,162000.0,450000.0,157500.0,270000.0,90000.0,67500.0,225000.0,135000.0,135000.0,157500.0,180000.0,418500.0,225000.0,135000.0,360000.0,135000.0,112500.0,225000.0,180000.0,202500.0,315000.0,315000.0,112500.0,83250.0,261000.0,247500.0,360000.0,135000.0,225000.0,270000.0,112500.0,112500.0,225000.0,173250.0,148500.0,315000.0,135000.0,157500.0,76500.0,225000.0,157500.0,216000.0,90000.0,211500.0,202500.0,112500.0,112500.0,166500.0,72000.0,135000.0,157500.0,67500.0,135000.0,207000.0,148500.0,112500.0,112500.0,202500.0,67500.0,67500.0,306000.0,90000.0,360000.0,112500.0,270000.0,450000.0,67500.0,180000.0,270000.0,315000.0,247500.0,72000.0,81000.0,171000.0,135000.0,135000.0,202500.0,292500.0,360000.0,315000.0,405000.0,225000.0,198000.0,202500.0,90000.0,166500.0,73350.0,135000.0,103500.0,202500.0,76500.0,225000.0,126000.0,211500.0,157500.0,112500.0,225000.0,135000.0,405000.0,135000.0,112500.0,247500.0,270000.0,225000.0,90000.0,135000.0,67500.0,135000.0,193500.0,135000.0,202500.0,135000.0,180000.0,112500.0,247500.0,360000.0,193500.0,67500.0,306000.0,153000.0,171000.0,112500.0,360000.0,157500.0,112500.0,292500.0,315000.0,135000.0,180000.0,180000.0,292500.0,135000.0,225000.0,225000.0,135000.0,292500.0,180000.0,274500.0,225000.0,180000.0,225000.0,360000.0,126000.0,180000.0,54000.0,76500.0,247500.0,112500.0,81000.0,135000.0,135000.0,99000.0,67500.0,224741.96825124143,202500.0,58500.0,135000.0,135000.0,180000.0,112500.0,144000.0,112500.0,135000.0,81000.0,193500.0,144000.0,292500.0,157500.0,315000.0,135000.0,202500.0,180000.0,112500.0,112500.0,270000.0,76500.0,292500.0,405000.0,193500.0,180000.0,115200.0,56250.0,180000.0,157500.0,202500.0,135000.0,202500.0,157500.0,225000.0,218835.4477938273,202500.0,85500.0,157500.0,270000.0,157500.0,360000.0,90000.0,90000.0,135000.0,112500.0,225000.0,225000.0,202500.0,202500.0,225000.0,108000.0,225000.0,180000.0,135000.0,112500.0,90000.0,90000.0,103500.0,72000.0,135000.0,495000.0,135000.0,360000.0,135000.0,225000.0,135000.0,81000.0,90000.0,450000.0,360000.0,225000.0,202500.0,202500.0,95850.0,112500.0,126000.0,99000.0,112500.0,180000.0,225000.0,225000.0,202500.0,180000.0,135000.0,315000.0,387000.0,45000.0,185400.0,76500.0,225000.0,810000.0,126000.0,135000.0,90000.0,157500.0,180000.0,112500.0,270000.0,135000.0,103500.0,130500.0,90000.0,112500.0,157500.0,202500.0,67500.0,189000.0,180000.0,135000.0,135000.0,166500.0,90000.0,337500.0,90000.0,157500.0,112500.0,180000.0,112500.0,135000.0,135000.0,135000.0,228171.83184600354,126000.0,247500.0,184500.0,165600.0,315000.0,112500.0,112500.0,202500.0,72000.0,202500.0,391500.0,112500.0,157500.0,112500.0,270000.0,270000.0,247500.0,360000.0,189000.0,157500.0,405000.0,157500.0,130500.0,135000.0,90000.0,67500.0,135000.0,247500.0,157500.0,135000.0,126000.0,180000.0,112500.0,247500.0,112500.0,315000.0,67500.0,337500.0,337500.0,112500.0,157500.0,292500.0,135000.0,450000.0,180000.0,135000.0,180000.0,202500.0,180000.0,112500.0,135000.0,81000.0,135000.0,270000.0,247500.0,202500.0,225000.0,157500.0,216000.0,202500.0,135000.0,247500.0,180000.0,67500.0,130500.0,99000.0,112500.0,247500.0,180000.0,225000.0,405000.0,247500.0,171000.0,180000.0,337500.0,315000.0,247500.0,180000.0,83250.0,202500.0,450000.0,135000.0,225000.0,157500.0,270000.0,216000.0,114750.0,99000.0,47250.0,49500.0,135000.0,225000.0,450000.0,225000.0,90000.0,180000.0,103500.0,135000.0,225000.0,112500.0,270000.0,270000.0,202500.0,180000.0,180000.0,108000.0,225000.0,157500.0,405000.0,225000.0,216000.0,135000.0,112500.0,135000.0,157500.0,45000.0,157500.0,198000.0,234000.0,157500.0,207000.0,198000.0,157500.0,180000.0,216000.0,112500.0,94500.0,69750.0,103500.0,157500.0,112500.0,67500.0,112500.0,157500.0,270000.0,135000.0,112500.0,126000.0,175500.0,148500.0,126000.0,180000.0,225000.0,126000.0,157500.0,157500.0,270000.0,180000.0,144000.0,112500.0,225000.0,450000.0,180000.0,144000.0,225000.0,360000.0,172480.3477105168,225000.0,180000.0,270000.0,225000.0],\"y0\":\" \",\"yaxis\":\"y\",\"type\":\"box\"}],                        {\"template\":{\"data\":{\"histogram2dcontour\":[{\"type\":\"histogram2dcontour\",\"colorbar\":{\"outlinewidth\":0,\"ticks\":\"\"},\"colorscale\":[[0.0,\"#0d0887\"],[0.1111111111111111,\"#46039f\"],[0.2222222222222222,\"#7201a8\"],[0.3333333333333333,\"#9c179e\"],[0.4444444444444444,\"#bd3786\"],[0.5555555555555556,\"#d8576b\"],[0.6666666666666666,\"#ed7953\"],[0.7777777777777778,\"#fb9f3a\"],[0.8888888888888888,\"#fdca26\"],[1.0,\"#f0f921\"]]}],\"choropleth\":[{\"type\":\"choropleth\",\"colorbar\":{\"outlinewidth\":0,\"ticks\":\"\"}}],\"histogram2d\":[{\"type\":\"histogram2d\",\"colorbar\":{\"outlinewidth\":0,\"ticks\":\"\"},\"colorscale\":[[0.0,\"#0d0887\"],[0.1111111111111111,\"#46039f\"],[0.2222222222222222,\"#7201a8\"],[0.3333333333333333,\"#9c179e\"],[0.4444444444444444,\"#bd3786\"],[0.5555555555555556,\"#d8576b\"],[0.6666666666666666,\"#ed7953\"],[0.7777777777777778,\"#fb9f3a\"],[0.8888888888888888,\"#fdca26\"],[1.0,\"#f0f921\"]]}],\"heatmap\":[{\"type\":\"heatmap\",\"colorbar\":{\"outlinewidth\":0,\"ticks\":\"\"},\"colorscale\":[[0.0,\"#0d0887\"],[0.1111111111111111,\"#46039f\"],[0.2222222222222222,\"#7201a8\"],[0.3333333333333333,\"#9c179e\"],[0.4444444444444444,\"#bd3786\"],[0.5555555555555556,\"#d8576b\"],[0.6666666666666666,\"#ed7953\"],[0.7777777777777778,\"#fb9f3a\"],[0.8888888888888888,\"#fdca26\"],[1.0,\"#f0f921\"]]}],\"heatmapgl\":[{\"type\":\"heatmapgl\",\"colorbar\":{\"outlinewidth\":0,\"ticks\":\"\"},\"colorscale\":[[0.0,\"#0d0887\"],[0.1111111111111111,\"#46039f\"],[0.2222222222222222,\"#7201a8\"],[0.3333333333333333,\"#9c179e\"],[0.4444444444444444,\"#bd3786\"],[0.5555555555555556,\"#d8576b\"],[0.6666666666666666,\"#ed7953\"],[0.7777777777777778,\"#fb9f3a\"],[0.8888888888888888,\"#fdca26\"],[1.0,\"#f0f921\"]]}],\"contourcarpet\":[{\"type\":\"contourcarpet\",\"colorbar\":{\"outlinewidth\":0,\"ticks\":\"\"}}],\"contour\":[{\"type\":\"contour\",\"colorbar\":{\"outlinewidth\":0,\"ticks\":\"\"},\"colorscale\":[[0.0,\"#0d0887\"],[0.1111111111111111,\"#46039f\"],[0.2222222222222222,\"#7201a8\"],[0.3333333333333333,\"#9c179e\"],[0.4444444444444444,\"#bd3786\"],[0.5555555555555556,\"#d8576b\"],[0.6666666666666666,\"#ed7953\"],[0.7777777777777778,\"#fb9f3a\"],[0.8888888888888888,\"#fdca26\"],[1.0,\"#f0f921\"]]}],\"surface\":[{\"type\":\"surface\",\"colorbar\":{\"outlinewidth\":0,\"ticks\":\"\"},\"colorscale\":[[0.0,\"#0d0887\"],[0.1111111111111111,\"#46039f\"],[0.2222222222222222,\"#7201a8\"],[0.3333333333333333,\"#9c179e\"],[0.4444444444444444,\"#bd3786\"],[0.5555555555555556,\"#d8576b\"],[0.6666666666666666,\"#ed7953\"],[0.7777777777777778,\"#fb9f3a\"],[0.8888888888888888,\"#fdca26\"],[1.0,\"#f0f921\"]]}],\"mesh3d\":[{\"type\":\"mesh3d\",\"colorbar\":{\"outlinewidth\":0,\"ticks\":\"\"}}],\"scatter\":[{\"fillpattern\":{\"fillmode\":\"overlay\",\"size\":10,\"solidity\":0.2},\"type\":\"scatter\"}],\"parcoords\":[{\"type\":\"parcoords\",\"line\":{\"colorbar\":{\"outlinewidth\":0,\"ticks\":\"\"}}}],\"scatterpolargl\":[{\"type\":\"scatterpolargl\",\"marker\":{\"colorbar\":{\"outlinewidth\":0,\"ticks\":\"\"}}}],\"bar\":[{\"error_x\":{\"color\":\"#2a3f5f\"},\"error_y\":{\"color\":\"#2a3f5f\"},\"marker\":{\"line\":{\"color\":\"#E5ECF6\",\"width\":0.5},\"pattern\":{\"fillmode\":\"overlay\",\"size\":10,\"solidity\":0.2}},\"type\":\"bar\"}],\"scattergeo\":[{\"type\":\"scattergeo\",\"marker\":{\"colorbar\":{\"outlinewidth\":0,\"ticks\":\"\"}}}],\"scatterpolar\":[{\"type\":\"scatterpolar\",\"marker\":{\"colorbar\":{\"outlinewidth\":0,\"ticks\":\"\"}}}],\"histogram\":[{\"marker\":{\"pattern\":{\"fillmode\":\"overlay\",\"size\":10,\"solidity\":0.2}},\"type\":\"histogram\"}],\"scattergl\":[{\"type\":\"scattergl\",\"marker\":{\"colorbar\":{\"outlinewidth\":0,\"ticks\":\"\"}}}],\"scatter3d\":[{\"type\":\"scatter3d\",\"line\":{\"colorbar\":{\"outlinewidth\":0,\"ticks\":\"\"}},\"marker\":{\"colorbar\":{\"outlinewidth\":0,\"ticks\":\"\"}}}],\"scattermapbox\":[{\"type\":\"scattermapbox\",\"marker\":{\"colorbar\":{\"outlinewidth\":0,\"ticks\":\"\"}}}],\"scatterternary\":[{\"type\":\"scatterternary\",\"marker\":{\"colorbar\":{\"outlinewidth\":0,\"ticks\":\"\"}}}],\"scattercarpet\":[{\"type\":\"scattercarpet\",\"marker\":{\"colorbar\":{\"outlinewidth\":0,\"ticks\":\"\"}}}],\"carpet\":[{\"aaxis\":{\"endlinecolor\":\"#2a3f5f\",\"gridcolor\":\"white\",\"linecolor\":\"white\",\"minorgridcolor\":\"white\",\"startlinecolor\":\"#2a3f5f\"},\"baxis\":{\"endlinecolor\":\"#2a3f5f\",\"gridcolor\":\"white\",\"linecolor\":\"white\",\"minorgridcolor\":\"white\",\"startlinecolor\":\"#2a3f5f\"},\"type\":\"carpet\"}],\"table\":[{\"cells\":{\"fill\":{\"color\":\"#EBF0F8\"},\"line\":{\"color\":\"white\"}},\"header\":{\"fill\":{\"color\":\"#C8D4E3\"},\"line\":{\"color\":\"white\"}},\"type\":\"table\"}],\"barpolar\":[{\"marker\":{\"line\":{\"color\":\"#E5ECF6\",\"width\":0.5},\"pattern\":{\"fillmode\":\"overlay\",\"size\":10,\"solidity\":0.2}},\"type\":\"barpolar\"}],\"pie\":[{\"automargin\":true,\"type\":\"pie\"}]},\"layout\":{\"autotypenumbers\":\"strict\",\"colorway\":[\"#636efa\",\"#EF553B\",\"#00cc96\",\"#ab63fa\",\"#FFA15A\",\"#19d3f3\",\"#FF6692\",\"#B6E880\",\"#FF97FF\",\"#FECB52\"],\"font\":{\"color\":\"#2a3f5f\"},\"hovermode\":\"closest\",\"hoverlabel\":{\"align\":\"left\"},\"paper_bgcolor\":\"white\",\"plot_bgcolor\":\"#E5ECF6\",\"polar\":{\"bgcolor\":\"#E5ECF6\",\"angularaxis\":{\"gridcolor\":\"white\",\"linecolor\":\"white\",\"ticks\":\"\"},\"radialaxis\":{\"gridcolor\":\"white\",\"linecolor\":\"white\",\"ticks\":\"\"}},\"ternary\":{\"bgcolor\":\"#E5ECF6\",\"aaxis\":{\"gridcolor\":\"white\",\"linecolor\":\"white\",\"ticks\":\"\"},\"baxis\":{\"gridcolor\":\"white\",\"linecolor\":\"white\",\"ticks\":\"\"},\"caxis\":{\"gridcolor\":\"white\",\"linecolor\":\"white\",\"ticks\":\"\"}},\"coloraxis\":{\"colorbar\":{\"outlinewidth\":0,\"ticks\":\"\"}},\"colorscale\":{\"sequential\":[[0.0,\"#0d0887\"],[0.1111111111111111,\"#46039f\"],[0.2222222222222222,\"#7201a8\"],[0.3333333333333333,\"#9c179e\"],[0.4444444444444444,\"#bd3786\"],[0.5555555555555556,\"#d8576b\"],[0.6666666666666666,\"#ed7953\"],[0.7777777777777778,\"#fb9f3a\"],[0.8888888888888888,\"#fdca26\"],[1.0,\"#f0f921\"]],\"sequentialminus\":[[0.0,\"#0d0887\"],[0.1111111111111111,\"#46039f\"],[0.2222222222222222,\"#7201a8\"],[0.3333333333333333,\"#9c179e\"],[0.4444444444444444,\"#bd3786\"],[0.5555555555555556,\"#d8576b\"],[0.6666666666666666,\"#ed7953\"],[0.7777777777777778,\"#fb9f3a\"],[0.8888888888888888,\"#fdca26\"],[1.0,\"#f0f921\"]],\"diverging\":[[0,\"#8e0152\"],[0.1,\"#c51b7d\"],[0.2,\"#de77ae\"],[0.3,\"#f1b6da\"],[0.4,\"#fde0ef\"],[0.5,\"#f7f7f7\"],[0.6,\"#e6f5d0\"],[0.7,\"#b8e186\"],[0.8,\"#7fbc41\"],[0.9,\"#4d9221\"],[1,\"#276419\"]]},\"xaxis\":{\"gridcolor\":\"white\",\"linecolor\":\"white\",\"ticks\":\"\",\"title\":{\"standoff\":15},\"zerolinecolor\":\"white\",\"automargin\":true,\"zerolinewidth\":2},\"yaxis\":{\"gridcolor\":\"white\",\"linecolor\":\"white\",\"ticks\":\"\",\"title\":{\"standoff\":15},\"zerolinecolor\":\"white\",\"automargin\":true,\"zerolinewidth\":2},\"scene\":{\"xaxis\":{\"backgroundcolor\":\"#E5ECF6\",\"gridcolor\":\"white\",\"linecolor\":\"white\",\"showbackground\":true,\"ticks\":\"\",\"zerolinecolor\":\"white\",\"gridwidth\":2},\"yaxis\":{\"backgroundcolor\":\"#E5ECF6\",\"gridcolor\":\"white\",\"linecolor\":\"white\",\"showbackground\":true,\"ticks\":\"\",\"zerolinecolor\":\"white\",\"gridwidth\":2},\"zaxis\":{\"backgroundcolor\":\"#E5ECF6\",\"gridcolor\":\"white\",\"linecolor\":\"white\",\"showbackground\":true,\"ticks\":\"\",\"zerolinecolor\":\"white\",\"gridwidth\":2}},\"shapedefaults\":{\"line\":{\"color\":\"#2a3f5f\"}},\"annotationdefaults\":{\"arrowcolor\":\"#2a3f5f\",\"arrowhead\":0,\"arrowwidth\":1},\"geo\":{\"bgcolor\":\"white\",\"landcolor\":\"#E5ECF6\",\"subunitcolor\":\"white\",\"showland\":true,\"showlakes\":true,\"lakecolor\":\"white\"},\"title\":{\"x\":0.05},\"mapbox\":{\"style\":\"light\"}}},\"xaxis\":{\"anchor\":\"y\",\"domain\":[0.0,1.0]},\"yaxis\":{\"anchor\":\"x\",\"domain\":[0.0,1.0],\"title\":{\"text\":\"Annual_income\"}},\"legend\":{\"tracegroupgap\":0},\"margin\":{\"t\":60},\"boxmode\":\"group\",\"height\":500,\"width\":500},                        {\"responsive\": true}                    ).then(function(){\n",
              "                            \n",
              "var gd = document.getElementById('cdb4c4a8-b5ca-477e-863d-362f7299d4c7');\n",
              "var x = new MutationObserver(function (mutations, observer) {{\n",
              "        var display = window.getComputedStyle(gd).display;\n",
              "        if (!display || display === 'none') {{\n",
              "            console.log([gd, 'removed!']);\n",
              "            Plotly.purge(gd);\n",
              "            observer.disconnect();\n",
              "        }}\n",
              "}});\n",
              "\n",
              "// Listen for the removal of the full notebook cells\n",
              "var notebookContainer = gd.closest('#notebook-container');\n",
              "if (notebookContainer) {{\n",
              "    x.observe(notebookContainer, {childList: true});\n",
              "}}\n",
              "\n",
              "// Listen for the clearing of the current output cell\n",
              "var outputEl = gd.closest('.output');\n",
              "if (outputEl) {{\n",
              "    x.observe(outputEl, {childList: true});\n",
              "}}\n",
              "\n",
              "                        })                };                            </script>        </div>\n",
              "</body>\n",
              "</html>"
            ]
          },
          "metadata": {}
        },
        {
          "output_type": "display_data",
          "data": {
            "text/html": [
              "<html>\n",
              "<head><meta charset=\"utf-8\" /></head>\n",
              "<body>\n",
              "    <div>            <script src=\"https://cdnjs.cloudflare.com/ajax/libs/mathjax/2.7.5/MathJax.js?config=TeX-AMS-MML_SVG\"></script><script type=\"text/javascript\">if (window.MathJax && window.MathJax.Hub && window.MathJax.Hub.Config) {window.MathJax.Hub.Config({SVG: {font: \"STIX-Web\"}});}</script>                <script type=\"text/javascript\">window.PlotlyConfig = {MathJaxConfig: 'local'};</script>\n",
              "        <script src=\"https://cdn.plot.ly/plotly-2.18.2.min.js\"></script>                <div id=\"bb3c482a-ca37-47b8-a763-826e469dac71\" class=\"plotly-graph-div\" style=\"height:500px; width:500px;\"></div>            <script type=\"text/javascript\">                                    window.PLOTLYENV=window.PLOTLYENV || {};                                    if (document.getElementById(\"bb3c482a-ca37-47b8-a763-826e469dac71\")) {                    Plotly.newPlot(                        \"bb3c482a-ca37-47b8-a763-826e469dac71\",                        [{\"alignmentgroup\":\"True\",\"hovertemplate\":\"Employee_from_years=%{y}<extra></extra>\",\"legendgroup\":\"\",\"marker\":{\"color\":\"#636efa\"},\"name\":\"\",\"notched\":false,\"offsetgroup\":\"\",\"orientation\":\"v\",\"showlegend\":false,\"x0\":\" \",\"xaxis\":\"x\",\"y\":[-1001.0,1.0,1.0,1.0,1.0,1.0,1.0,-1001.0,1.0,1.0,1.0,2.0,2.0,2.0,2.0,0.0,0.0,6.0,6.0,4.0,11.0,4.0,2.0,2.0,2.0,0.0,-1001.0,-1001.0,9.0,1.0,13.0,-1001.0,6.0,1.0,9.0,4.0,2.0,-1001.0,3.0,2.0,20.0,-1001.0,-1001.0,-1001.0,6.0,6.0,11.0,3.0,3.0,19.0,19.0,0.0,2.0,2.0,1.0,1.0,9.0,9.0,9.0,5.0,3.0,3.0,22.0,22.0,-1001.0,-1001.0,-1001.0,-1001.0,1.0,1.0,1.0,-1001.0,-1001.0,-1001.0,4.0,0.0,0.0,10.0,4.0,7.0,0.0,7.0,5.0,4.0,4.0,3.0,13.0,9.0,9.0,3.0,3.0,3.0,3.0,6.0,5.0,2.0,0.0,0.0,1.0,-1001.0,18.0,1.0,1.0,6.0,22.0,1.0,-1001.0,1.0,19.0,0.0,-1001.0,-1001.0,4.0,4.0,9.0,9.0,9.0,9.0,9.0,2.0,2.0,20.0,-1001.0,-1001.0,-1001.0,-1001.0,20.0,10.0,-1001.0,-1001.0,-1001.0,-1001.0,-1001.0,-1001.0,-1001.0,2.0,0.0,-1001.0,1.0,1.0,4.0,4.0,5.0,-1001.0,1.0,1.0,1.0,5.0,5.0,2.0,2.0,2.0,11.0,11.0,11.0,2.0,2.0,1.0,1.0,1.0,6.0,-1001.0,-1001.0,0.0,3.0,4.0,2.0,2.0,2.0,1.0,1.0,1.0,6.0,3.0,3.0,17.0,6.0,0.0,25.0,8.0,8.0,5.0,-1001.0,2.0,-1001.0,0.0,-1001.0,4.0,12.0,4.0,1.0,1.0,2.0,-1001.0,-1001.0,-1001.0,7.0,4.0,-1001.0,8.0,-1001.0,14.0,8.0,0.0,6.0,1.0,2.0,2.0,3.0,20.0,4.0,6.0,2.0,7.0,6.0,4.0,4.0,1.0,-1001.0,3.0,-1001.0,0.0,6.0,-1001.0,1.0,19.0,4.0,3.0,10.0,2.0,7.0,7.0,5.0,6.0,4.0,6.0,6.0,3.0,13.0,6.0,5.0,2.0,12.0,4.0,4.0,-1001.0,4.0,23.0,17.0,0.0,3.0,1.0,-1001.0,20.0,15.0,4.0,-1001.0,15.0,-1001.0,5.0,16.0,1.0,4.0,12.0,9.0,10.0,-1001.0,0.0,5.0,1.0,1.0,-1001.0,5.0,4.0,1.0,33.0,1.0,14.0,-1001.0,-1001.0,17.0,7.0,25.0,2.0,2.0,3.0,9.0,0.0,6.0,7.0,19.0,5.0,0.0,8.0,8.0,13.0,4.0,10.0,10.0,12.0,4.0,15.0,4.0,0.0,1.0,4.0,5.0,-1001.0,-1001.0,-1001.0,4.0,36.0,4.0,3.0,3.0,0.0,27.0,4.0,13.0,7.0,6.0,0.0,4.0,10.0,2.0,8.0,11.0,-1001.0,-1001.0,-1001.0,0.0,5.0,22.0,0.0,-1001.0,-1001.0,-1001.0,12.0,0.0,20.0,8.0,0.0,11.0,-1001.0,13.0,-1001.0,-1001.0,40.0,9.0,5.0,-1001.0,0.0,-1001.0,16.0,0.0,7.0,4.0,10.0,9.0,7.0,9.0,3.0,-1001.0,22.0,9.0,0.0,8.0,0.0,-1001.0,4.0,4.0,9.0,2.0,23.0,4.0,-1001.0,4.0,2.0,1.0,1.0,-1001.0,10.0,3.0,20.0,-1001.0,15.0,10.0,-1001.0,3.0,8.0,4.0,21.0,3.0,10.0,3.0,1.0,7.0,2.0,6.0,34.0,9.0,2.0,5.0,14.0,9.0,12.0,1.0,1.0,2.0,-1001.0,12.0,5.0,6.0,3.0,1.0,6.0,4.0,4.0,16.0,8.0,7.0,9.0,6.0,1.0,-1001.0,18.0,1.0,0.0,-1001.0,8.0,-1001.0,4.0,7.0,1.0,3.0,6.0,1.0,0.0,4.0,1.0,5.0,0.0,20.0,-1001.0,19.0,1.0,18.0,1.0,4.0,16.0,2.0,-1001.0,1.0,7.0,2.0,0.0,0.0,4.0,3.0,5.0,1.0,-1001.0,2.0,5.0,1.0,-1001.0,8.0,1.0,6.0,5.0,12.0,0.0,1.0,18.0,5.0,-1001.0,22.0,6.0,-1001.0,10.0,-1001.0,0.0,12.0,12.0,1.0,10.0,6.0,3.0,14.0,1.0,2.0,5.0,-1001.0,17.0,2.0,0.0,-1001.0,13.0,6.0,3.0,12.0,22.0,-1001.0,5.0,13.0,2.0,3.0,17.0,2.0,-1001.0,14.0,-1001.0,0.0,15.0,1.0,10.0,13.0,-1001.0,8.0,25.0,4.0,-1001.0,-1001.0,5.0,2.0,26.0,5.0,3.0,3.0,-1001.0,22.0,6.0,5.0,2.0,6.0,7.0,3.0,0.0,2.0,6.0,6.0,6.0,31.0,-1001.0,2.0,8.0,-1001.0,3.0,1.0,10.0,3.0,8.0,0.0,0.0,4.0,0.0,11.0,3.0,14.0,3.0,2.0,3.0,8.0,1.0,4.0,4.0,8.0,11.0,1.0,0.0,12.0,3.0,3.0,-1001.0,1.0,3.0,1.0,7.0,-1001.0,11.0,9.0,-1001.0,7.0,-1001.0,18.0,7.0,6.0,4.0,31.0,14.0,3.0,8.0,0.0,-1001.0,8.0,6.0,3.0,21.0,8.0,2.0,5.0,5.0,4.0,1.0,6.0,2.0,6.0,-1001.0,-1001.0,12.0,3.0,-1001.0,3.0,-1001.0,2.0,10.0,-1001.0,0.0,0.0,2.0,8.0,9.0,0.0,9.0,3.0,8.0,8.0,0.0,1.0,-1001.0,-1001.0,0.0,7.0,6.0,12.0,4.0,-1001.0,4.0,3.0,5.0,7.0,-1001.0,2.0,-1001.0,5.0,1.0,-1001.0,-1001.0,8.0,4.0,0.0,10.0,27.0,13.0,9.0,1.0,14.0,8.0,2.0,6.0,1.0,5.0,18.0,0.0,6.0,14.0,4.0,6.0,9.0,10.0,8.0,6.0,4.0,9.0,8.0,-1001.0,8.0,-1001.0,10.0,6.0,-1001.0,7.0,-1001.0,-1001.0,2.0,11.0,2.0,22.0,20.0,-1001.0,-1001.0,11.0,16.0,3.0,1.0,6.0,4.0,9.0,-1001.0,17.0,7.0,-1001.0,-1001.0,4.0,-1001.0,6.0,12.0,3.0,1.0,1.0,6.0,2.0,7.0,4.0,0.0,11.0,1.0,6.0,8.0,4.0,7.0,0.0,13.0,2.0,20.0,7.0,3.0,14.0,6.0,5.0,3.0,4.0,8.0,4.0,23.0,9.0,9.0,10.0,3.0,8.0,6.0,11.0,3.0,1.0,2.0,4.0,13.0,-1001.0,5.0,10.0,3.0,-1001.0,4.0,10.0,10.0,-1001.0,8.0,5.0,0.0,0.0,5.0,18.0,10.0,4.0,1.0,2.0,6.0,5.0,9.0,1.0,1.0,17.0,2.0,-1001.0,3.0,-1001.0,12.0,1.0,-1001.0,12.0,15.0,-1001.0,3.0,24.0,18.0,-1001.0,-1001.0,0.0,4.0,0.0,1.0,10.0,1.0,-1001.0,-1001.0,4.0,18.0,29.0,10.0,10.0,5.0,-1001.0,-1001.0,6.0,3.0,3.0,14.0,10.0,7.0,-1001.0,-1001.0,2.0,0.0,8.0,6.0,-1001.0,11.0,16.0,0.0,0.0,8.0,22.0,7.0,5.0,14.0,5.0,9.0,-1001.0,4.0,7.0,-1001.0,-1001.0,37.0,0.0,0.0,18.0,-1001.0,6.0,7.0,32.0,2.0,25.0,6.0,4.0,6.0,2.0,8.0,5.0,2.0,22.0,1.0,3.0,25.0,-1001.0,3.0,5.0,13.0,3.0,3.0,1.0,0.0,8.0,-1001.0,1.0,-1001.0,-1001.0,4.0,5.0,4.0,-1001.0,2.0,15.0,4.0,0.0,3.0,-1001.0,11.0,13.0,8.0,0.0,21.0,26.0,4.0,1.0,7.0,4.0,2.0,9.0,5.0,5.0,4.0,20.0,-1001.0,12.0,0.0,-1001.0,2.0,18.0,4.0,2.0,9.0,8.0,10.0,-1001.0,13.0,9.0,9.0,3.0,6.0,11.0,-1001.0,6.0,5.0,19.0,0.0,-1001.0,14.0,18.0,6.0,-1001.0,7.0,9.0,9.0,12.0,11.0,14.0,8.0,7.0,5.0,-1001.0,3.0,-1001.0,3.0,4.0,6.0,4.0,21.0,2.0,20.0,3.0,-1001.0,6.0,3.0,0.0,-1001.0,5.0,-1001.0,14.0,6.0,2.0,3.0,19.0,4.0,6.0,0.0,9.0,7.0,0.0,22.0,1.0,-1001.0,1.0,-1001.0,2.0,2.0,-1001.0,6.0,3.0,10.0,3.0,-1001.0,9.0,14.0,1.0,11.0,-1001.0,4.0,5.0,9.0,4.0,1.0,12.0,6.0,5.0,2.0,1.0,2.0,29.0,33.0,4.0,10.0,6.0,23.0,5.0,-1001.0,3.0,-1001.0,5.0,9.0,6.0,31.0,11.0,2.0,15.0,15.0,2.0,1.0,4.0,10.0,-1001.0,2.0,4.0,4.0,3.0,10.0,9.0,8.0,-1001.0,12.0,3.0,-1001.0,3.0,0.0,1.0,1.0,6.0,4.0,4.0,19.0,1.0,7.0,13.0,5.0,1.0,12.0,17.0,2.0,2.0,-1001.0,-1001.0,-1001.0,6.0,1.0,9.0,-1001.0,4.0,4.0,18.0,6.0,3.0,0.0,6.0,-1001.0,-1001.0,32.0,12.0,1.0,9.0,4.0,3.0,9.0,8.0,6.0,4.0,6.0,-1001.0,-1001.0,2.0,6.0,-1001.0,25.0,4.0,-1001.0,3.0,28.0,11.0,-1001.0,-1001.0,6.0,4.0,5.0,5.0,8.0,10.0,7.0,3.0,4.0,10.0,3.0,13.0,-1001.0,1.0,18.0,6.0,-1001.0,-1001.0,2.0,4.0,4.0,5.0,-1001.0,3.0,5.0,16.0,1.0,2.0,7.0,6.0,4.0,2.0,7.0,2.0,4.0,7.0,2.0,-1001.0,-1001.0,7.0,-1001.0,8.0,7.0,0.0,9.0,9.0,10.0,8.0,1.0,1.0,2.0,5.0,0.0,1.0,4.0,-1001.0,7.0,6.0,10.0,3.0,6.0,22.0,-1001.0,1.0,6.0,6.0,2.0,11.0,4.0,-1001.0,5.0,4.0,6.0,7.0,-1001.0,3.0,1.0,20.0,1.0,1.0,15.0,6.0,6.0,0.0,3.0,9.0,7.0,6.0,2.0,5.0,19.0,8.0,9.0,22.0,8.0,4.0,1.0,3.0,10.0,8.0,4.0,-1001.0,3.0,1.0,6.0,-1001.0,0.0,5.0,32.0,9.0,15.0,9.0,1.0,8.0,-1001.0,1.0,0.0,22.0,19.0,5.0,-1001.0,-1001.0,-1001.0,0.0,6.0,4.0,3.0,-1001.0,-1001.0,2.0,3.0,1.0,6.0,20.0,4.0,2.0,-1001.0,9.0,5.0,3.0,5.0,4.0,0.0,0.0,-1001.0,1.0,5.0,6.0,10.0,4.0,8.0,-1001.0,9.0,0.0,1.0,3.0,-1001.0,23.0,5.0,3.0,9.0,8.0,29.0,-1001.0,17.0,-1001.0,11.0,4.0,0.0,18.0,4.0,8.0,10.0,4.0,-1001.0,4.0,12.0,2.0,6.0,9.0,-1001.0,6.0,2.0,6.0,31.0,1.0,2.0,16.0,1.0,1.0,6.0,10.0,5.0,2.0,9.0,6.0,20.0,2.0,-1001.0,3.0,7.0,1.0,7.0,3.0,10.0,6.0,14.0,-1001.0,10.0,13.0,31.0,15.0,1.0,-1001.0,4.0,3.0,0.0,4.0,15.0,-1001.0,4.0,8.0,8.0,23.0,-1001.0,0.0,1.0,-1001.0,-1001.0,-1001.0,-1001.0,3.0,0.0,2.0,14.0,0.0,4.0,8.0,5.0,3.0,4.0,-1001.0,15.0,1.0,35.0,0.0,1.0,14.0,19.0,1.0,18.0,6.0,3.0,-1001.0,14.0,9.0,6.0,0.0,17.0,11.0,18.0,2.0,5.0,2.0,4.0,16.0,4.0,0.0,19.0,-1001.0,1.0,3.0,1.0,-1001.0,8.0,0.0,2.0,9.0,1.0,-1001.0,10.0,14.0,-1001.0,35.0,-1001.0,15.0,18.0,15.0,0.0,0.0,-1001.0,24.0,-1001.0,2.0,21.0,14.0,1.0,8.0,-1001.0,4.0,22.0,18.0,-1001.0,7.0,1.0,2.0,5.0,1.0,2.0,15.0,5.0,4.0,-1001.0,7.0,-1001.0,5.0,4.0,-1001.0,4.0,19.0,1.0,12.0,3.0,6.0,16.0,15.0,-1001.0,-1001.0,9.0,10.0,10.0,15.0,-1001.0,-1001.0,0.0,4.0,3.0,3.0,10.0,-1001.0,5.0,-1001.0,8.0,-1001.0,7.0,-1001.0,3.0,9.0,-1001.0,4.0,29.0,17.0,12.0,0.0,8.0,6.0,0.0,4.0,6.0,-1001.0,1.0,29.0,1.0,7.0,10.0,6.0,14.0,27.0,2.0,11.0,0.0,8.0,-1001.0,9.0,1.0,0.0,0.0,5.0,-1001.0,5.0,7.0,10.0,7.0,2.0,6.0,6.0,-1001.0,17.0,0.0,1.0,5.0,7.0,1.0,2.0,13.0,-1001.0,1.0,-1001.0,-1001.0,5.0,2.0,9.0,4.0,-1001.0,6.0,-1001.0,4.0,-1001.0,14.0,1.0,8.0,13.0,8.0,6.0,1.0,2.0,2.0,13.0,3.0,-1001.0,20.0,-1001.0,7.0,-1001.0,14.0,1.0,0.0,14.0,1.0,1.0,-1001.0,-1001.0,4.0,-1001.0,6.0,2.0,-1001.0,3.0,8.0,2.0,7.0,10.0,1.0,6.0,4.0,0.0,0.0,-1001.0,0.0,14.0,16.0,5.0,5.0,-1001.0,3.0,5.0,9.0,12.0,1.0,3.0,15.0,1.0,8.0,4.0,9.0,5.0,3.0,6.0,1.0,7.0],\"y0\":\" \",\"yaxis\":\"y\",\"type\":\"box\"}],                        {\"template\":{\"data\":{\"histogram2dcontour\":[{\"type\":\"histogram2dcontour\",\"colorbar\":{\"outlinewidth\":0,\"ticks\":\"\"},\"colorscale\":[[0.0,\"#0d0887\"],[0.1111111111111111,\"#46039f\"],[0.2222222222222222,\"#7201a8\"],[0.3333333333333333,\"#9c179e\"],[0.4444444444444444,\"#bd3786\"],[0.5555555555555556,\"#d8576b\"],[0.6666666666666666,\"#ed7953\"],[0.7777777777777778,\"#fb9f3a\"],[0.8888888888888888,\"#fdca26\"],[1.0,\"#f0f921\"]]}],\"choropleth\":[{\"type\":\"choropleth\",\"colorbar\":{\"outlinewidth\":0,\"ticks\":\"\"}}],\"histogram2d\":[{\"type\":\"histogram2d\",\"colorbar\":{\"outlinewidth\":0,\"ticks\":\"\"},\"colorscale\":[[0.0,\"#0d0887\"],[0.1111111111111111,\"#46039f\"],[0.2222222222222222,\"#7201a8\"],[0.3333333333333333,\"#9c179e\"],[0.4444444444444444,\"#bd3786\"],[0.5555555555555556,\"#d8576b\"],[0.6666666666666666,\"#ed7953\"],[0.7777777777777778,\"#fb9f3a\"],[0.8888888888888888,\"#fdca26\"],[1.0,\"#f0f921\"]]}],\"heatmap\":[{\"type\":\"heatmap\",\"colorbar\":{\"outlinewidth\":0,\"ticks\":\"\"},\"colorscale\":[[0.0,\"#0d0887\"],[0.1111111111111111,\"#46039f\"],[0.2222222222222222,\"#7201a8\"],[0.3333333333333333,\"#9c179e\"],[0.4444444444444444,\"#bd3786\"],[0.5555555555555556,\"#d8576b\"],[0.6666666666666666,\"#ed7953\"],[0.7777777777777778,\"#fb9f3a\"],[0.8888888888888888,\"#fdca26\"],[1.0,\"#f0f921\"]]}],\"heatmapgl\":[{\"type\":\"heatmapgl\",\"colorbar\":{\"outlinewidth\":0,\"ticks\":\"\"},\"colorscale\":[[0.0,\"#0d0887\"],[0.1111111111111111,\"#46039f\"],[0.2222222222222222,\"#7201a8\"],[0.3333333333333333,\"#9c179e\"],[0.4444444444444444,\"#bd3786\"],[0.5555555555555556,\"#d8576b\"],[0.6666666666666666,\"#ed7953\"],[0.7777777777777778,\"#fb9f3a\"],[0.8888888888888888,\"#fdca26\"],[1.0,\"#f0f921\"]]}],\"contourcarpet\":[{\"type\":\"contourcarpet\",\"colorbar\":{\"outlinewidth\":0,\"ticks\":\"\"}}],\"contour\":[{\"type\":\"contour\",\"colorbar\":{\"outlinewidth\":0,\"ticks\":\"\"},\"colorscale\":[[0.0,\"#0d0887\"],[0.1111111111111111,\"#46039f\"],[0.2222222222222222,\"#7201a8\"],[0.3333333333333333,\"#9c179e\"],[0.4444444444444444,\"#bd3786\"],[0.5555555555555556,\"#d8576b\"],[0.6666666666666666,\"#ed7953\"],[0.7777777777777778,\"#fb9f3a\"],[0.8888888888888888,\"#fdca26\"],[1.0,\"#f0f921\"]]}],\"surface\":[{\"type\":\"surface\",\"colorbar\":{\"outlinewidth\":0,\"ticks\":\"\"},\"colorscale\":[[0.0,\"#0d0887\"],[0.1111111111111111,\"#46039f\"],[0.2222222222222222,\"#7201a8\"],[0.3333333333333333,\"#9c179e\"],[0.4444444444444444,\"#bd3786\"],[0.5555555555555556,\"#d8576b\"],[0.6666666666666666,\"#ed7953\"],[0.7777777777777778,\"#fb9f3a\"],[0.8888888888888888,\"#fdca26\"],[1.0,\"#f0f921\"]]}],\"mesh3d\":[{\"type\":\"mesh3d\",\"colorbar\":{\"outlinewidth\":0,\"ticks\":\"\"}}],\"scatter\":[{\"fillpattern\":{\"fillmode\":\"overlay\",\"size\":10,\"solidity\":0.2},\"type\":\"scatter\"}],\"parcoords\":[{\"type\":\"parcoords\",\"line\":{\"colorbar\":{\"outlinewidth\":0,\"ticks\":\"\"}}}],\"scatterpolargl\":[{\"type\":\"scatterpolargl\",\"marker\":{\"colorbar\":{\"outlinewidth\":0,\"ticks\":\"\"}}}],\"bar\":[{\"error_x\":{\"color\":\"#2a3f5f\"},\"error_y\":{\"color\":\"#2a3f5f\"},\"marker\":{\"line\":{\"color\":\"#E5ECF6\",\"width\":0.5},\"pattern\":{\"fillmode\":\"overlay\",\"size\":10,\"solidity\":0.2}},\"type\":\"bar\"}],\"scattergeo\":[{\"type\":\"scattergeo\",\"marker\":{\"colorbar\":{\"outlinewidth\":0,\"ticks\":\"\"}}}],\"scatterpolar\":[{\"type\":\"scatterpolar\",\"marker\":{\"colorbar\":{\"outlinewidth\":0,\"ticks\":\"\"}}}],\"histogram\":[{\"marker\":{\"pattern\":{\"fillmode\":\"overlay\",\"size\":10,\"solidity\":0.2}},\"type\":\"histogram\"}],\"scattergl\":[{\"type\":\"scattergl\",\"marker\":{\"colorbar\":{\"outlinewidth\":0,\"ticks\":\"\"}}}],\"scatter3d\":[{\"type\":\"scatter3d\",\"line\":{\"colorbar\":{\"outlinewidth\":0,\"ticks\":\"\"}},\"marker\":{\"colorbar\":{\"outlinewidth\":0,\"ticks\":\"\"}}}],\"scattermapbox\":[{\"type\":\"scattermapbox\",\"marker\":{\"colorbar\":{\"outlinewidth\":0,\"ticks\":\"\"}}}],\"scatterternary\":[{\"type\":\"scatterternary\",\"marker\":{\"colorbar\":{\"outlinewidth\":0,\"ticks\":\"\"}}}],\"scattercarpet\":[{\"type\":\"scattercarpet\",\"marker\":{\"colorbar\":{\"outlinewidth\":0,\"ticks\":\"\"}}}],\"carpet\":[{\"aaxis\":{\"endlinecolor\":\"#2a3f5f\",\"gridcolor\":\"white\",\"linecolor\":\"white\",\"minorgridcolor\":\"white\",\"startlinecolor\":\"#2a3f5f\"},\"baxis\":{\"endlinecolor\":\"#2a3f5f\",\"gridcolor\":\"white\",\"linecolor\":\"white\",\"minorgridcolor\":\"white\",\"startlinecolor\":\"#2a3f5f\"},\"type\":\"carpet\"}],\"table\":[{\"cells\":{\"fill\":{\"color\":\"#EBF0F8\"},\"line\":{\"color\":\"white\"}},\"header\":{\"fill\":{\"color\":\"#C8D4E3\"},\"line\":{\"color\":\"white\"}},\"type\":\"table\"}],\"barpolar\":[{\"marker\":{\"line\":{\"color\":\"#E5ECF6\",\"width\":0.5},\"pattern\":{\"fillmode\":\"overlay\",\"size\":10,\"solidity\":0.2}},\"type\":\"barpolar\"}],\"pie\":[{\"automargin\":true,\"type\":\"pie\"}]},\"layout\":{\"autotypenumbers\":\"strict\",\"colorway\":[\"#636efa\",\"#EF553B\",\"#00cc96\",\"#ab63fa\",\"#FFA15A\",\"#19d3f3\",\"#FF6692\",\"#B6E880\",\"#FF97FF\",\"#FECB52\"],\"font\":{\"color\":\"#2a3f5f\"},\"hovermode\":\"closest\",\"hoverlabel\":{\"align\":\"left\"},\"paper_bgcolor\":\"white\",\"plot_bgcolor\":\"#E5ECF6\",\"polar\":{\"bgcolor\":\"#E5ECF6\",\"angularaxis\":{\"gridcolor\":\"white\",\"linecolor\":\"white\",\"ticks\":\"\"},\"radialaxis\":{\"gridcolor\":\"white\",\"linecolor\":\"white\",\"ticks\":\"\"}},\"ternary\":{\"bgcolor\":\"#E5ECF6\",\"aaxis\":{\"gridcolor\":\"white\",\"linecolor\":\"white\",\"ticks\":\"\"},\"baxis\":{\"gridcolor\":\"white\",\"linecolor\":\"white\",\"ticks\":\"\"},\"caxis\":{\"gridcolor\":\"white\",\"linecolor\":\"white\",\"ticks\":\"\"}},\"coloraxis\":{\"colorbar\":{\"outlinewidth\":0,\"ticks\":\"\"}},\"colorscale\":{\"sequential\":[[0.0,\"#0d0887\"],[0.1111111111111111,\"#46039f\"],[0.2222222222222222,\"#7201a8\"],[0.3333333333333333,\"#9c179e\"],[0.4444444444444444,\"#bd3786\"],[0.5555555555555556,\"#d8576b\"],[0.6666666666666666,\"#ed7953\"],[0.7777777777777778,\"#fb9f3a\"],[0.8888888888888888,\"#fdca26\"],[1.0,\"#f0f921\"]],\"sequentialminus\":[[0.0,\"#0d0887\"],[0.1111111111111111,\"#46039f\"],[0.2222222222222222,\"#7201a8\"],[0.3333333333333333,\"#9c179e\"],[0.4444444444444444,\"#bd3786\"],[0.5555555555555556,\"#d8576b\"],[0.6666666666666666,\"#ed7953\"],[0.7777777777777778,\"#fb9f3a\"],[0.8888888888888888,\"#fdca26\"],[1.0,\"#f0f921\"]],\"diverging\":[[0,\"#8e0152\"],[0.1,\"#c51b7d\"],[0.2,\"#de77ae\"],[0.3,\"#f1b6da\"],[0.4,\"#fde0ef\"],[0.5,\"#f7f7f7\"],[0.6,\"#e6f5d0\"],[0.7,\"#b8e186\"],[0.8,\"#7fbc41\"],[0.9,\"#4d9221\"],[1,\"#276419\"]]},\"xaxis\":{\"gridcolor\":\"white\",\"linecolor\":\"white\",\"ticks\":\"\",\"title\":{\"standoff\":15},\"zerolinecolor\":\"white\",\"automargin\":true,\"zerolinewidth\":2},\"yaxis\":{\"gridcolor\":\"white\",\"linecolor\":\"white\",\"ticks\":\"\",\"title\":{\"standoff\":15},\"zerolinecolor\":\"white\",\"automargin\":true,\"zerolinewidth\":2},\"scene\":{\"xaxis\":{\"backgroundcolor\":\"#E5ECF6\",\"gridcolor\":\"white\",\"linecolor\":\"white\",\"showbackground\":true,\"ticks\":\"\",\"zerolinecolor\":\"white\",\"gridwidth\":2},\"yaxis\":{\"backgroundcolor\":\"#E5ECF6\",\"gridcolor\":\"white\",\"linecolor\":\"white\",\"showbackground\":true,\"ticks\":\"\",\"zerolinecolor\":\"white\",\"gridwidth\":2},\"zaxis\":{\"backgroundcolor\":\"#E5ECF6\",\"gridcolor\":\"white\",\"linecolor\":\"white\",\"showbackground\":true,\"ticks\":\"\",\"zerolinecolor\":\"white\",\"gridwidth\":2}},\"shapedefaults\":{\"line\":{\"color\":\"#2a3f5f\"}},\"annotationdefaults\":{\"arrowcolor\":\"#2a3f5f\",\"arrowhead\":0,\"arrowwidth\":1},\"geo\":{\"bgcolor\":\"white\",\"landcolor\":\"#E5ECF6\",\"subunitcolor\":\"white\",\"showland\":true,\"showlakes\":true,\"lakecolor\":\"white\"},\"title\":{\"x\":0.05},\"mapbox\":{\"style\":\"light\"}}},\"xaxis\":{\"anchor\":\"y\",\"domain\":[0.0,1.0]},\"yaxis\":{\"anchor\":\"x\",\"domain\":[0.0,1.0],\"title\":{\"text\":\"Employee_from_years\"}},\"legend\":{\"tracegroupgap\":0},\"margin\":{\"t\":60},\"boxmode\":\"group\",\"height\":500,\"width\":500},                        {\"responsive\": true}                    ).then(function(){\n",
              "                            \n",
              "var gd = document.getElementById('bb3c482a-ca37-47b8-a763-826e469dac71');\n",
              "var x = new MutationObserver(function (mutations, observer) {{\n",
              "        var display = window.getComputedStyle(gd).display;\n",
              "        if (!display || display === 'none') {{\n",
              "            console.log([gd, 'removed!']);\n",
              "            Plotly.purge(gd);\n",
              "            observer.disconnect();\n",
              "        }}\n",
              "}});\n",
              "\n",
              "// Listen for the removal of the full notebook cells\n",
              "var notebookContainer = gd.closest('#notebook-container');\n",
              "if (notebookContainer) {{\n",
              "    x.observe(notebookContainer, {childList: true});\n",
              "}}\n",
              "\n",
              "// Listen for the clearing of the current output cell\n",
              "var outputEl = gd.closest('.output');\n",
              "if (outputEl) {{\n",
              "    x.observe(outputEl, {childList: true});\n",
              "}}\n",
              "\n",
              "                        })                };                            </script>        </div>\n",
              "</body>\n",
              "</html>"
            ]
          },
          "metadata": {}
        }
      ]
    },
    {
      "cell_type": "markdown",
      "source": [
        "#Removing the outliers"
      ],
      "metadata": {
        "id": "EHH-EfCmgcoO"
      }
    },
    {
      "cell_type": "code",
      "source": [
        "q_hi = Credit_card['Annual_income'].quantile(0.999)\n",
        "q_low = Credit_card['Annual_income'].quantile(0.001)\n",
        "Credit_card = Credit_card[(Credit_card['Annual_income']>q_low) & (Credit_card['Annual_income']<q_hi)]"
      ],
      "metadata": {
        "id": "3dViTPFRgUMP"
      },
      "execution_count": 31,
      "outputs": []
    },
    {
      "cell_type": "code",
      "source": [
        "q_hi = Credit_card['Employee_from_years'].quantile(0.999)\n",
        "q_low = Credit_card['Employee_from_years'].quantile(0.001)\n",
        "Credit_card = Credit_card[(Credit_card['Employee_from_years']>q_low) & (Credit_card['Employee_from_years']<q_hi)]"
      ],
      "metadata": {
        "id": "ukfFmZf9gbMF"
      },
      "execution_count": 32,
      "outputs": []
    },
    {
      "cell_type": "markdown",
      "source": [
        "#After remove the outliers from dataset"
      ],
      "metadata": {
        "id": "EcaAOXKYgsfu"
      }
    },
    {
      "cell_type": "code",
      "source": [
        "fig = px.box(Credit_card, y=\"Annual_income\", height = 500, width = 500)\n",
        "fig.show()\n",
        "fig = px.box(Credit_card, y=\"Employee_from_years\", height = 500, width = 500)\n",
        "fig.show()"
      ],
      "metadata": {
        "colab": {
          "base_uri": "https://localhost:8080/",
          "height": 1000
        },
        "id": "FBGs9XHHgl5g",
        "outputId": "d1674963-6906-4407-e5b9-8d4399b9e6de"
      },
      "execution_count": 33,
      "outputs": [
        {
          "output_type": "display_data",
          "data": {
            "text/html": [
              "<html>\n",
              "<head><meta charset=\"utf-8\" /></head>\n",
              "<body>\n",
              "    <div>            <script src=\"https://cdnjs.cloudflare.com/ajax/libs/mathjax/2.7.5/MathJax.js?config=TeX-AMS-MML_SVG\"></script><script type=\"text/javascript\">if (window.MathJax && window.MathJax.Hub && window.MathJax.Hub.Config) {window.MathJax.Hub.Config({SVG: {font: \"STIX-Web\"}});}</script>                <script type=\"text/javascript\">window.PlotlyConfig = {MathJaxConfig: 'local'};</script>\n",
              "        <script src=\"https://cdn.plot.ly/plotly-2.18.2.min.js\"></script>                <div id=\"fcd508cb-f007-4698-9188-05de9de54d8e\" class=\"plotly-graph-div\" style=\"height:500px; width:500px;\"></div>            <script type=\"text/javascript\">                                    window.PLOTLYENV=window.PLOTLYENV || {};                                    if (document.getElementById(\"fcd508cb-f007-4698-9188-05de9de54d8e\")) {                    Plotly.newPlot(                        \"fcd508cb-f007-4698-9188-05de9de54d8e\",                        [{\"alignmentgroup\":\"True\",\"hovertemplate\":\"Annual_income=%{y}<extra></extra>\",\"legendgroup\":\"\",\"marker\":{\"color\":\"#636efa\"},\"name\":\"\",\"notched\":false,\"offsetgroup\":\"\",\"orientation\":\"v\",\"showlegend\":false,\"x0\":\" \",\"xaxis\":\"x\",\"y\":[315000.0,315000.0,315000.0,315000.0,315000.0,315000.0,450000.0,450000.0,450000.0,90000.0,90000.00017361263,90000.0,472500.0,270000.0,270000.0,126000.0,126000.0,90000.0,202500.0,202500.0,157500.0,112500.0,180000.0,540000.0,292500.0,540000.0,90000.0,135000.0,135000.0,180000.0,112500.0,292500.0,215100.0,450000.0,270000.0,157500.0,157500.0,67500.0,180000.0,180000.0,157500.0,157500.0,171000.0,135000.0,135000.0,103500.0,103500.0,225000.0,225000.0,225000.0,180000.0,157500.0,157500.0,180000.0,180000.0,391500.0,391500.0,391500.0,67500.0,180000.0,179997.8301170077,202500.0,157500.0,202500.0,270000.0,135000.0,360000.0,256500.0,256500.0,157500.0,225000.0,180000.0,180000.0,202500.0,202500.0,202500.0,315000.0,225000.0,126000.0,675000.0,135000.0,135000.0,247500.0,85500.0,135000.0,135000.0,180000.0,121500.0,180000.0,222527.5811048619,135000.0,225000.0,130500.0,130500.0,202500.0,202500.0,202500.0,202500.0,202500.0,126000.0,126000.0,180000.0,211500.0,157500.0,72000.0,202500.0,135000.0,135000.0,270000.0,135000.0,135000.0,112500.0,112500.0,112500.0,135000.0,135000.0,195750.0,585000.0,585000.0,450000.00002815557,450000.0,450000.0,112500.0,112500.0,67500.0,67500.0,67500.0,216000.0,225000.0,108000.0,135000.0,135000.0,108000.0,108000.0,450000.0,450000.0,450000.0,315000.0,157500.0,157500.0,81000.0,225000.0,180000.0,135000.0,135000.0,63000.0,135000.0,112500.0,139029.6533578492,180000.0,450000.0,256500.0,90000.0,180000.0,90000.0,337500.0,90000.0,180000.0,121500.0,117000.0,90000.0,445500.0,157500.0,112500.0,180000.0,157500.0,117000.0,234000.0,247500.0,144000.0,180000.0,280537.65125350736,216000.0,90000.0,180000.0,225000.0,270000.0,270000.0,73350.0,112500.0,144000.0,225000.0,112500.0,292500.0,135000.0,157500.0,157500.0,157500.0,135000.0,112500.0,202500.0,193500.0,225000.0,108000.0,900000.0,292500.0,270000.0,292500.0,292500.0,157500.0,76500.0,157500.0,180000.0,112500.0,360000.0,157500.0,112500.0,202500.0,112500.0,135000.0,103500.0,157500.0,337500.0,180000.0,157500.0,360000.0,135000.0,337500.0,360000.0,245214.96974870638,450000.0,270000.0,270000.0,270000.0,112500.0,292500.0,112500.0,247500.0,157500.0,225000.0,94500.0,81000.0,180000.0,198000.0,180000.0,315000.0,67500.0,180000.0,202500.0,112500.0,306000.0,90000.0,270000.0,270000.0,234000.0,171000.0,225000.0,94500.0,117000.0,180000.0,202500.0,135000.0,166500.0,157500.0,247500.0,180000.0,72000.0,202500.0,180000.0,270000.0,202500.0,360000.0,270000.0,270000.0,112500.0,186010.98860922144,157500.0,202500.0,225000.0,72000.0,135000.0,315000.0,99000.0,225000.0,153000.0,423000.0,90000.0,360000.0,225000.0,90000.0,90000.0,112500.0,315000.0,135000.0,450000.0,90000.0,270000.0,180000.0,135000.0,243000.0,225000.0,234000.0,180000.0,121500.0,121500.0,270000.0,90000.0,135000.0,247500.0,76500.0,85500.0,202500.0,225000.0,225000.0,540000.0,283500.0,229882.99671168556,252000.0,135000.0,450000.0,180000.0,495000.0,180000.0,306000.0,157500.0,180000.0,612000.0,112500.0,292500.0,180000.0,202500.0,292500.0,315000.0,135000.0,337500.0,157500.0,360000.0,135000.0,270000.0,157500.0,157500.0,135000.0,133650.0,427500.0,81000.0,225000.0,126000.0,135000.0,94500.0,180000.0,157500.0,252000.0,202500.0,117000.0,247500.0,180000.0,180000.0,157500.0,143548.905416904,90000.0,247500.0,99000.0,247500.0,202500.0,90000.0,121500.0,157500.0,121500.0,135000.0,180000.0,144000.0,225000.0,157500.0,157500.0,270000.0,261000.0,135000.0,202500.0,103500.0,135000.0,135000.0,112500.0,231750.0,202500.0,247500.0,135000.0,135000.0,117000.0,112500.0,135000.0,315000.0,180000.0,247500.0,135000.0,157500.0,315000.0,247500.0,157500.0,59590.9229374355,166500.0,112500.0,112500.0,126000.0,103500.0,119250.0,202500.0,157500.0,112500.0,315000.0,270000.0,162000.0,270000.0,112500.0,94500.0,270000.0,270000.0,315000.0,157500.0,180000.0,211500.0,202500.0,144000.0,144000.0,270000.0,148500.0,157500.0,90000.0,99000.0,162000.0,202500.0,225000.0,612000.0,292500.0,157500.0,135000.0,67500.0,112500.0,112500.0,135000.0,360000.0,112500.0,225000.0,202500.0,202500.0,225000.0,112500.0,202500.0,328500.0,112500.0,202500.0,135000.0,157500.0,270000.0,157500.0,193500.0,90000.0,198000.0,225000.0,72000.0,202500.0,247500.0,157500.0,225000.0,112500.0,450000.0,180000.0,108000.0,787500.0,202500.0,157500.0,90000.0,167088.35734361326,225000.0,90000.0,72000.0,225000.0,157500.0,360000.0,450000.0,216000.0,157500.0,315000.0,315000.0,135000.0,180000.0,157500.0,234000.0,225000.0,292500.0,90000.0,112500.0,157500.0,112500.0,585000.0,180000.0,225000.0,225000.0,135000.0,112500.0,180000.0,112500.0,117000.0,135000.0,270000.0,135000.0,157500.0,243000.0,121500.0,135000.0,225000.0,225000.0,112500.0,337500.0,103500.0,67500.0,270000.0,315000.0,180000.0,225000.0,85500.0,135000.0,119700.0,495000.0,112500.0,153000.0,216000.0,202500.0,90000.0,108000.0,69372.0,135000.0,117000.0,202500.0,126000.0,180000.0,225000.0,81000.0,157500.0,225000.0,103500.0,202500.0,157500.0,180000.0,135000.0,225000.0,157500.0,387000.0,225000.0,225000.0,126000.0,135000.0,202500.0,225000.0,157500.0,202500.0,247500.0,225000.0,112500.0,112500.0,135000.0,207000.0,270000.0,315000.0,315000.0,112500.0,121500.0,225000.0,225000.0,225000.0,225000.0,270000.0,135000.0,450000.0,202500.0,900000.0,135000.0,337500.0,157500.0,270000.0,112500.0,135000.0,270000.0,112500.0,225000.0,189000.0,135000.0,180000.0,225000.0,180000.0,315000.0,112500.0,90000.0,90000.0,45000.0,180000.0,112500.0,135000.0,360000.0,135000.0,99000.0,270000.0,157500.0,228366.20476805602,180000.0,315000.0,112500.0,108000.0,180000.0,225000.0,90000.0,292500.0,157500.0,135000.0,315000.0,225000.0,333000.0,171000.0,130500.0,112500.0,202500.0,126000.0,225000.0,135000.0,112500.0,105750.0,135000.0,180000.0,360000.0,157500.0,112500.0,180000.0,225000.0,270000.0,202500.0,144000.0,180000.0,202500.0,202500.0,180000.0,126000.0,157500.0,225000.0,202500.0,103500.0,90000.0,135000.0,67500.0,135000.0,382500.0,270000.0,202500.0,292500.0,135000.0,180000.0,450000.0,157500.0,306000.0,135000.0,193500.0,180000.0,202500.0,180000.0,139500.0,135000.0,202500.0,112500.0,112500.0,337500.0,157500.0,193500.0,180000.0,315000.0,180000.0,112500.0,157500.0,135000.0,315000.0,112500.0,900000.0,270000.0,112500.0,180000.0,180000.0,112500.0,225000.0,270000.0,202500.0,135000.0,292500.0,202500.0,99000.0,202500.0,306000.0,135000.0,180000.0,112500.0,180000.0,103500.0,135000.0,67500.0,202500.0,315000.0,292500.0,148500.0,202500.0,180000.0,90000.0,135000.0,135000.0,261000.0,135000.0,112500.0,135000.0,135000.0,171000.0,40500.0,130500.0,306000.0,202500.0,112500.0,112500.0,90000.0,135000.0,90000.0,157500.0,247500.0,67500.0,360000.0,360000.0,315000.0,157500.0,166500.0,180000.0,225000.0,135000.0,135000.0,193500.0,247500.0,315000.0,405000.0,405000.0,90000.0,270000.0,243000.0,180000.0,112500.0,337500.0,117000.0,202500.0,202500.0,135000.0,216000.0,135000.0,225000.0,81000.0,180000.0,225000.0,157500.0,157500.0,166500.0,445500.0,180000.0,315000.0,450000.0,180000.0,90000.0,148500.0,135000.0,144000.0,360000.0,90000.0,157500.0,135000.0,292500.0,112500.0,216000.0,126000.0,135000.0,337500.0,112500.0,157500.0,112500.0,135000.0,135000.0,301500.0,112500.0,90000.0,292500.0,315000.0,117000.0,67500.0,202500.0,157500.0,225000.0,112500.0,202500.0,180000.0,225000.0,157500.0,180000.0,112500.0,81000.0,90000.0,180000.0,180000.0,315000.0,54000.0,157500.0,180000.0,225000.0,360000.0,292500.0,360000.0,225000.0,126000.0,270000.0,157500.0,216000.0,337500.0,225000.0,108000.0,225000.0,180000.0,180000.0,135000.0,180000.0,112500.0,270000.0,270000.0,270000.0,135000.0,351000.0,202500.0,270000.0,67500.0,247500.0,157500.0,157500.0,157500.0,180000.0,315000.0,99000.0,351000.0,175500.0,306000.0,157500.0,292500.0,90000.00052975942,225000.0,247500.0,189000.0,247500.0,90000.0,180000.0,180000.0,112500.0,180000.0,225000.0,450000.0,225000.0,135000.0,157500.0,238500.0,261000.0,180000.0,225000.0,135000.0,112500.0,180000.0,171000.0,135000.0,202500.0,157500.0,67500.0,135000.0,180000.0,180000.0,121500.0,112500.0,270000.0,360000.0,116100.0,225000.0,405000.0,112500.0,157500.0,202500.0,297000.0,315000.0,202500.0,180000.0,202500.0,360000.0,112500.0,900000.0,135000.0,261000.0,202500.0,94500.0,225000.0,360000.0,157500.0,247500.0,81000.0,360000.0,315000.0,126000.0,225000.0,135000.0,225000.0,112500.0,40500.0,67500.0,315000.0,270000.0,252000.0,270000.0,157500.0,270000.0,315000.0,202500.0,180000.0,112500.0,135000.0,225000.0,157500.0,112500.0,202500.0,162000.0,450000.0,157500.0,270000.0,90000.0,135000.0,157500.0,180000.0,418500.0,225000.0,135000.0,360000.0,135000.0,112500.0,225000.0,180000.0,202500.0,315000.0,315000.0,112500.0,261000.0,247500.0,360000.0,135000.0,225000.0,270000.0,112500.0,225000.0,173250.0,148500.0,315000.0,135000.0,76500.0,225000.0,157500.0,216000.0,211500.0,202500.0,112500.0,112500.0,166500.0,72000.0,135000.0,157500.0,67500.0,135000.0,207000.0,148500.0,112500.0,112500.0,202500.0,67500.0,67500.0,306000.0,90000.0,360000.0,112500.0,270000.0,450000.0,67500.0,180000.0,270000.0,247500.0,72000.0,81000.0,135000.0,135000.0,202500.0,292500.0,360000.0,315000.0,405000.0,225000.0,202500.0,90000.0,166500.0,73350.0,135000.0,225000.0,126000.0,211500.0,157500.0,135000.0,405000.0,135000.0,112500.0,247500.0,270000.0,225000.0,135000.0,67500.0,135000.0,193500.0,135000.0,202500.0,135000.0,112500.0,247500.0,360000.0,193500.0,67500.0,306000.0,171000.0,112500.0,360000.0,157500.0,292500.0,315000.0,135000.0,180000.0,180000.0,292500.0,225000.0,135000.0,292500.0,180000.0,274500.0,225000.0,180000.0,225000.0,360000.0,180000.0,54000.0,76500.0,247500.0,112500.0,135000.0,135000.0,99000.0,67500.0,224741.96825124143,202500.0,58500.0,135000.0,135000.0,180000.0,112500.0,144000.0,112500.0,135000.0,81000.0,193500.0,144000.0,157500.0,315000.0,135000.0,202500.0,180000.0,112500.0,112500.0,270000.0,292500.0,405000.0,193500.0,180000.0,115200.0,180000.0,157500.0,202500.0,135000.0,202500.0,225000.0,218835.4477938273,202500.0,85500.0,270000.0,157500.0,112500.0,225000.0,225000.0,202500.0,202500.0,225000.0,108000.0,225000.0,180000.0,135000.0,90000.0,90000.0,103500.0,72000.0,135000.0,495000.0,135000.0,360000.0,135000.0,225000.0,135000.0,90000.0,450000.0,360000.0,225000.0,202500.0,202500.0,95850.0,112500.0,126000.0,99000.0,112500.0,180000.0,225000.0,225000.0,202500.0,135000.0,315000.0,387000.0,185400.0,76500.0,225000.0,810000.0,126000.0,90000.0,157500.0,112500.0,135000.0,103500.0,130500.0,90000.0,112500.0,202500.0,189000.0,180000.0,135000.0,135000.0,166500.0,337500.0,90000.0,157500.0,180000.0,112500.0,135000.0,135000.0,135000.0,228171.83184600354,126000.0,247500.0,184500.0,315000.0,112500.0,202500.0,202500.0,391500.0,112500.0,157500.0,112500.0,270000.0,270000.0,247500.0,157500.0,405000.0,157500.0,130500.0,67500.0,135000.0,247500.0,157500.0,135000.0,180000.0,247500.0,315000.0,337500.0,337500.0,157500.0,292500.0,135000.0,450000.0,180000.0,135000.0,180000.0,202500.0,180000.0,112500.0,81000.0,135000.0,270000.0,247500.0,202500.0,225000.0,157500.0,216000.0,202500.0,135000.0,247500.0,180000.0,130500.0,99000.0,112500.0,247500.0,180000.0,405000.0,247500.0,171000.0,180000.0,337500.0,315000.0,247500.0,83250.0,202500.0,450000.0,135000.0,225000.0,157500.0,270000.0,216000.0,99000.0,135000.0,225000.0,450000.0,225000.0,180000.0,135000.0,112500.0,270000.0,270000.0,202500.0,180000.0,180000.0,108000.0,225000.0,157500.0,405000.0,225000.0,135000.0,135000.0,45000.0,157500.0,198000.0,234000.0,157500.0,207000.0,180000.0,112500.0,94500.0,103500.0,157500.0,112500.0,67500.0,112500.0,157500.0,270000.0,135000.0,112500.0,126000.0,148500.0,126000.0,180000.0,225000.0,126000.0,157500.0,270000.0,180000.0,144000.0,112500.0,225000.0,450000.0,180000.0,144000.0,225000.0,360000.0,172480.3477105168,225000.0,180000.0,270000.0,225000.0],\"y0\":\" \",\"yaxis\":\"y\",\"type\":\"box\"}],                        {\"template\":{\"data\":{\"histogram2dcontour\":[{\"type\":\"histogram2dcontour\",\"colorbar\":{\"outlinewidth\":0,\"ticks\":\"\"},\"colorscale\":[[0.0,\"#0d0887\"],[0.1111111111111111,\"#46039f\"],[0.2222222222222222,\"#7201a8\"],[0.3333333333333333,\"#9c179e\"],[0.4444444444444444,\"#bd3786\"],[0.5555555555555556,\"#d8576b\"],[0.6666666666666666,\"#ed7953\"],[0.7777777777777778,\"#fb9f3a\"],[0.8888888888888888,\"#fdca26\"],[1.0,\"#f0f921\"]]}],\"choropleth\":[{\"type\":\"choropleth\",\"colorbar\":{\"outlinewidth\":0,\"ticks\":\"\"}}],\"histogram2d\":[{\"type\":\"histogram2d\",\"colorbar\":{\"outlinewidth\":0,\"ticks\":\"\"},\"colorscale\":[[0.0,\"#0d0887\"],[0.1111111111111111,\"#46039f\"],[0.2222222222222222,\"#7201a8\"],[0.3333333333333333,\"#9c179e\"],[0.4444444444444444,\"#bd3786\"],[0.5555555555555556,\"#d8576b\"],[0.6666666666666666,\"#ed7953\"],[0.7777777777777778,\"#fb9f3a\"],[0.8888888888888888,\"#fdca26\"],[1.0,\"#f0f921\"]]}],\"heatmap\":[{\"type\":\"heatmap\",\"colorbar\":{\"outlinewidth\":0,\"ticks\":\"\"},\"colorscale\":[[0.0,\"#0d0887\"],[0.1111111111111111,\"#46039f\"],[0.2222222222222222,\"#7201a8\"],[0.3333333333333333,\"#9c179e\"],[0.4444444444444444,\"#bd3786\"],[0.5555555555555556,\"#d8576b\"],[0.6666666666666666,\"#ed7953\"],[0.7777777777777778,\"#fb9f3a\"],[0.8888888888888888,\"#fdca26\"],[1.0,\"#f0f921\"]]}],\"heatmapgl\":[{\"type\":\"heatmapgl\",\"colorbar\":{\"outlinewidth\":0,\"ticks\":\"\"},\"colorscale\":[[0.0,\"#0d0887\"],[0.1111111111111111,\"#46039f\"],[0.2222222222222222,\"#7201a8\"],[0.3333333333333333,\"#9c179e\"],[0.4444444444444444,\"#bd3786\"],[0.5555555555555556,\"#d8576b\"],[0.6666666666666666,\"#ed7953\"],[0.7777777777777778,\"#fb9f3a\"],[0.8888888888888888,\"#fdca26\"],[1.0,\"#f0f921\"]]}],\"contourcarpet\":[{\"type\":\"contourcarpet\",\"colorbar\":{\"outlinewidth\":0,\"ticks\":\"\"}}],\"contour\":[{\"type\":\"contour\",\"colorbar\":{\"outlinewidth\":0,\"ticks\":\"\"},\"colorscale\":[[0.0,\"#0d0887\"],[0.1111111111111111,\"#46039f\"],[0.2222222222222222,\"#7201a8\"],[0.3333333333333333,\"#9c179e\"],[0.4444444444444444,\"#bd3786\"],[0.5555555555555556,\"#d8576b\"],[0.6666666666666666,\"#ed7953\"],[0.7777777777777778,\"#fb9f3a\"],[0.8888888888888888,\"#fdca26\"],[1.0,\"#f0f921\"]]}],\"surface\":[{\"type\":\"surface\",\"colorbar\":{\"outlinewidth\":0,\"ticks\":\"\"},\"colorscale\":[[0.0,\"#0d0887\"],[0.1111111111111111,\"#46039f\"],[0.2222222222222222,\"#7201a8\"],[0.3333333333333333,\"#9c179e\"],[0.4444444444444444,\"#bd3786\"],[0.5555555555555556,\"#d8576b\"],[0.6666666666666666,\"#ed7953\"],[0.7777777777777778,\"#fb9f3a\"],[0.8888888888888888,\"#fdca26\"],[1.0,\"#f0f921\"]]}],\"mesh3d\":[{\"type\":\"mesh3d\",\"colorbar\":{\"outlinewidth\":0,\"ticks\":\"\"}}],\"scatter\":[{\"fillpattern\":{\"fillmode\":\"overlay\",\"size\":10,\"solidity\":0.2},\"type\":\"scatter\"}],\"parcoords\":[{\"type\":\"parcoords\",\"line\":{\"colorbar\":{\"outlinewidth\":0,\"ticks\":\"\"}}}],\"scatterpolargl\":[{\"type\":\"scatterpolargl\",\"marker\":{\"colorbar\":{\"outlinewidth\":0,\"ticks\":\"\"}}}],\"bar\":[{\"error_x\":{\"color\":\"#2a3f5f\"},\"error_y\":{\"color\":\"#2a3f5f\"},\"marker\":{\"line\":{\"color\":\"#E5ECF6\",\"width\":0.5},\"pattern\":{\"fillmode\":\"overlay\",\"size\":10,\"solidity\":0.2}},\"type\":\"bar\"}],\"scattergeo\":[{\"type\":\"scattergeo\",\"marker\":{\"colorbar\":{\"outlinewidth\":0,\"ticks\":\"\"}}}],\"scatterpolar\":[{\"type\":\"scatterpolar\",\"marker\":{\"colorbar\":{\"outlinewidth\":0,\"ticks\":\"\"}}}],\"histogram\":[{\"marker\":{\"pattern\":{\"fillmode\":\"overlay\",\"size\":10,\"solidity\":0.2}},\"type\":\"histogram\"}],\"scattergl\":[{\"type\":\"scattergl\",\"marker\":{\"colorbar\":{\"outlinewidth\":0,\"ticks\":\"\"}}}],\"scatter3d\":[{\"type\":\"scatter3d\",\"line\":{\"colorbar\":{\"outlinewidth\":0,\"ticks\":\"\"}},\"marker\":{\"colorbar\":{\"outlinewidth\":0,\"ticks\":\"\"}}}],\"scattermapbox\":[{\"type\":\"scattermapbox\",\"marker\":{\"colorbar\":{\"outlinewidth\":0,\"ticks\":\"\"}}}],\"scatterternary\":[{\"type\":\"scatterternary\",\"marker\":{\"colorbar\":{\"outlinewidth\":0,\"ticks\":\"\"}}}],\"scattercarpet\":[{\"type\":\"scattercarpet\",\"marker\":{\"colorbar\":{\"outlinewidth\":0,\"ticks\":\"\"}}}],\"carpet\":[{\"aaxis\":{\"endlinecolor\":\"#2a3f5f\",\"gridcolor\":\"white\",\"linecolor\":\"white\",\"minorgridcolor\":\"white\",\"startlinecolor\":\"#2a3f5f\"},\"baxis\":{\"endlinecolor\":\"#2a3f5f\",\"gridcolor\":\"white\",\"linecolor\":\"white\",\"minorgridcolor\":\"white\",\"startlinecolor\":\"#2a3f5f\"},\"type\":\"carpet\"}],\"table\":[{\"cells\":{\"fill\":{\"color\":\"#EBF0F8\"},\"line\":{\"color\":\"white\"}},\"header\":{\"fill\":{\"color\":\"#C8D4E3\"},\"line\":{\"color\":\"white\"}},\"type\":\"table\"}],\"barpolar\":[{\"marker\":{\"line\":{\"color\":\"#E5ECF6\",\"width\":0.5},\"pattern\":{\"fillmode\":\"overlay\",\"size\":10,\"solidity\":0.2}},\"type\":\"barpolar\"}],\"pie\":[{\"automargin\":true,\"type\":\"pie\"}]},\"layout\":{\"autotypenumbers\":\"strict\",\"colorway\":[\"#636efa\",\"#EF553B\",\"#00cc96\",\"#ab63fa\",\"#FFA15A\",\"#19d3f3\",\"#FF6692\",\"#B6E880\",\"#FF97FF\",\"#FECB52\"],\"font\":{\"color\":\"#2a3f5f\"},\"hovermode\":\"closest\",\"hoverlabel\":{\"align\":\"left\"},\"paper_bgcolor\":\"white\",\"plot_bgcolor\":\"#E5ECF6\",\"polar\":{\"bgcolor\":\"#E5ECF6\",\"angularaxis\":{\"gridcolor\":\"white\",\"linecolor\":\"white\",\"ticks\":\"\"},\"radialaxis\":{\"gridcolor\":\"white\",\"linecolor\":\"white\",\"ticks\":\"\"}},\"ternary\":{\"bgcolor\":\"#E5ECF6\",\"aaxis\":{\"gridcolor\":\"white\",\"linecolor\":\"white\",\"ticks\":\"\"},\"baxis\":{\"gridcolor\":\"white\",\"linecolor\":\"white\",\"ticks\":\"\"},\"caxis\":{\"gridcolor\":\"white\",\"linecolor\":\"white\",\"ticks\":\"\"}},\"coloraxis\":{\"colorbar\":{\"outlinewidth\":0,\"ticks\":\"\"}},\"colorscale\":{\"sequential\":[[0.0,\"#0d0887\"],[0.1111111111111111,\"#46039f\"],[0.2222222222222222,\"#7201a8\"],[0.3333333333333333,\"#9c179e\"],[0.4444444444444444,\"#bd3786\"],[0.5555555555555556,\"#d8576b\"],[0.6666666666666666,\"#ed7953\"],[0.7777777777777778,\"#fb9f3a\"],[0.8888888888888888,\"#fdca26\"],[1.0,\"#f0f921\"]],\"sequentialminus\":[[0.0,\"#0d0887\"],[0.1111111111111111,\"#46039f\"],[0.2222222222222222,\"#7201a8\"],[0.3333333333333333,\"#9c179e\"],[0.4444444444444444,\"#bd3786\"],[0.5555555555555556,\"#d8576b\"],[0.6666666666666666,\"#ed7953\"],[0.7777777777777778,\"#fb9f3a\"],[0.8888888888888888,\"#fdca26\"],[1.0,\"#f0f921\"]],\"diverging\":[[0,\"#8e0152\"],[0.1,\"#c51b7d\"],[0.2,\"#de77ae\"],[0.3,\"#f1b6da\"],[0.4,\"#fde0ef\"],[0.5,\"#f7f7f7\"],[0.6,\"#e6f5d0\"],[0.7,\"#b8e186\"],[0.8,\"#7fbc41\"],[0.9,\"#4d9221\"],[1,\"#276419\"]]},\"xaxis\":{\"gridcolor\":\"white\",\"linecolor\":\"white\",\"ticks\":\"\",\"title\":{\"standoff\":15},\"zerolinecolor\":\"white\",\"automargin\":true,\"zerolinewidth\":2},\"yaxis\":{\"gridcolor\":\"white\",\"linecolor\":\"white\",\"ticks\":\"\",\"title\":{\"standoff\":15},\"zerolinecolor\":\"white\",\"automargin\":true,\"zerolinewidth\":2},\"scene\":{\"xaxis\":{\"backgroundcolor\":\"#E5ECF6\",\"gridcolor\":\"white\",\"linecolor\":\"white\",\"showbackground\":true,\"ticks\":\"\",\"zerolinecolor\":\"white\",\"gridwidth\":2},\"yaxis\":{\"backgroundcolor\":\"#E5ECF6\",\"gridcolor\":\"white\",\"linecolor\":\"white\",\"showbackground\":true,\"ticks\":\"\",\"zerolinecolor\":\"white\",\"gridwidth\":2},\"zaxis\":{\"backgroundcolor\":\"#E5ECF6\",\"gridcolor\":\"white\",\"linecolor\":\"white\",\"showbackground\":true,\"ticks\":\"\",\"zerolinecolor\":\"white\",\"gridwidth\":2}},\"shapedefaults\":{\"line\":{\"color\":\"#2a3f5f\"}},\"annotationdefaults\":{\"arrowcolor\":\"#2a3f5f\",\"arrowhead\":0,\"arrowwidth\":1},\"geo\":{\"bgcolor\":\"white\",\"landcolor\":\"#E5ECF6\",\"subunitcolor\":\"white\",\"showland\":true,\"showlakes\":true,\"lakecolor\":\"white\"},\"title\":{\"x\":0.05},\"mapbox\":{\"style\":\"light\"}}},\"xaxis\":{\"anchor\":\"y\",\"domain\":[0.0,1.0]},\"yaxis\":{\"anchor\":\"x\",\"domain\":[0.0,1.0],\"title\":{\"text\":\"Annual_income\"}},\"legend\":{\"tracegroupgap\":0},\"margin\":{\"t\":60},\"boxmode\":\"group\",\"height\":500,\"width\":500},                        {\"responsive\": true}                    ).then(function(){\n",
              "                            \n",
              "var gd = document.getElementById('fcd508cb-f007-4698-9188-05de9de54d8e');\n",
              "var x = new MutationObserver(function (mutations, observer) {{\n",
              "        var display = window.getComputedStyle(gd).display;\n",
              "        if (!display || display === 'none') {{\n",
              "            console.log([gd, 'removed!']);\n",
              "            Plotly.purge(gd);\n",
              "            observer.disconnect();\n",
              "        }}\n",
              "}});\n",
              "\n",
              "// Listen for the removal of the full notebook cells\n",
              "var notebookContainer = gd.closest('#notebook-container');\n",
              "if (notebookContainer) {{\n",
              "    x.observe(notebookContainer, {childList: true});\n",
              "}}\n",
              "\n",
              "// Listen for the clearing of the current output cell\n",
              "var outputEl = gd.closest('.output');\n",
              "if (outputEl) {{\n",
              "    x.observe(outputEl, {childList: true});\n",
              "}}\n",
              "\n",
              "                        })                };                            </script>        </div>\n",
              "</body>\n",
              "</html>"
            ]
          },
          "metadata": {}
        },
        {
          "output_type": "display_data",
          "data": {
            "text/html": [
              "<html>\n",
              "<head><meta charset=\"utf-8\" /></head>\n",
              "<body>\n",
              "    <div>            <script src=\"https://cdnjs.cloudflare.com/ajax/libs/mathjax/2.7.5/MathJax.js?config=TeX-AMS-MML_SVG\"></script><script type=\"text/javascript\">if (window.MathJax && window.MathJax.Hub && window.MathJax.Hub.Config) {window.MathJax.Hub.Config({SVG: {font: \"STIX-Web\"}});}</script>                <script type=\"text/javascript\">window.PlotlyConfig = {MathJaxConfig: 'local'};</script>\n",
              "        <script src=\"https://cdn.plot.ly/plotly-2.18.2.min.js\"></script>                <div id=\"2a708879-60ea-4d80-ba07-8ff0732199f3\" class=\"plotly-graph-div\" style=\"height:500px; width:500px;\"></div>            <script type=\"text/javascript\">                                    window.PLOTLYENV=window.PLOTLYENV || {};                                    if (document.getElementById(\"2a708879-60ea-4d80-ba07-8ff0732199f3\")) {                    Plotly.newPlot(                        \"2a708879-60ea-4d80-ba07-8ff0732199f3\",                        [{\"alignmentgroup\":\"True\",\"hovertemplate\":\"Employee_from_years=%{y}<extra></extra>\",\"legendgroup\":\"\",\"marker\":{\"color\":\"#636efa\"},\"name\":\"\",\"notched\":false,\"offsetgroup\":\"\",\"orientation\":\"v\",\"showlegend\":false,\"x0\":\" \",\"xaxis\":\"x\",\"y\":[1.0,1.0,1.0,1.0,1.0,1.0,1.0,1.0,1.0,2.0,2.0,2.0,2.0,0.0,0.0,6.0,6.0,4.0,11.0,4.0,2.0,2.0,2.0,0.0,9.0,1.0,13.0,6.0,1.0,9.0,4.0,2.0,3.0,2.0,20.0,6.0,6.0,11.0,3.0,3.0,19.0,19.0,0.0,2.0,2.0,1.0,1.0,9.0,9.0,9.0,5.0,3.0,3.0,22.0,22.0,1.0,1.0,1.0,4.0,0.0,0.0,10.0,4.0,7.0,0.0,7.0,5.0,4.0,4.0,3.0,13.0,9.0,9.0,3.0,3.0,3.0,3.0,6.0,5.0,2.0,0.0,0.0,1.0,18.0,1.0,1.0,6.0,22.0,1.0,1.0,19.0,0.0,4.0,4.0,9.0,9.0,9.0,9.0,9.0,2.0,2.0,20.0,20.0,10.0,2.0,0.0,1.0,1.0,4.0,4.0,5.0,1.0,1.0,1.0,5.0,5.0,2.0,2.0,2.0,11.0,11.0,11.0,2.0,2.0,1.0,1.0,1.0,6.0,0.0,3.0,4.0,2.0,2.0,2.0,1.0,1.0,1.0,6.0,3.0,3.0,17.0,6.0,0.0,25.0,8.0,8.0,5.0,2.0,0.0,4.0,12.0,4.0,1.0,1.0,2.0,7.0,4.0,8.0,14.0,8.0,0.0,6.0,1.0,2.0,2.0,3.0,20.0,4.0,2.0,7.0,6.0,4.0,4.0,1.0,3.0,0.0,6.0,1.0,19.0,4.0,3.0,10.0,2.0,7.0,7.0,5.0,4.0,6.0,6.0,3.0,13.0,6.0,5.0,2.0,12.0,4.0,4.0,4.0,23.0,17.0,0.0,3.0,1.0,20.0,15.0,4.0,15.0,5.0,16.0,1.0,4.0,12.0,9.0,10.0,0.0,5.0,1.0,1.0,5.0,4.0,1.0,33.0,1.0,14.0,17.0,7.0,25.0,2.0,2.0,3.0,9.0,0.0,6.0,7.0,19.0,5.0,0.0,8.0,8.0,13.0,4.0,10.0,10.0,12.0,4.0,15.0,4.0,0.0,1.0,4.0,5.0,4.0,36.0,4.0,3.0,3.0,0.0,27.0,4.0,13.0,7.0,6.0,0.0,4.0,10.0,2.0,8.0,11.0,0.0,5.0,22.0,0.0,12.0,0.0,20.0,8.0,0.0,11.0,13.0,9.0,5.0,0.0,16.0,0.0,7.0,4.0,10.0,9.0,7.0,9.0,3.0,22.0,9.0,0.0,8.0,0.0,4.0,4.0,9.0,2.0,23.0,4.0,4.0,2.0,1.0,1.0,10.0,3.0,20.0,15.0,10.0,3.0,8.0,4.0,21.0,3.0,10.0,1.0,7.0,2.0,6.0,34.0,9.0,2.0,5.0,14.0,9.0,12.0,1.0,1.0,2.0,12.0,5.0,6.0,3.0,1.0,6.0,4.0,4.0,16.0,8.0,7.0,9.0,6.0,1.0,18.0,1.0,0.0,8.0,4.0,7.0,1.0,3.0,6.0,1.0,0.0,4.0,1.0,5.0,0.0,20.0,19.0,1.0,18.0,1.0,4.0,16.0,2.0,1.0,7.0,2.0,0.0,0.0,4.0,3.0,5.0,1.0,2.0,5.0,1.0,8.0,1.0,6.0,5.0,12.0,0.0,1.0,18.0,5.0,22.0,6.0,10.0,0.0,12.0,12.0,1.0,10.0,6.0,3.0,14.0,1.0,2.0,5.0,17.0,2.0,0.0,13.0,6.0,3.0,12.0,22.0,5.0,13.0,2.0,3.0,17.0,2.0,14.0,0.0,15.0,1.0,10.0,13.0,8.0,25.0,4.0,5.0,2.0,26.0,5.0,3.0,3.0,22.0,6.0,5.0,2.0,6.0,7.0,3.0,0.0,2.0,6.0,6.0,6.0,31.0,2.0,8.0,3.0,1.0,10.0,3.0,8.0,0.0,0.0,4.0,0.0,11.0,3.0,14.0,3.0,2.0,3.0,8.0,1.0,4.0,4.0,8.0,11.0,1.0,0.0,12.0,3.0,3.0,1.0,3.0,1.0,7.0,11.0,9.0,7.0,18.0,7.0,6.0,4.0,31.0,14.0,3.0,8.0,0.0,8.0,6.0,3.0,21.0,8.0,2.0,5.0,5.0,4.0,1.0,6.0,2.0,6.0,12.0,3.0,3.0,2.0,10.0,0.0,0.0,2.0,8.0,9.0,0.0,9.0,3.0,8.0,8.0,0.0,1.0,0.0,7.0,6.0,12.0,4.0,4.0,3.0,5.0,7.0,2.0,5.0,1.0,8.0,4.0,0.0,10.0,27.0,13.0,9.0,1.0,14.0,8.0,2.0,6.0,1.0,5.0,18.0,0.0,6.0,14.0,4.0,6.0,9.0,10.0,8.0,6.0,4.0,9.0,8.0,8.0,10.0,6.0,7.0,2.0,11.0,2.0,22.0,20.0,11.0,16.0,3.0,1.0,6.0,4.0,9.0,17.0,7.0,4.0,6.0,12.0,3.0,1.0,1.0,6.0,2.0,7.0,4.0,0.0,11.0,1.0,6.0,8.0,4.0,7.0,0.0,13.0,2.0,20.0,7.0,3.0,14.0,6.0,5.0,3.0,4.0,8.0,4.0,23.0,9.0,9.0,10.0,3.0,8.0,6.0,11.0,3.0,1.0,2.0,4.0,13.0,5.0,10.0,3.0,4.0,10.0,10.0,8.0,5.0,0.0,0.0,5.0,18.0,10.0,4.0,1.0,2.0,6.0,5.0,9.0,1.0,1.0,17.0,2.0,3.0,12.0,1.0,12.0,15.0,3.0,24.0,18.0,0.0,4.0,0.0,1.0,10.0,1.0,4.0,18.0,29.0,10.0,10.0,5.0,6.0,3.0,3.0,14.0,10.0,7.0,2.0,0.0,8.0,6.0,11.0,16.0,0.0,0.0,8.0,22.0,7.0,5.0,14.0,5.0,9.0,4.0,7.0,0.0,0.0,18.0,6.0,7.0,32.0,2.0,25.0,6.0,4.0,6.0,2.0,8.0,5.0,2.0,22.0,1.0,3.0,25.0,3.0,5.0,13.0,3.0,3.0,1.0,0.0,8.0,1.0,4.0,5.0,4.0,2.0,15.0,4.0,0.0,3.0,11.0,13.0,8.0,0.0,21.0,26.0,4.0,1.0,7.0,4.0,2.0,9.0,5.0,5.0,4.0,20.0,12.0,0.0,2.0,18.0,4.0,2.0,9.0,8.0,10.0,13.0,9.0,9.0,3.0,6.0,11.0,6.0,5.0,19.0,0.0,14.0,18.0,6.0,7.0,9.0,9.0,12.0,11.0,14.0,8.0,7.0,5.0,3.0,3.0,4.0,6.0,4.0,21.0,2.0,20.0,3.0,6.0,3.0,0.0,5.0,14.0,6.0,2.0,3.0,19.0,4.0,6.0,0.0,9.0,7.0,0.0,22.0,1.0,1.0,2.0,2.0,6.0,3.0,10.0,3.0,9.0,14.0,1.0,11.0,4.0,5.0,9.0,4.0,1.0,12.0,6.0,5.0,2.0,1.0,2.0,29.0,33.0,4.0,10.0,6.0,23.0,5.0,3.0,5.0,9.0,6.0,31.0,11.0,2.0,15.0,15.0,2.0,1.0,4.0,10.0,2.0,4.0,4.0,3.0,10.0,9.0,8.0,12.0,3.0,3.0,0.0,1.0,1.0,6.0,4.0,4.0,19.0,1.0,7.0,13.0,5.0,1.0,12.0,17.0,2.0,2.0,6.0,1.0,9.0,4.0,4.0,18.0,6.0,3.0,0.0,6.0,32.0,12.0,1.0,9.0,4.0,3.0,9.0,8.0,6.0,4.0,6.0,2.0,6.0,25.0,4.0,3.0,28.0,11.0,6.0,4.0,5.0,5.0,8.0,10.0,7.0,3.0,4.0,10.0,3.0,13.0,1.0,18.0,6.0,2.0,4.0,4.0,5.0,3.0,5.0,16.0,1.0,2.0,7.0,6.0,4.0,2.0,7.0,2.0,4.0,7.0,2.0,7.0,8.0,7.0,0.0,9.0,9.0,10.0,8.0,1.0,1.0,2.0,5.0,0.0,1.0,4.0,7.0,6.0,10.0,3.0,6.0,22.0,1.0,6.0,6.0,2.0,11.0,4.0,5.0,4.0,6.0,7.0,3.0,1.0,20.0,1.0,1.0,15.0,6.0,6.0,0.0,3.0,9.0,7.0,6.0,2.0,5.0,19.0,8.0,9.0,22.0,8.0,4.0,1.0,3.0,10.0,8.0,4.0,3.0,1.0,6.0,0.0,5.0,32.0,9.0,15.0,9.0,1.0,8.0,1.0,0.0,22.0,19.0,5.0,0.0,6.0,4.0,3.0,2.0,3.0,1.0,6.0,20.0,4.0,2.0,9.0,5.0,3.0,5.0,4.0,0.0,0.0,1.0,5.0,6.0,10.0,4.0,8.0,9.0,0.0,1.0,3.0,23.0,5.0,3.0,9.0,8.0,29.0,17.0,11.0,4.0,0.0,18.0,4.0,8.0,10.0,4.0,4.0,12.0,2.0,6.0,9.0,6.0,2.0,6.0,31.0,1.0,2.0,16.0,1.0,1.0,6.0,10.0,5.0,2.0,9.0,6.0,20.0,2.0,3.0,7.0,1.0,7.0,3.0,10.0,6.0,14.0,10.0,13.0,31.0,15.0,1.0,4.0,3.0,0.0,4.0,15.0,4.0,8.0,8.0,23.0,0.0,1.0,3.0,0.0,2.0,14.0,0.0,4.0,8.0,5.0,3.0,4.0,15.0,1.0,35.0,0.0,1.0,14.0,19.0,1.0,18.0,6.0,3.0,14.0,9.0,6.0,0.0,17.0,11.0,18.0,2.0,5.0,2.0,4.0,16.0,4.0,0.0,19.0,1.0,3.0,1.0,8.0,0.0,2.0,9.0,1.0,10.0,14.0,35.0,15.0,18.0,15.0,0.0,0.0,24.0,2.0,21.0,14.0,1.0,8.0,4.0,22.0,18.0,7.0,1.0,2.0,5.0,1.0,2.0,15.0,5.0,4.0,7.0,5.0,4.0,4.0,19.0,1.0,12.0,3.0,6.0,16.0,15.0,9.0,10.0,10.0,15.0,0.0,4.0,3.0,3.0,10.0,5.0,8.0,7.0,3.0,9.0,4.0,29.0,17.0,12.0,0.0,8.0,6.0,0.0,4.0,6.0,1.0,29.0,1.0,7.0,10.0,6.0,14.0,27.0,2.0,11.0,0.0,8.0,9.0,1.0,0.0,0.0,5.0,5.0,7.0,10.0,7.0,2.0,6.0,6.0,17.0,0.0,1.0,5.0,7.0,1.0,2.0,13.0,1.0,5.0,2.0,9.0,4.0,6.0,4.0,14.0,1.0,8.0,13.0,8.0,6.0,1.0,2.0,2.0,13.0,3.0,20.0,7.0,14.0,1.0,0.0,14.0,1.0,1.0,4.0,6.0,2.0,3.0,8.0,2.0,7.0,10.0,1.0,6.0,4.0,0.0,0.0,0.0,14.0,16.0,5.0,5.0,3.0,5.0,9.0,12.0,1.0,3.0,15.0,1.0,8.0,4.0,9.0,5.0,3.0,6.0,1.0,7.0],\"y0\":\" \",\"yaxis\":\"y\",\"type\":\"box\"}],                        {\"template\":{\"data\":{\"histogram2dcontour\":[{\"type\":\"histogram2dcontour\",\"colorbar\":{\"outlinewidth\":0,\"ticks\":\"\"},\"colorscale\":[[0.0,\"#0d0887\"],[0.1111111111111111,\"#46039f\"],[0.2222222222222222,\"#7201a8\"],[0.3333333333333333,\"#9c179e\"],[0.4444444444444444,\"#bd3786\"],[0.5555555555555556,\"#d8576b\"],[0.6666666666666666,\"#ed7953\"],[0.7777777777777778,\"#fb9f3a\"],[0.8888888888888888,\"#fdca26\"],[1.0,\"#f0f921\"]]}],\"choropleth\":[{\"type\":\"choropleth\",\"colorbar\":{\"outlinewidth\":0,\"ticks\":\"\"}}],\"histogram2d\":[{\"type\":\"histogram2d\",\"colorbar\":{\"outlinewidth\":0,\"ticks\":\"\"},\"colorscale\":[[0.0,\"#0d0887\"],[0.1111111111111111,\"#46039f\"],[0.2222222222222222,\"#7201a8\"],[0.3333333333333333,\"#9c179e\"],[0.4444444444444444,\"#bd3786\"],[0.5555555555555556,\"#d8576b\"],[0.6666666666666666,\"#ed7953\"],[0.7777777777777778,\"#fb9f3a\"],[0.8888888888888888,\"#fdca26\"],[1.0,\"#f0f921\"]]}],\"heatmap\":[{\"type\":\"heatmap\",\"colorbar\":{\"outlinewidth\":0,\"ticks\":\"\"},\"colorscale\":[[0.0,\"#0d0887\"],[0.1111111111111111,\"#46039f\"],[0.2222222222222222,\"#7201a8\"],[0.3333333333333333,\"#9c179e\"],[0.4444444444444444,\"#bd3786\"],[0.5555555555555556,\"#d8576b\"],[0.6666666666666666,\"#ed7953\"],[0.7777777777777778,\"#fb9f3a\"],[0.8888888888888888,\"#fdca26\"],[1.0,\"#f0f921\"]]}],\"heatmapgl\":[{\"type\":\"heatmapgl\",\"colorbar\":{\"outlinewidth\":0,\"ticks\":\"\"},\"colorscale\":[[0.0,\"#0d0887\"],[0.1111111111111111,\"#46039f\"],[0.2222222222222222,\"#7201a8\"],[0.3333333333333333,\"#9c179e\"],[0.4444444444444444,\"#bd3786\"],[0.5555555555555556,\"#d8576b\"],[0.6666666666666666,\"#ed7953\"],[0.7777777777777778,\"#fb9f3a\"],[0.8888888888888888,\"#fdca26\"],[1.0,\"#f0f921\"]]}],\"contourcarpet\":[{\"type\":\"contourcarpet\",\"colorbar\":{\"outlinewidth\":0,\"ticks\":\"\"}}],\"contour\":[{\"type\":\"contour\",\"colorbar\":{\"outlinewidth\":0,\"ticks\":\"\"},\"colorscale\":[[0.0,\"#0d0887\"],[0.1111111111111111,\"#46039f\"],[0.2222222222222222,\"#7201a8\"],[0.3333333333333333,\"#9c179e\"],[0.4444444444444444,\"#bd3786\"],[0.5555555555555556,\"#d8576b\"],[0.6666666666666666,\"#ed7953\"],[0.7777777777777778,\"#fb9f3a\"],[0.8888888888888888,\"#fdca26\"],[1.0,\"#f0f921\"]]}],\"surface\":[{\"type\":\"surface\",\"colorbar\":{\"outlinewidth\":0,\"ticks\":\"\"},\"colorscale\":[[0.0,\"#0d0887\"],[0.1111111111111111,\"#46039f\"],[0.2222222222222222,\"#7201a8\"],[0.3333333333333333,\"#9c179e\"],[0.4444444444444444,\"#bd3786\"],[0.5555555555555556,\"#d8576b\"],[0.6666666666666666,\"#ed7953\"],[0.7777777777777778,\"#fb9f3a\"],[0.8888888888888888,\"#fdca26\"],[1.0,\"#f0f921\"]]}],\"mesh3d\":[{\"type\":\"mesh3d\",\"colorbar\":{\"outlinewidth\":0,\"ticks\":\"\"}}],\"scatter\":[{\"fillpattern\":{\"fillmode\":\"overlay\",\"size\":10,\"solidity\":0.2},\"type\":\"scatter\"}],\"parcoords\":[{\"type\":\"parcoords\",\"line\":{\"colorbar\":{\"outlinewidth\":0,\"ticks\":\"\"}}}],\"scatterpolargl\":[{\"type\":\"scatterpolargl\",\"marker\":{\"colorbar\":{\"outlinewidth\":0,\"ticks\":\"\"}}}],\"bar\":[{\"error_x\":{\"color\":\"#2a3f5f\"},\"error_y\":{\"color\":\"#2a3f5f\"},\"marker\":{\"line\":{\"color\":\"#E5ECF6\",\"width\":0.5},\"pattern\":{\"fillmode\":\"overlay\",\"size\":10,\"solidity\":0.2}},\"type\":\"bar\"}],\"scattergeo\":[{\"type\":\"scattergeo\",\"marker\":{\"colorbar\":{\"outlinewidth\":0,\"ticks\":\"\"}}}],\"scatterpolar\":[{\"type\":\"scatterpolar\",\"marker\":{\"colorbar\":{\"outlinewidth\":0,\"ticks\":\"\"}}}],\"histogram\":[{\"marker\":{\"pattern\":{\"fillmode\":\"overlay\",\"size\":10,\"solidity\":0.2}},\"type\":\"histogram\"}],\"scattergl\":[{\"type\":\"scattergl\",\"marker\":{\"colorbar\":{\"outlinewidth\":0,\"ticks\":\"\"}}}],\"scatter3d\":[{\"type\":\"scatter3d\",\"line\":{\"colorbar\":{\"outlinewidth\":0,\"ticks\":\"\"}},\"marker\":{\"colorbar\":{\"outlinewidth\":0,\"ticks\":\"\"}}}],\"scattermapbox\":[{\"type\":\"scattermapbox\",\"marker\":{\"colorbar\":{\"outlinewidth\":0,\"ticks\":\"\"}}}],\"scatterternary\":[{\"type\":\"scatterternary\",\"marker\":{\"colorbar\":{\"outlinewidth\":0,\"ticks\":\"\"}}}],\"scattercarpet\":[{\"type\":\"scattercarpet\",\"marker\":{\"colorbar\":{\"outlinewidth\":0,\"ticks\":\"\"}}}],\"carpet\":[{\"aaxis\":{\"endlinecolor\":\"#2a3f5f\",\"gridcolor\":\"white\",\"linecolor\":\"white\",\"minorgridcolor\":\"white\",\"startlinecolor\":\"#2a3f5f\"},\"baxis\":{\"endlinecolor\":\"#2a3f5f\",\"gridcolor\":\"white\",\"linecolor\":\"white\",\"minorgridcolor\":\"white\",\"startlinecolor\":\"#2a3f5f\"},\"type\":\"carpet\"}],\"table\":[{\"cells\":{\"fill\":{\"color\":\"#EBF0F8\"},\"line\":{\"color\":\"white\"}},\"header\":{\"fill\":{\"color\":\"#C8D4E3\"},\"line\":{\"color\":\"white\"}},\"type\":\"table\"}],\"barpolar\":[{\"marker\":{\"line\":{\"color\":\"#E5ECF6\",\"width\":0.5},\"pattern\":{\"fillmode\":\"overlay\",\"size\":10,\"solidity\":0.2}},\"type\":\"barpolar\"}],\"pie\":[{\"automargin\":true,\"type\":\"pie\"}]},\"layout\":{\"autotypenumbers\":\"strict\",\"colorway\":[\"#636efa\",\"#EF553B\",\"#00cc96\",\"#ab63fa\",\"#FFA15A\",\"#19d3f3\",\"#FF6692\",\"#B6E880\",\"#FF97FF\",\"#FECB52\"],\"font\":{\"color\":\"#2a3f5f\"},\"hovermode\":\"closest\",\"hoverlabel\":{\"align\":\"left\"},\"paper_bgcolor\":\"white\",\"plot_bgcolor\":\"#E5ECF6\",\"polar\":{\"bgcolor\":\"#E5ECF6\",\"angularaxis\":{\"gridcolor\":\"white\",\"linecolor\":\"white\",\"ticks\":\"\"},\"radialaxis\":{\"gridcolor\":\"white\",\"linecolor\":\"white\",\"ticks\":\"\"}},\"ternary\":{\"bgcolor\":\"#E5ECF6\",\"aaxis\":{\"gridcolor\":\"white\",\"linecolor\":\"white\",\"ticks\":\"\"},\"baxis\":{\"gridcolor\":\"white\",\"linecolor\":\"white\",\"ticks\":\"\"},\"caxis\":{\"gridcolor\":\"white\",\"linecolor\":\"white\",\"ticks\":\"\"}},\"coloraxis\":{\"colorbar\":{\"outlinewidth\":0,\"ticks\":\"\"}},\"colorscale\":{\"sequential\":[[0.0,\"#0d0887\"],[0.1111111111111111,\"#46039f\"],[0.2222222222222222,\"#7201a8\"],[0.3333333333333333,\"#9c179e\"],[0.4444444444444444,\"#bd3786\"],[0.5555555555555556,\"#d8576b\"],[0.6666666666666666,\"#ed7953\"],[0.7777777777777778,\"#fb9f3a\"],[0.8888888888888888,\"#fdca26\"],[1.0,\"#f0f921\"]],\"sequentialminus\":[[0.0,\"#0d0887\"],[0.1111111111111111,\"#46039f\"],[0.2222222222222222,\"#7201a8\"],[0.3333333333333333,\"#9c179e\"],[0.4444444444444444,\"#bd3786\"],[0.5555555555555556,\"#d8576b\"],[0.6666666666666666,\"#ed7953\"],[0.7777777777777778,\"#fb9f3a\"],[0.8888888888888888,\"#fdca26\"],[1.0,\"#f0f921\"]],\"diverging\":[[0,\"#8e0152\"],[0.1,\"#c51b7d\"],[0.2,\"#de77ae\"],[0.3,\"#f1b6da\"],[0.4,\"#fde0ef\"],[0.5,\"#f7f7f7\"],[0.6,\"#e6f5d0\"],[0.7,\"#b8e186\"],[0.8,\"#7fbc41\"],[0.9,\"#4d9221\"],[1,\"#276419\"]]},\"xaxis\":{\"gridcolor\":\"white\",\"linecolor\":\"white\",\"ticks\":\"\",\"title\":{\"standoff\":15},\"zerolinecolor\":\"white\",\"automargin\":true,\"zerolinewidth\":2},\"yaxis\":{\"gridcolor\":\"white\",\"linecolor\":\"white\",\"ticks\":\"\",\"title\":{\"standoff\":15},\"zerolinecolor\":\"white\",\"automargin\":true,\"zerolinewidth\":2},\"scene\":{\"xaxis\":{\"backgroundcolor\":\"#E5ECF6\",\"gridcolor\":\"white\",\"linecolor\":\"white\",\"showbackground\":true,\"ticks\":\"\",\"zerolinecolor\":\"white\",\"gridwidth\":2},\"yaxis\":{\"backgroundcolor\":\"#E5ECF6\",\"gridcolor\":\"white\",\"linecolor\":\"white\",\"showbackground\":true,\"ticks\":\"\",\"zerolinecolor\":\"white\",\"gridwidth\":2},\"zaxis\":{\"backgroundcolor\":\"#E5ECF6\",\"gridcolor\":\"white\",\"linecolor\":\"white\",\"showbackground\":true,\"ticks\":\"\",\"zerolinecolor\":\"white\",\"gridwidth\":2}},\"shapedefaults\":{\"line\":{\"color\":\"#2a3f5f\"}},\"annotationdefaults\":{\"arrowcolor\":\"#2a3f5f\",\"arrowhead\":0,\"arrowwidth\":1},\"geo\":{\"bgcolor\":\"white\",\"landcolor\":\"#E5ECF6\",\"subunitcolor\":\"white\",\"showland\":true,\"showlakes\":true,\"lakecolor\":\"white\"},\"title\":{\"x\":0.05},\"mapbox\":{\"style\":\"light\"}}},\"xaxis\":{\"anchor\":\"y\",\"domain\":[0.0,1.0]},\"yaxis\":{\"anchor\":\"x\",\"domain\":[0.0,1.0],\"title\":{\"text\":\"Employee_from_years\"}},\"legend\":{\"tracegroupgap\":0},\"margin\":{\"t\":60},\"boxmode\":\"group\",\"height\":500,\"width\":500},                        {\"responsive\": true}                    ).then(function(){\n",
              "                            \n",
              "var gd = document.getElementById('2a708879-60ea-4d80-ba07-8ff0732199f3');\n",
              "var x = new MutationObserver(function (mutations, observer) {{\n",
              "        var display = window.getComputedStyle(gd).display;\n",
              "        if (!display || display === 'none') {{\n",
              "            console.log([gd, 'removed!']);\n",
              "            Plotly.purge(gd);\n",
              "            observer.disconnect();\n",
              "        }}\n",
              "}});\n",
              "\n",
              "// Listen for the removal of the full notebook cells\n",
              "var notebookContainer = gd.closest('#notebook-container');\n",
              "if (notebookContainer) {{\n",
              "    x.observe(notebookContainer, {childList: true});\n",
              "}}\n",
              "\n",
              "// Listen for the clearing of the current output cell\n",
              "var outputEl = gd.closest('.output');\n",
              "if (outputEl) {{\n",
              "    x.observe(outputEl, {childList: true});\n",
              "}}\n",
              "\n",
              "                        })                };                            </script>        </div>\n",
              "</body>\n",
              "</html>"
            ]
          },
          "metadata": {}
        }
      ]
    },
    {
      "cell_type": "code",
      "source": [
        "Credit_card[\"Annual_income\"]=Credit_card[\"Annual_income\"].astype(int) #convert annual income data type float from int"
      ],
      "metadata": {
        "id": "6O87Eolpg5gw"
      },
      "execution_count": 34,
      "outputs": []
    },
    {
      "cell_type": "code",
      "source": [
        "Credit_card[\"GENDER\"]=Credit_card[\"GENDER\"].astype(int)\n",
        "Credit_card[\"Car_Owner\"]=Credit_card[\"Car_Owner\"].astype(int)\n",
        "Credit_card[\"Propert_Owner\"]=Credit_card[\"Propert_Owner\"].astype(int)\n",
        "Credit_card[\"CHILDREN\"]=Credit_card[\"CHILDREN\"].astype(int)\n",
        "Credit_card[\"Family_Members\"]=Credit_card[\"Family_Members\"].astype(int)\n",
        "Credit_card[\"label\"]=Credit_card[\"label\"].astype(int)\n",
        "Credit_card[\"Age\"]=Credit_card[\"Age\"].astype(int)\n",
        "Credit_card[\"Employee_from_years\"]=Credit_card[\"Employee_from_years\"].astype(int)"
      ],
      "metadata": {
        "id": "PONpoOB4sOxP"
      },
      "execution_count": 35,
      "outputs": []
    },
    {
      "cell_type": "code",
      "source": [
        "Credit_card.head()"
      ],
      "metadata": {
        "colab": {
          "base_uri": "https://localhost:8080/",
          "height": 206
        },
        "id": "C-Ar6L_CiP_U",
        "outputId": "c295cc4e-d2a0-41b4-e625-3aef4b906245"
      },
      "execution_count": 36,
      "outputs": [
        {
          "output_type": "execute_result",
          "data": {
            "text/plain": [
              "   GENDER  Car_Owner  Propert_Owner  CHILDREN  Annual_income  Family_Members  \\\n",
              "1       0          0              1         0         315000               2   \n",
              "2       0          0              1         0         315000               2   \n",
              "3       0          0              1         0         315000               2   \n",
              "4       0          0              1         0         315000               2   \n",
              "5       0          0              1         0         315000               2   \n",
              "\n",
              "   label  Age  Employee_from_years  \n",
              "1      1   37                    1  \n",
              "2      1   37                    1  \n",
              "3      1   37                    1  \n",
              "4      1   37                    1  \n",
              "5      1   37                    1  "
            ],
            "text/html": [
              "\n",
              "  <div id=\"df-fbb2ead5-d008-40f5-8a26-9a03440b29b3\">\n",
              "    <div class=\"colab-df-container\">\n",
              "      <div>\n",
              "<style scoped>\n",
              "    .dataframe tbody tr th:only-of-type {\n",
              "        vertical-align: middle;\n",
              "    }\n",
              "\n",
              "    .dataframe tbody tr th {\n",
              "        vertical-align: top;\n",
              "    }\n",
              "\n",
              "    .dataframe thead th {\n",
              "        text-align: right;\n",
              "    }\n",
              "</style>\n",
              "<table border=\"1\" class=\"dataframe\">\n",
              "  <thead>\n",
              "    <tr style=\"text-align: right;\">\n",
              "      <th></th>\n",
              "      <th>GENDER</th>\n",
              "      <th>Car_Owner</th>\n",
              "      <th>Propert_Owner</th>\n",
              "      <th>CHILDREN</th>\n",
              "      <th>Annual_income</th>\n",
              "      <th>Family_Members</th>\n",
              "      <th>label</th>\n",
              "      <th>Age</th>\n",
              "      <th>Employee_from_years</th>\n",
              "    </tr>\n",
              "  </thead>\n",
              "  <tbody>\n",
              "    <tr>\n",
              "      <th>1</th>\n",
              "      <td>0</td>\n",
              "      <td>0</td>\n",
              "      <td>1</td>\n",
              "      <td>0</td>\n",
              "      <td>315000</td>\n",
              "      <td>2</td>\n",
              "      <td>1</td>\n",
              "      <td>37</td>\n",
              "      <td>1</td>\n",
              "    </tr>\n",
              "    <tr>\n",
              "      <th>2</th>\n",
              "      <td>0</td>\n",
              "      <td>0</td>\n",
              "      <td>1</td>\n",
              "      <td>0</td>\n",
              "      <td>315000</td>\n",
              "      <td>2</td>\n",
              "      <td>1</td>\n",
              "      <td>37</td>\n",
              "      <td>1</td>\n",
              "    </tr>\n",
              "    <tr>\n",
              "      <th>3</th>\n",
              "      <td>0</td>\n",
              "      <td>0</td>\n",
              "      <td>1</td>\n",
              "      <td>0</td>\n",
              "      <td>315000</td>\n",
              "      <td>2</td>\n",
              "      <td>1</td>\n",
              "      <td>37</td>\n",
              "      <td>1</td>\n",
              "    </tr>\n",
              "    <tr>\n",
              "      <th>4</th>\n",
              "      <td>0</td>\n",
              "      <td>0</td>\n",
              "      <td>1</td>\n",
              "      <td>0</td>\n",
              "      <td>315000</td>\n",
              "      <td>2</td>\n",
              "      <td>1</td>\n",
              "      <td>37</td>\n",
              "      <td>1</td>\n",
              "    </tr>\n",
              "    <tr>\n",
              "      <th>5</th>\n",
              "      <td>0</td>\n",
              "      <td>0</td>\n",
              "      <td>1</td>\n",
              "      <td>0</td>\n",
              "      <td>315000</td>\n",
              "      <td>2</td>\n",
              "      <td>1</td>\n",
              "      <td>37</td>\n",
              "      <td>1</td>\n",
              "    </tr>\n",
              "  </tbody>\n",
              "</table>\n",
              "</div>\n",
              "      <button class=\"colab-df-convert\" onclick=\"convertToInteractive('df-fbb2ead5-d008-40f5-8a26-9a03440b29b3')\"\n",
              "              title=\"Convert this dataframe to an interactive table.\"\n",
              "              style=\"display:none;\">\n",
              "        \n",
              "  <svg xmlns=\"http://www.w3.org/2000/svg\" height=\"24px\"viewBox=\"0 0 24 24\"\n",
              "       width=\"24px\">\n",
              "    <path d=\"M0 0h24v24H0V0z\" fill=\"none\"/>\n",
              "    <path d=\"M18.56 5.44l.94 2.06.94-2.06 2.06-.94-2.06-.94-.94-2.06-.94 2.06-2.06.94zm-11 1L8.5 8.5l.94-2.06 2.06-.94-2.06-.94L8.5 2.5l-.94 2.06-2.06.94zm10 10l.94 2.06.94-2.06 2.06-.94-2.06-.94-.94-2.06-.94 2.06-2.06.94z\"/><path d=\"M17.41 7.96l-1.37-1.37c-.4-.4-.92-.59-1.43-.59-.52 0-1.04.2-1.43.59L10.3 9.45l-7.72 7.72c-.78.78-.78 2.05 0 2.83L4 21.41c.39.39.9.59 1.41.59.51 0 1.02-.2 1.41-.59l7.78-7.78 2.81-2.81c.8-.78.8-2.07 0-2.86zM5.41 20L4 18.59l7.72-7.72 1.47 1.35L5.41 20z\"/>\n",
              "  </svg>\n",
              "      </button>\n",
              "      \n",
              "  <style>\n",
              "    .colab-df-container {\n",
              "      display:flex;\n",
              "      flex-wrap:wrap;\n",
              "      gap: 12px;\n",
              "    }\n",
              "\n",
              "    .colab-df-convert {\n",
              "      background-color: #E8F0FE;\n",
              "      border: none;\n",
              "      border-radius: 50%;\n",
              "      cursor: pointer;\n",
              "      display: none;\n",
              "      fill: #1967D2;\n",
              "      height: 32px;\n",
              "      padding: 0 0 0 0;\n",
              "      width: 32px;\n",
              "    }\n",
              "\n",
              "    .colab-df-convert:hover {\n",
              "      background-color: #E2EBFA;\n",
              "      box-shadow: 0px 1px 2px rgba(60, 64, 67, 0.3), 0px 1px 3px 1px rgba(60, 64, 67, 0.15);\n",
              "      fill: #174EA6;\n",
              "    }\n",
              "\n",
              "    [theme=dark] .colab-df-convert {\n",
              "      background-color: #3B4455;\n",
              "      fill: #D2E3FC;\n",
              "    }\n",
              "\n",
              "    [theme=dark] .colab-df-convert:hover {\n",
              "      background-color: #434B5C;\n",
              "      box-shadow: 0px 1px 3px 1px rgba(0, 0, 0, 0.15);\n",
              "      filter: drop-shadow(0px 1px 2px rgba(0, 0, 0, 0.3));\n",
              "      fill: #FFFFFF;\n",
              "    }\n",
              "  </style>\n",
              "\n",
              "      <script>\n",
              "        const buttonEl =\n",
              "          document.querySelector('#df-fbb2ead5-d008-40f5-8a26-9a03440b29b3 button.colab-df-convert');\n",
              "        buttonEl.style.display =\n",
              "          google.colab.kernel.accessAllowed ? 'block' : 'none';\n",
              "\n",
              "        async function convertToInteractive(key) {\n",
              "          const element = document.querySelector('#df-fbb2ead5-d008-40f5-8a26-9a03440b29b3');\n",
              "          const dataTable =\n",
              "            await google.colab.kernel.invokeFunction('convertToInteractive',\n",
              "                                                     [key], {});\n",
              "          if (!dataTable) return;\n",
              "\n",
              "          const docLinkHtml = 'Like what you see? Visit the ' +\n",
              "            '<a target=\"_blank\" href=https://colab.research.google.com/notebooks/data_table.ipynb>data table notebook</a>'\n",
              "            + ' to learn more about interactive tables.';\n",
              "          element.innerHTML = '';\n",
              "          dataTable['output_type'] = 'display_data';\n",
              "          await google.colab.output.renderOutput(dataTable, element);\n",
              "          const docLink = document.createElement('div');\n",
              "          docLink.innerHTML = docLinkHtml;\n",
              "          element.appendChild(docLink);\n",
              "        }\n",
              "      </script>\n",
              "    </div>\n",
              "  </div>\n",
              "  "
            ]
          },
          "metadata": {},
          "execution_count": 36
        }
      ]
    },
    {
      "cell_type": "code",
      "source": [
        "Credit_card.tail()"
      ],
      "metadata": {
        "colab": {
          "base_uri": "https://localhost:8080/",
          "height": 206
        },
        "id": "aPR47rnPuqXi",
        "outputId": "b2b5a5af-218b-45a0-b7fd-b1ddc2ce1161"
      },
      "execution_count": 37,
      "outputs": [
        {
          "output_type": "execute_result",
          "data": {
            "text/plain": [
              "      GENDER  Car_Owner  Propert_Owner  CHILDREN  Annual_income  \\\n",
              "1543       0          1              0         0         172480   \n",
              "1544       0          1              1         0         225000   \n",
              "1545       1          0              0         2         180000   \n",
              "1546       1          0              1         0         270000   \n",
              "1547       0          0              0         0         225000   \n",
              "\n",
              "      Family_Members  label  Age  Employee_from_years  \n",
              "1543               2      0   32                    5  \n",
              "1544               1      0   28                    3  \n",
              "1545               4      0   36                    6  \n",
              "1546               2      0   41                    1  \n",
              "1547               2      0   45                    7  "
            ],
            "text/html": [
              "\n",
              "  <div id=\"df-884f139c-3026-4cf4-8368-443acf9dc7ef\">\n",
              "    <div class=\"colab-df-container\">\n",
              "      <div>\n",
              "<style scoped>\n",
              "    .dataframe tbody tr th:only-of-type {\n",
              "        vertical-align: middle;\n",
              "    }\n",
              "\n",
              "    .dataframe tbody tr th {\n",
              "        vertical-align: top;\n",
              "    }\n",
              "\n",
              "    .dataframe thead th {\n",
              "        text-align: right;\n",
              "    }\n",
              "</style>\n",
              "<table border=\"1\" class=\"dataframe\">\n",
              "  <thead>\n",
              "    <tr style=\"text-align: right;\">\n",
              "      <th></th>\n",
              "      <th>GENDER</th>\n",
              "      <th>Car_Owner</th>\n",
              "      <th>Propert_Owner</th>\n",
              "      <th>CHILDREN</th>\n",
              "      <th>Annual_income</th>\n",
              "      <th>Family_Members</th>\n",
              "      <th>label</th>\n",
              "      <th>Age</th>\n",
              "      <th>Employee_from_years</th>\n",
              "    </tr>\n",
              "  </thead>\n",
              "  <tbody>\n",
              "    <tr>\n",
              "      <th>1543</th>\n",
              "      <td>0</td>\n",
              "      <td>1</td>\n",
              "      <td>0</td>\n",
              "      <td>0</td>\n",
              "      <td>172480</td>\n",
              "      <td>2</td>\n",
              "      <td>0</td>\n",
              "      <td>32</td>\n",
              "      <td>5</td>\n",
              "    </tr>\n",
              "    <tr>\n",
              "      <th>1544</th>\n",
              "      <td>0</td>\n",
              "      <td>1</td>\n",
              "      <td>1</td>\n",
              "      <td>0</td>\n",
              "      <td>225000</td>\n",
              "      <td>1</td>\n",
              "      <td>0</td>\n",
              "      <td>28</td>\n",
              "      <td>3</td>\n",
              "    </tr>\n",
              "    <tr>\n",
              "      <th>1545</th>\n",
              "      <td>1</td>\n",
              "      <td>0</td>\n",
              "      <td>0</td>\n",
              "      <td>2</td>\n",
              "      <td>180000</td>\n",
              "      <td>4</td>\n",
              "      <td>0</td>\n",
              "      <td>36</td>\n",
              "      <td>6</td>\n",
              "    </tr>\n",
              "    <tr>\n",
              "      <th>1546</th>\n",
              "      <td>1</td>\n",
              "      <td>0</td>\n",
              "      <td>1</td>\n",
              "      <td>0</td>\n",
              "      <td>270000</td>\n",
              "      <td>2</td>\n",
              "      <td>0</td>\n",
              "      <td>41</td>\n",
              "      <td>1</td>\n",
              "    </tr>\n",
              "    <tr>\n",
              "      <th>1547</th>\n",
              "      <td>0</td>\n",
              "      <td>0</td>\n",
              "      <td>0</td>\n",
              "      <td>0</td>\n",
              "      <td>225000</td>\n",
              "      <td>2</td>\n",
              "      <td>0</td>\n",
              "      <td>45</td>\n",
              "      <td>7</td>\n",
              "    </tr>\n",
              "  </tbody>\n",
              "</table>\n",
              "</div>\n",
              "      <button class=\"colab-df-convert\" onclick=\"convertToInteractive('df-884f139c-3026-4cf4-8368-443acf9dc7ef')\"\n",
              "              title=\"Convert this dataframe to an interactive table.\"\n",
              "              style=\"display:none;\">\n",
              "        \n",
              "  <svg xmlns=\"http://www.w3.org/2000/svg\" height=\"24px\"viewBox=\"0 0 24 24\"\n",
              "       width=\"24px\">\n",
              "    <path d=\"M0 0h24v24H0V0z\" fill=\"none\"/>\n",
              "    <path d=\"M18.56 5.44l.94 2.06.94-2.06 2.06-.94-2.06-.94-.94-2.06-.94 2.06-2.06.94zm-11 1L8.5 8.5l.94-2.06 2.06-.94-2.06-.94L8.5 2.5l-.94 2.06-2.06.94zm10 10l.94 2.06.94-2.06 2.06-.94-2.06-.94-.94-2.06-.94 2.06-2.06.94z\"/><path d=\"M17.41 7.96l-1.37-1.37c-.4-.4-.92-.59-1.43-.59-.52 0-1.04.2-1.43.59L10.3 9.45l-7.72 7.72c-.78.78-.78 2.05 0 2.83L4 21.41c.39.39.9.59 1.41.59.51 0 1.02-.2 1.41-.59l7.78-7.78 2.81-2.81c.8-.78.8-2.07 0-2.86zM5.41 20L4 18.59l7.72-7.72 1.47 1.35L5.41 20z\"/>\n",
              "  </svg>\n",
              "      </button>\n",
              "      \n",
              "  <style>\n",
              "    .colab-df-container {\n",
              "      display:flex;\n",
              "      flex-wrap:wrap;\n",
              "      gap: 12px;\n",
              "    }\n",
              "\n",
              "    .colab-df-convert {\n",
              "      background-color: #E8F0FE;\n",
              "      border: none;\n",
              "      border-radius: 50%;\n",
              "      cursor: pointer;\n",
              "      display: none;\n",
              "      fill: #1967D2;\n",
              "      height: 32px;\n",
              "      padding: 0 0 0 0;\n",
              "      width: 32px;\n",
              "    }\n",
              "\n",
              "    .colab-df-convert:hover {\n",
              "      background-color: #E2EBFA;\n",
              "      box-shadow: 0px 1px 2px rgba(60, 64, 67, 0.3), 0px 1px 3px 1px rgba(60, 64, 67, 0.15);\n",
              "      fill: #174EA6;\n",
              "    }\n",
              "\n",
              "    [theme=dark] .colab-df-convert {\n",
              "      background-color: #3B4455;\n",
              "      fill: #D2E3FC;\n",
              "    }\n",
              "\n",
              "    [theme=dark] .colab-df-convert:hover {\n",
              "      background-color: #434B5C;\n",
              "      box-shadow: 0px 1px 3px 1px rgba(0, 0, 0, 0.15);\n",
              "      filter: drop-shadow(0px 1px 2px rgba(0, 0, 0, 0.3));\n",
              "      fill: #FFFFFF;\n",
              "    }\n",
              "  </style>\n",
              "\n",
              "      <script>\n",
              "        const buttonEl =\n",
              "          document.querySelector('#df-884f139c-3026-4cf4-8368-443acf9dc7ef button.colab-df-convert');\n",
              "        buttonEl.style.display =\n",
              "          google.colab.kernel.accessAllowed ? 'block' : 'none';\n",
              "\n",
              "        async function convertToInteractive(key) {\n",
              "          const element = document.querySelector('#df-884f139c-3026-4cf4-8368-443acf9dc7ef');\n",
              "          const dataTable =\n",
              "            await google.colab.kernel.invokeFunction('convertToInteractive',\n",
              "                                                     [key], {});\n",
              "          if (!dataTable) return;\n",
              "\n",
              "          const docLinkHtml = 'Like what you see? Visit the ' +\n",
              "            '<a target=\"_blank\" href=https://colab.research.google.com/notebooks/data_table.ipynb>data table notebook</a>'\n",
              "            + ' to learn more about interactive tables.';\n",
              "          element.innerHTML = '';\n",
              "          dataTable['output_type'] = 'display_data';\n",
              "          await google.colab.output.renderOutput(dataTable, element);\n",
              "          const docLink = document.createElement('div');\n",
              "          docLink.innerHTML = docLinkHtml;\n",
              "          element.appendChild(docLink);\n",
              "        }\n",
              "      </script>\n",
              "    </div>\n",
              "  </div>\n",
              "  "
            ]
          },
          "metadata": {},
          "execution_count": 37
        }
      ]
    },
    {
      "cell_type": "code",
      "source": [
        "# Split x and y for test and training\n",
        "X=Credit_card.drop([\"label\"],axis=1)\n",
        "y=Credit_card[\"label\"].values\n",
        "print(f\"Xshape:{X.shape} yshape:{y.shape}\")"
      ],
      "metadata": {
        "colab": {
          "base_uri": "https://localhost:8080/"
        },
        "id": "OMV944zMiZjI",
        "outputId": "5836a6f9-c5ec-46d4-e359-7dc4154dbfcb"
      },
      "execution_count": 38,
      "outputs": [
        {
          "output_type": "stream",
          "name": "stdout",
          "text": [
            "Xshape:(1282, 8) yshape:(1282,)\n"
          ]
        }
      ]
    },
    {
      "cell_type": "markdown",
      "source": [
        "#Split in Train and test "
      ],
      "metadata": {
        "id": "7DZDdjShjvzq"
      }
    },
    {
      "cell_type": "code",
      "source": [
        "X_train,X_test,y_train,y_test=train_test_split(X,y,test_size=0.25,random_state=42)\n",
        "print(f\"X_trainshape:{X_train.shape} y_trainshape:{y_train.shape}\")"
      ],
      "metadata": {
        "colab": {
          "base_uri": "https://localhost:8080/"
        },
        "id": "eQhzln6aiI58",
        "outputId": "69362fc7-5e7e-42b7-a299-4b4681056391"
      },
      "execution_count": 39,
      "outputs": [
        {
          "output_type": "stream",
          "name": "stdout",
          "text": [
            "X_trainshape:(961, 8) y_trainshape:(961,)\n"
          ]
        }
      ]
    },
    {
      "cell_type": "markdown",
      "source": [
        "#Logestic Regression"
      ],
      "metadata": {
        "id": "Y0IXATRskeQw"
      }
    },
    {
      "cell_type": "code",
      "source": [
        "model=LogisticRegression()\n",
        "model.fit(X_train,y_train)"
      ],
      "metadata": {
        "colab": {
          "base_uri": "https://localhost:8080/",
          "height": 74
        },
        "id": "4vmaS5PnlyaS",
        "outputId": "3353063a-c7e5-4fbe-a5c7-49166560b48a"
      },
      "execution_count": 40,
      "outputs": [
        {
          "output_type": "execute_result",
          "data": {
            "text/plain": [
              "LogisticRegression()"
            ],
            "text/html": [
              "<style>#sk-container-id-1 {color: black;background-color: white;}#sk-container-id-1 pre{padding: 0;}#sk-container-id-1 div.sk-toggleable {background-color: white;}#sk-container-id-1 label.sk-toggleable__label {cursor: pointer;display: block;width: 100%;margin-bottom: 0;padding: 0.3em;box-sizing: border-box;text-align: center;}#sk-container-id-1 label.sk-toggleable__label-arrow:before {content: \"▸\";float: left;margin-right: 0.25em;color: #696969;}#sk-container-id-1 label.sk-toggleable__label-arrow:hover:before {color: black;}#sk-container-id-1 div.sk-estimator:hover label.sk-toggleable__label-arrow:before {color: black;}#sk-container-id-1 div.sk-toggleable__content {max-height: 0;max-width: 0;overflow: hidden;text-align: left;background-color: #f0f8ff;}#sk-container-id-1 div.sk-toggleable__content pre {margin: 0.2em;color: black;border-radius: 0.25em;background-color: #f0f8ff;}#sk-container-id-1 input.sk-toggleable__control:checked~div.sk-toggleable__content {max-height: 200px;max-width: 100%;overflow: auto;}#sk-container-id-1 input.sk-toggleable__control:checked~label.sk-toggleable__label-arrow:before {content: \"▾\";}#sk-container-id-1 div.sk-estimator input.sk-toggleable__control:checked~label.sk-toggleable__label {background-color: #d4ebff;}#sk-container-id-1 div.sk-label input.sk-toggleable__control:checked~label.sk-toggleable__label {background-color: #d4ebff;}#sk-container-id-1 input.sk-hidden--visually {border: 0;clip: rect(1px 1px 1px 1px);clip: rect(1px, 1px, 1px, 1px);height: 1px;margin: -1px;overflow: hidden;padding: 0;position: absolute;width: 1px;}#sk-container-id-1 div.sk-estimator {font-family: monospace;background-color: #f0f8ff;border: 1px dotted black;border-radius: 0.25em;box-sizing: border-box;margin-bottom: 0.5em;}#sk-container-id-1 div.sk-estimator:hover {background-color: #d4ebff;}#sk-container-id-1 div.sk-parallel-item::after {content: \"\";width: 100%;border-bottom: 1px solid gray;flex-grow: 1;}#sk-container-id-1 div.sk-label:hover label.sk-toggleable__label {background-color: #d4ebff;}#sk-container-id-1 div.sk-serial::before {content: \"\";position: absolute;border-left: 1px solid gray;box-sizing: border-box;top: 0;bottom: 0;left: 50%;z-index: 0;}#sk-container-id-1 div.sk-serial {display: flex;flex-direction: column;align-items: center;background-color: white;padding-right: 0.2em;padding-left: 0.2em;position: relative;}#sk-container-id-1 div.sk-item {position: relative;z-index: 1;}#sk-container-id-1 div.sk-parallel {display: flex;align-items: stretch;justify-content: center;background-color: white;position: relative;}#sk-container-id-1 div.sk-item::before, #sk-container-id-1 div.sk-parallel-item::before {content: \"\";position: absolute;border-left: 1px solid gray;box-sizing: border-box;top: 0;bottom: 0;left: 50%;z-index: -1;}#sk-container-id-1 div.sk-parallel-item {display: flex;flex-direction: column;z-index: 1;position: relative;background-color: white;}#sk-container-id-1 div.sk-parallel-item:first-child::after {align-self: flex-end;width: 50%;}#sk-container-id-1 div.sk-parallel-item:last-child::after {align-self: flex-start;width: 50%;}#sk-container-id-1 div.sk-parallel-item:only-child::after {width: 0;}#sk-container-id-1 div.sk-dashed-wrapped {border: 1px dashed gray;margin: 0 0.4em 0.5em 0.4em;box-sizing: border-box;padding-bottom: 0.4em;background-color: white;}#sk-container-id-1 div.sk-label label {font-family: monospace;font-weight: bold;display: inline-block;line-height: 1.2em;}#sk-container-id-1 div.sk-label-container {text-align: center;}#sk-container-id-1 div.sk-container {/* jupyter's `normalize.less` sets `[hidden] { display: none; }` but bootstrap.min.css set `[hidden] { display: none !important; }` so we also need the `!important` here to be able to override the default hidden behavior on the sphinx rendered scikit-learn.org. See: https://github.com/scikit-learn/scikit-learn/issues/21755 */display: inline-block !important;position: relative;}#sk-container-id-1 div.sk-text-repr-fallback {display: none;}</style><div id=\"sk-container-id-1\" class=\"sk-top-container\"><div class=\"sk-text-repr-fallback\"><pre>LogisticRegression()</pre><b>In a Jupyter environment, please rerun this cell to show the HTML representation or trust the notebook. <br />On GitHub, the HTML representation is unable to render, please try loading this page with nbviewer.org.</b></div><div class=\"sk-container\" hidden><div class=\"sk-item\"><div class=\"sk-estimator sk-toggleable\"><input class=\"sk-toggleable__control sk-hidden--visually\" id=\"sk-estimator-id-1\" type=\"checkbox\" checked><label for=\"sk-estimator-id-1\" class=\"sk-toggleable__label sk-toggleable__label-arrow\">LogisticRegression</label><div class=\"sk-toggleable__content\"><pre>LogisticRegression()</pre></div></div></div></div></div>"
            ]
          },
          "metadata": {},
          "execution_count": 40
        }
      ]
    },
    {
      "cell_type": "markdown",
      "source": [
        "#Prediction of Training set"
      ],
      "metadata": {
        "id": "rjYLG6PQSru9"
      }
    },
    {
      "cell_type": "code",
      "source": [
        "prediction_train=model.predict(X_train)"
      ],
      "metadata": {
        "id": "sZBjC1NlmELN"
      },
      "execution_count": 41,
      "outputs": []
    },
    {
      "cell_type": "markdown",
      "source": [
        "#Accuracy of Trainning model"
      ],
      "metadata": {
        "id": "WjLPALC_Syj1"
      }
    },
    {
      "cell_type": "code",
      "source": [
        "Accuracy_train=accuracy_score(y_train,prediction_train)\n",
        "print(\"The Accuracy of training set is:\",Accuracy_train)"
      ],
      "metadata": {
        "colab": {
          "base_uri": "https://localhost:8080/"
        },
        "id": "K8qDKmvsmTo8",
        "outputId": "09c2b0bf-963f-4ef3-a63d-52583f4fc808"
      },
      "execution_count": 42,
      "outputs": [
        {
          "output_type": "stream",
          "name": "stdout",
          "text": [
            "The Accuracy of training set is: 0.8855359001040582\n"
          ]
        }
      ]
    },
    {
      "cell_type": "markdown",
      "source": [
        "#Prediction of Testing set"
      ],
      "metadata": {
        "id": "0mI-el2ITOu-"
      }
    },
    {
      "cell_type": "code",
      "source": [
        "prediction_test=model.predict(X_test)"
      ],
      "metadata": {
        "id": "6UAqWjAmm0iU"
      },
      "execution_count": 43,
      "outputs": []
    },
    {
      "cell_type": "markdown",
      "source": [
        "#Accuracy of Testing set"
      ],
      "metadata": {
        "id": "KuQ3HGJhTUWA"
      }
    },
    {
      "cell_type": "code",
      "source": [
        "Accuracy_test=accuracy_score(y_test,prediction_test)\n",
        "print(\"The Accuracy of testing set is:\",Accuracy_test)"
      ],
      "metadata": {
        "colab": {
          "base_uri": "https://localhost:8080/"
        },
        "id": "VftHo1fenWDQ",
        "outputId": "8c7e7b6c-b074-46dc-db60-ce6064677d2a"
      },
      "execution_count": 45,
      "outputs": [
        {
          "output_type": "stream",
          "name": "stdout",
          "text": [
            "The Accuracy of testing set is: 0.9065420560747663\n"
          ]
        }
      ]
    },
    {
      "cell_type": "markdown",
      "source": [
        "#Final Built the predictive model"
      ],
      "metadata": {
        "id": "4kh5g45AT54K"
      }
    },
    {
      "cell_type": "code",
      "source": [
        "prediction_2 = model.predict(np.array([0,0,1,0,315000,2,37,1]).reshape(1, -1))\n",
        "print(prediction_2)\n",
        "# if output is 0 application is approved\n",
        "if (prediction_2==0):\n",
        "  print(\"Application Approved\")\n",
        "else:\n",
        "  print(\"Application Rejected\")"
      ],
      "metadata": {
        "colab": {
          "base_uri": "https://localhost:8080/"
        },
        "id": "uSflyAMIos1O",
        "outputId": "51a2c88a-cdab-4d8b-a66e-7bcf4a3eac37"
      },
      "execution_count": 46,
      "outputs": [
        {
          "output_type": "stream",
          "name": "stdout",
          "text": [
            "[0]\n",
            "Application Approved\n"
          ]
        }
      ]
    }
  ]
}